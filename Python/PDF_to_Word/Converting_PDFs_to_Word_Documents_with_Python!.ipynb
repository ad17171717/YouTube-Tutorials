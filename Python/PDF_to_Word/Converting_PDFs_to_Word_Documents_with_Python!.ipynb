{
  "nbformat": 4,
  "nbformat_minor": 0,
  "metadata": {
    "colab": {
      "provenance": [],
      "authorship_tag": "ABX9TyNzHYDMzPcv6gFX0h7TS/sV",
      "include_colab_link": true
    },
    "kernelspec": {
      "name": "python3",
      "display_name": "Python 3"
    },
    "language_info": {
      "name": "python"
    }
  },
  "cells": [
    {
      "cell_type": "markdown",
      "metadata": {
        "id": "view-in-github",
        "colab_type": "text"
      },
      "source": [
        "<a href=\"https://colab.research.google.com/github/ad17171717/YouTube-Tutorials/blob/main/Python/PDF_to_Word/Converting_PDFs_to_Word_Documents_with_Python!.ipynb\" target=\"_parent\"><img src=\"https://colab.research.google.com/assets/colab-badge.svg\" alt=\"Open In Colab\"/></a>"
      ]
    },
    {
      "cell_type": "code",
      "source": [
        "!pip install pdf2docx"
      ],
      "metadata": {
        "id": "uGrvFfueBgH9"
      },
      "execution_count": null,
      "outputs": []
    },
    {
      "cell_type": "code",
      "source": [
        "from pdf2docx import Converter\n",
        "import os"
      ],
      "metadata": {
        "id": "rd2m6TOJeGpP"
      },
      "execution_count": 2,
      "outputs": []
    },
    {
      "cell_type": "markdown",
      "source": [
        "# **pdf2docx**\n",
        "\n",
        "**pdf2docx is a Python library to extract data from PDF with PyMuPDF, parse layout with rule, and generate docx files with python-docx.**"
      ],
      "metadata": {
        "id": "eQqQOgcDj_aK"
      }
    },
    {
      "cell_type": "markdown",
      "source": [
        "<sup/>Source: [pdf2docx](https://pdf2docx.readthedocs.io/en/latest/index.html) Documentation<sup>"
      ],
      "metadata": {
        "id": "jJYaO_VTkMnq"
      }
    },
    {
      "cell_type": "markdown",
      "source": [
        "## **Converting a Single PDF into a Word Document**"
      ],
      "metadata": {
        "id": "TRSlCWmxjEcr"
      }
    },
    {
      "cell_type": "code",
      "source": [
        "#create a folder to store the word documents\n",
        "os.mkdir('word_docs')"
      ],
      "metadata": {
        "id": "2udxWnrKl2tx"
      },
      "execution_count": 3,
      "outputs": []
    },
    {
      "cell_type": "code",
      "source": [
        "#retrieve the pdf file name in the current directory\n",
        "pdf_file = [pdf for pdf in os.listdir() if '.pdf' in pdf][0]\n",
        "#set the name/path for the word doc\n",
        "docx_file = 'word_docs/' + pdf_file.replace('.pdf','.docx')\n",
        "#read the pdf into the pdf2docx Converter class\n",
        "cv = Converter(pdf_file)\n",
        "#convert the pdf to a word doc\n",
        "cv.convert(docx_file, start=0, end=None)\n",
        "#close the conversion object\n",
        "cv.close()"
      ],
      "metadata": {
        "id": "3fFcffggePED"
      },
      "execution_count": 4,
      "outputs": []
    },
    {
      "cell_type": "markdown",
      "source": [
        "## **Converting Multiple PDFs into Word Documents**"
      ],
      "metadata": {
        "id": "yxtYFXGdj1hq"
      }
    },
    {
      "cell_type": "code",
      "source": [
        "os.mkdir('pdfs')\n",
        "#change into the pdfs directory\n",
        "os.chdir('/content/pdfs')"
      ],
      "metadata": {
        "id": "3AOWU3MCiWSb"
      },
      "execution_count": 5,
      "outputs": []
    },
    {
      "cell_type": "code",
      "source": [
        "#iterate over all the pdfs in the pdf directory\n",
        "for pdf_file in os.listdir():\n",
        "  docx_file = '/content/word_docs/' + pdf_file.replace('.pdf','.docx')\n",
        "  cv = Converter(pdf_file)\n",
        "  cv.convert(docx_file, start=0, end=None)\n",
        "\n",
        "cv.close()\n",
        "#change the working directory back to the content folder\n",
        "os.chdir('/content')"
      ],
      "metadata": {
        "id": "4oSmidDcmO-J"
      },
      "execution_count": 6,
      "outputs": []
    },
    {
      "cell_type": "markdown",
      "source": [
        "# **References and Additonal Learning**"
      ],
      "metadata": {
        "id": "OCBKVj8YkXzZ"
      }
    },
    {
      "cell_type": "markdown",
      "source": [
        "## **Documentation**\n",
        "\n",
        "- **[pdf2docx](https://pdf2docx.readthedocs.io/en/latest/index.html) Documentation**"
      ],
      "metadata": {
        "id": "4NfDOj6lkbPx"
      }
    },
    {
      "cell_type": "markdown",
      "source": [
        "## **Video**\n",
        "\n",
        "- **[Adobe Acrobat Pro! Converting PDFs to Word Documents](https://www.youtube.com/watch?v=icbQV3vB5FQ&ab_channel=AdrianDolinay) by Adrian Dolinay**"
      ],
      "metadata": {
        "id": "h14i03r9khXB"
      }
    },
    {
      "cell_type": "markdown",
      "source": [
        "# **Connect**\n",
        "- **Feel free to connect with Adrian on [YouTube](https://www.youtube.com/channel/UCPuDxI3xb_ryUUMfkm0jsRA), [LinkedIn](https://www.linkedin.com/in/adrian-dolinay-frm-96a289106/), [X](https://twitter.com/DolinayG), [GitHub](https://github.com/ad17171717), [Medium](https://adriandolinay.medium.com/) and [Odysee](https://odysee.com/@adriandolinay:0). Happy coding!**"
      ],
      "metadata": {
        "id": "840_FPI3laip"
      }
    }
  ]
}