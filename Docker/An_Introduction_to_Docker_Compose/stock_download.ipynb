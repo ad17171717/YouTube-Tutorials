{
 "cells": [
  {
   "cell_type": "code",
   "execution_count": 1,
   "id": "2d27224d-c67d-4e95-a7ca-3a1f94aaf0f7",
   "metadata": {},
   "outputs": [],
   "source": [
    "from getpass import getpass\n",
    "import pandas as pd\n",
    "import yfinance as yf\n",
    "from sqlalchemy import create_engine\n",
    "from sqlalchemy_utils import database_exists, create_database"
   ]
  },
  {
   "cell_type": "markdown",
   "id": "54f13b18-f2a6-463a-931b-36a033719eb6",
   "metadata": {},
   "source": [
    "# **Load the Stock Data into a pandas DataFrame**"
   ]
  },
  {
   "cell_type": "code",
   "execution_count": 2,
   "id": "5257bcad-51e5-4479-8c81-2b646c1851b5",
   "metadata": {
    "scrolled": true
   },
   "outputs": [
    {
     "name": "stderr",
     "output_type": "stream",
     "text": [
      "[*********************100%%**********************]  1 of 1 completed\n"
     ]
    },
    {
     "data": {
      "text/html": [
       "<div>\n",
       "<style scoped>\n",
       "    .dataframe tbody tr th:only-of-type {\n",
       "        vertical-align: middle;\n",
       "    }\n",
       "\n",
       "    .dataframe tbody tr th {\n",
       "        vertical-align: top;\n",
       "    }\n",
       "\n",
       "    .dataframe thead th {\n",
       "        text-align: right;\n",
       "    }\n",
       "</style>\n",
       "<table border=\"1\" class=\"dataframe\">\n",
       "  <thead>\n",
       "    <tr style=\"text-align: right;\">\n",
       "      <th></th>\n",
       "      <th>Open</th>\n",
       "      <th>High</th>\n",
       "      <th>Low</th>\n",
       "      <th>Close</th>\n",
       "      <th>Adj Close</th>\n",
       "      <th>Volume</th>\n",
       "    </tr>\n",
       "    <tr>\n",
       "      <th>Date</th>\n",
       "      <th></th>\n",
       "      <th></th>\n",
       "      <th></th>\n",
       "      <th></th>\n",
       "      <th></th>\n",
       "      <th></th>\n",
       "    </tr>\n",
       "  </thead>\n",
       "  <tbody>\n",
       "    <tr>\n",
       "      <th>2019-05-10</th>\n",
       "      <td>49.355000</td>\n",
       "      <td>49.712502</td>\n",
       "      <td>48.192501</td>\n",
       "      <td>49.294998</td>\n",
       "      <td>47.638988</td>\n",
       "      <td>164834800</td>\n",
       "    </tr>\n",
       "    <tr>\n",
       "      <th>2019-05-13</th>\n",
       "      <td>46.927502</td>\n",
       "      <td>47.369999</td>\n",
       "      <td>45.712502</td>\n",
       "      <td>46.430000</td>\n",
       "      <td>44.870247</td>\n",
       "      <td>229722400</td>\n",
       "    </tr>\n",
       "    <tr>\n",
       "      <th>2019-05-14</th>\n",
       "      <td>46.602501</td>\n",
       "      <td>47.424999</td>\n",
       "      <td>46.352501</td>\n",
       "      <td>47.165001</td>\n",
       "      <td>45.580563</td>\n",
       "      <td>146118800</td>\n",
       "    </tr>\n",
       "    <tr>\n",
       "      <th>2019-05-15</th>\n",
       "      <td>46.567501</td>\n",
       "      <td>47.937500</td>\n",
       "      <td>46.505001</td>\n",
       "      <td>47.730000</td>\n",
       "      <td>46.126568</td>\n",
       "      <td>106178800</td>\n",
       "    </tr>\n",
       "    <tr>\n",
       "      <th>2019-05-16</th>\n",
       "      <td>47.477501</td>\n",
       "      <td>48.117500</td>\n",
       "      <td>47.209999</td>\n",
       "      <td>47.520000</td>\n",
       "      <td>45.923630</td>\n",
       "      <td>132125600</td>\n",
       "    </tr>\n",
       "  </tbody>\n",
       "</table>\n",
       "</div>"
      ],
      "text/plain": [
       "                 Open       High        Low      Close  Adj Close     Volume\n",
       "Date                                                                        \n",
       "2019-05-10  49.355000  49.712502  48.192501  49.294998  47.638988  164834800\n",
       "2019-05-13  46.927502  47.369999  45.712502  46.430000  44.870247  229722400\n",
       "2019-05-14  46.602501  47.424999  46.352501  47.165001  45.580563  146118800\n",
       "2019-05-15  46.567501  47.937500  46.505001  47.730000  46.126568  106178800\n",
       "2019-05-16  47.477501  48.117500  47.209999  47.520000  45.923630  132125600"
      ]
     },
     "execution_count": 2,
     "metadata": {},
     "output_type": "execute_result"
    }
   ],
   "source": [
    "stock_data = yf.download('AAPL', period='5y')\n",
    "stock_data.head()"
   ]
  },
  {
   "cell_type": "markdown",
   "id": "27d27819-1e74-4f5a-8668-554ee561524d",
   "metadata": {},
   "source": [
    "# **Exporting the data to a MySQL database**"
   ]
  },
  {
   "cell_type": "markdown",
   "id": "fcfacc65-85b7-4022-81bf-2f61d4991e16",
   "metadata": {},
   "source": [
    "## **MySQL Connection Details**"
   ]
  },
  {
   "cell_type": "code",
   "execution_count": 3,
   "id": "d5037a9d-7f40-4e86-b1c1-26257fbb16c6",
   "metadata": {},
   "outputs": [
    {
     "name": "stdin",
     "output_type": "stream",
     "text": [
      "Input the password for MySQLs root\n",
      " ········\n"
     ]
    }
   ],
   "source": [
    "#mysql connection details\n",
    "username = 'root'\n",
    "password = getpass('Input the password for MySQLs root\\n')\n",
    "host = 'mysql'\n",
    "database = 'stock_db'\n",
    "port = '3306'"
   ]
  },
  {
   "cell_type": "markdown",
   "id": "49f6355f-b6dc-4105-946b-f2036311f456",
   "metadata": {},
   "source": [
    "## **Create the MySQL Engine**"
   ]
  },
  {
   "cell_type": "code",
   "execution_count": 4,
   "id": "acf0b829-133e-4b1c-b776-f3a3c80cdf02",
   "metadata": {},
   "outputs": [
    {
     "name": "stdout",
     "output_type": "stream",
     "text": [
      "Database exists.\n"
     ]
    }
   ],
   "source": [
    "#create an engine URL\n",
    "engine_url = f\"mysql+pymysql://{username}:{password}@{host}:{port}/\"\n",
    "\n",
    "#create an engine to check/create the database\n",
    "engine = create_engine(engine_url)\n",
    "\n",
    "database_url = f\"{engine_url}{database}\"\n",
    "if not database_exists(database_url):\n",
    "    print(\"Database does not exist, attempting to create it...\")\n",
    "    create_database(database_url)  # Use the correct full URL here\n",
    "else:\n",
    "    print(\"Database exists.\")\n",
    "\n",
    "#reconfigure the engine to include the database\n",
    "engine = create_engine(database_url)"
   ]
  },
  {
   "cell_type": "markdown",
   "id": "53242b0b-0e45-4362-b04a-82834898055f",
   "metadata": {},
   "source": [
    "## **Write the Data to MySQL**"
   ]
  },
  {
   "cell_type": "code",
   "execution_count": 5,
   "id": "aa52b598-4990-4142-b697-a1451794bd35",
   "metadata": {},
   "outputs": [
    {
     "data": {
      "text/plain": [
       "1259"
      ]
     },
     "execution_count": 5,
     "metadata": {},
     "output_type": "execute_result"
    }
   ],
   "source": [
    "#write the data to mysql\n",
    "stock_data.to_sql('my_table', con=engine, index=True, if_exists='replace')"
   ]
  },
  {
   "cell_type": "markdown",
   "id": "d29dd9bf-d7a8-40ee-8f3a-f914a26cbb00",
   "metadata": {},
   "source": [
    "# **References and Additional Learning**"
   ]
  },
  {
   "cell_type": "markdown",
   "id": "0fbe7554-e8fb-446d-8d5d-53acb9873f60",
   "metadata": {},
   "source": [
    "## **Documentation**\n",
    "\n",
    "- **[Docker Compose overview](https://docs.docker.com/compose/) from Docker.com**\n",
    "\n",
    "- **[MySQL Documentation](https://dev.mysql.com/doc/) from dev.mysql.com/doc/**\n",
    "\n",
    "- **[phpMyAdmin Documentation](https://www.phpmyadmin.net/docs/) from phpmyadmin.net/docs/**\n",
    "\n",
    "- **[Project Jupyter Documentation](https://docs.jupyter.org/en/latest/) from docs.jupyter.org**"
   ]
  },
  {
   "cell_type": "markdown",
   "id": "9691a48b-56fc-4245-8e9e-ee21e5dbb056",
   "metadata": {},
   "source": [
    "# **Connect**\n",
    "- **Feel free to connect with Adrian on [YouTube](https://www.youtube.com/channel/UCPuDxI3xb_ryUUMfkm0jsRA), [LinkedIn](https://www.linkedin.com/in/adrian-dolinay-frm-96a289106/), [X](https://twitter.com/DolinayG), [GitHub](https://github.com/ad17171717), [Medium](https://adriandolinay.medium.com/) and [Odysee](https://odysee.com/@adriandolinay:0). Happy coding!**"
   ]
  }
 ],
 "metadata": {
  "kernelspec": {
   "display_name": "Python 3 (ipykernel)",
   "language": "python",
   "name": "python3"
  },
  "language_info": {
   "codemirror_mode": {
    "name": "ipython",
    "version": 3
   },
   "file_extension": ".py",
   "mimetype": "text/x-python",
   "name": "python",
   "nbconvert_exporter": "python",
   "pygments_lexer": "ipython3",
   "version": "3.11.6"
  }
 },
 "nbformat": 4,
 "nbformat_minor": 5
}
