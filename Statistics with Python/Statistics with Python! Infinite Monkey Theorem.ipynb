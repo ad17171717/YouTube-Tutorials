{
 "cells": [
  {
   "cell_type": "code",
   "execution_count": 1,
   "metadata": {},
   "outputs": [],
   "source": [
    "import random\n",
    "import string\n",
    "import time\n",
    "import matplotlib.pyplot as plt"
   ]
  },
  {
   "cell_type": "markdown",
   "metadata": {},
   "source": [
    "# **Infinite Monkey Theorem**\n",
    "\n",
    "**The Infinite Monkey Theorem outlines a scenario where a monkey, given infinite time, will randomly type and reproduce any written text `almost surely`. For example a monkey will eventually randomly write the works of William Shakespeare given an infinite period of time.**\n",
    "\n",
    "**The basis of the theorem lies in Probability Theory. An event labeled as `almost surely` to happen means it will happen with a probability of 1 given an infinite number of trials. If the number of trials is finite, then the outcome that a monkey will write a Shakespeare work is no longer guaranteed and the probability is less than or equal to 1.** "
   ]
  },
  {
   "cell_type": "markdown",
   "metadata": {},
   "source": [
    "<sup>Source: [Probability and the Infinite Monkey Theorem\n",
    "](https://bpb-us-w2.wpmucdn.com/web.sas.upenn.edu/dist/e/952/files/2023/12/Marchlinski-Presentation-F23.pdf) by Dylan Marchlinski"
   ]
  },
  {
   "cell_type": "markdown",
   "metadata": {},
   "source": [
    "## **Mathematical Proof**\n",
    "\n",
    "**1. We assume that the keyboard has 26 keys represented by $\\large{k}$. There is an equal probability that the monkey will type any of the characters on the keyboard $\\large{\\frac{1}{k}}$.**\n",
    "\n",
    "**2. For a single trial the probability of typing the target text $\\large{T}$ depends on the numbers of keys in the keyboard $\\large{k}$ and the number of characters in the text $\\large{n}$: $\\large{P(T)=(\\frac{1}{k})^n=\\frac{1}{k^n}}$**\n",
    "\n",
    "**3. A successful outcome where the monkey correctly writes the text starting at the $\\large{i}$ th character is represented by $\\large{A_i}$. The probability of a successful event is given by $\\large{P(A_i)=\\frac{1}{k^n}}$. Since the trials are independent the joint probability of typing the text correctly in multiple independent trials is the product of individual probabilities: $\\large{P(A_1 \\cap A_2 \\cdots \\cap A_n) = P(A_1)\\cdot P(A_2) \\cdot \\ \\cdots \\ \\cdot P(A_n)}$**\n",
    "\n",
    "**4. Given an infinite series of keystrokes the probability that the text will be typed at least once is given by: $\\large{P(\\bigcup^{\\infty}_{i=1}A_i)}$**\n",
    "\n",
    "**5. Using the [Second Borel-Cantelli Lemma](https://proofwiki.org/wiki/Second_Borel-Cantelli_Lemma) we can show if the trials are infinite, $\\large{\\sum_{i=1}^{\\infty}P(A_i)=\\infty}$, and the events $\\large{A_i}$ are independent, then the probability that the text is typed by the monkey is almost surely $\\large{1}$: $\\large{P\\left( \\limsup\\limits_{i \\to \\infty} A_i \\right) = 1}$**\n",
    "\n",
    "**6. The probability of typing the text $\\large{T}$ in any specific block of $\\large{n}$ characters is given by: $\\large{P(T) = \\frac{1}{k^n}}$.**\n",
    "\n",
    "**Since there are infinitely many independent trials, the sum of the probabilities of all such events is: $\\large{\\sum_{i=1}^{\\infty} P(A_i) = \\sum_{i=1}^{\\infty} \\frac{1}{k^n} = \\infty}$**\n",
    "\n",
    "**This means that with infinite trials, the probability that the text will be typed at least once is 1, which guarantees that the text will be typed `almost surely`.**"
   ]
  },
  {
   "cell_type": "markdown",
   "metadata": {},
   "source": [
    "<sup>Source: [Monkeys and Walks](https://math.uchicago.edu/~may/VIGRE/VIGRE2006/PAPERS/Waliji.pdf) by Muhammad Waliji</sup>\n",
    "\n",
    "<sup>Source: [The Borel-Cantelli Lemma and the Growth Rate of Partial Maxima](https://sites.duke.edu/kits_team_101_48585/files/2023/03/The_Borel_Cantelli_Lemma_and_the_Growth_Rate_of_Partial_Maxima.pdf) by Qixuan Wang</sup>\n",
    "\n",
    "<sup>Source: [Second Borel-Cantelli Lemma](https://proofwiki.org/wiki/Second_Borel-Cantelli_Lemma) from proofwiki.org</sup>"
   ]
  },
  {
   "cell_type": "markdown",
   "metadata": {},
   "source": [
    "## **Applying the Concepts of the Infinite Monkey Theorem in Python**"
   ]
  },
  {
   "cell_type": "markdown",
   "metadata": {},
   "source": [
    "### **Finding the Number of Iterations Needed to Randomly Choose the Letters for a Target Words**\n",
    "\n",
    "**We will first create a function that estimates the number of iterations we need to randomly choose a target word. We can do this by taking the number of keys on a keyboard $\\large{k}$ and raising it by the number of keys by the length of the characters in a target word $\\large{n}$. This gives us $\\large{k^n}$. For this to be applicable we need to make the assumptions listed below.**\n",
    "\n",
    "**1. The number of keys within our keyboard is a finite set of characters. In this tutorail we are limiting the keys to the lowercase version of the English alphabet: $\\large{\\Sigma = {a,b,...,z}}$**\n",
    "\n",
    "**The total number of keys is represented by $k$: $\\large{|\\Sigma|=k=26}$**\n",
    "\n",
    "**2. The keystrokes that are selected need to be independent from each other. This means that if the letter `t` is typed, it will not affect the selection of the next letter. In our notation $P$ stands for the probability of selecting a certain key, $X_i$ is a random variable representing the first potential character at the $i$th key stroke and $x_i$ is the realized character at the $i$th key stroke.**\n",
    "\n",
    "$\\large{P(X_1=x_1,X_2=x_2,...,X_n=x_n) = P(X_1=x_1) \\cdot P(X_2=x_2) \\cdot \\ ... \\ \\cdot P(X_n=x_n)}$\n",
    "\n",
    "**3. The selection of a character needs to be uniform and randomly selected. The probability of selecting a specific character $\\large{c}$ in the set of characters $\\large{\\Sigma}$ for a given keystroke can be represented as: $\\large{P(X_i=c)=\\frac{1}{k}}$**"
   ]
  },
  {
   "cell_type": "markdown",
   "metadata": {},
   "source": [
    "<sup><sup>Source: [Probability in Computing](https://cs-people.bu.edu/januario/teaching/cs237/fa23/slides/lec13.pdf) by John Byers and Tiago Januario</sup>"
   ]
  },
  {
   "cell_type": "code",
   "execution_count": 2,
   "metadata": {},
   "outputs": [],
   "source": [
    "def num_iters_per_word(word:str, keyboard_size: int=26) -> int:\n",
    "\n",
    "    return (keyboard_size)**len(word)"
   ]
  },
  {
   "cell_type": "code",
   "execution_count": 3,
   "metadata": {},
   "outputs": [
    {
     "name": "stdout",
     "output_type": "stream",
     "text": [
      "It will take approximately 11,881,376 iterations to randomly generate the word \"chimp\"\n"
     ]
    }
   ],
   "source": [
    "target_word = 'chimp'\n",
    "\n",
    "print(f'It will take approximately {num_iters_per_word(target_word):,} iterations to randomly generate the word \"{target_word}\"')"
   ]
  },
  {
   "cell_type": "markdown",
   "metadata": {},
   "source": [
    "### **Computational Experiment: Number of Iterations to Generate a Target Word with Random Selections**\n",
    "\n",
    "**In this section we will see how many iterations it takes to generate a word randomly using Python. The `random.choices` function will select letters randomly from the alphabet uniformly. We expect our target word `chimp` to take approximately 11,881,376 iterations to generate.**"
   ]
  },
  {
   "cell_type": "code",
   "execution_count": 4,
   "metadata": {},
   "outputs": [
    {
     "name": "stdout",
     "output_type": "stream",
     "text": [
      "It took 32,028,388 iterations to randomly choose the word \"chimp\".\n",
      "It took 32 second(s) to generate the target word randomly.\n"
     ]
    }
   ],
   "source": [
    "letters = string.ascii_lowercase\n",
    "iterations = 0\n",
    "\n",
    "start_time = time.time()\n",
    "while True:\n",
    "    random_str = ''.join(random.choices(letters,k=len(target_word)))\n",
    "    iterations += 1\n",
    "    if random_str == target_word:\n",
    "        break\n",
    "end_time = time.time()\n",
    "\n",
    "print(f'It took {iterations:,} iterations to randomly choose the word \"{target_word}\".\\nIt took {end_time-start_time:.0f} second(s) to generate the target word randomly.')"
   ]
  },
  {
   "cell_type": "markdown",
   "metadata": {},
   "source": [
    "### **Graphing the Number of Iterations to Generate a 5 Letter Word**"
   ]
  },
  {
   "cell_type": "code",
   "execution_count": 5,
   "metadata": {},
   "outputs": [],
   "source": [
    "iteration_list = []\n",
    "\n",
    "for i in range(100):\n",
    "    iterations = 0\n",
    "    while True:\n",
    "        random_str = ''.join(random.choices(letters,k=len(target_word)))\n",
    "        iterations += 1\n",
    "        if random_str == target_word:\n",
    "            break\n",
    "    iteration_list.append(iterations)"
   ]
  },
  {
   "cell_type": "code",
   "execution_count": 7,
   "metadata": {},
   "outputs": [
    {
     "data": {
      "image/png": "[encoded data removed]",
      "text/plain": [
       "<Figure size 640x480 with 1 Axes>"
      ]
     },
     "metadata": {},
     "output_type": "display_data"
    }
   ],
   "source": [
    "plt.hist(iteration_list,edgecolor='black',bins=15)\n",
    "plt.axvline(x=num_iters_per_word(target_word), color='r', linestyle='--', label=f'Numeric Iteration Estimate: {num_iters_per_word(target_word):,}')\n",
    "plt.xlabel('Number of Iterations (Scientific Notation)')\n",
    "plt.ylabel('Count')\n",
    "plt.legend();"
   ]
  },
  {
   "cell_type": "markdown",
   "metadata": {},
   "source": [
    "### **Computational Experiment: Number of Iterations to Generate 2 Target Words with Random Selections**"
   ]
  },
  {
   "cell_type": "code",
   "execution_count": null,
   "metadata": {},
   "outputs": [],
   "source": [
    "multiple_targets = ['chimp','fun']\n",
    "\n"
   ]
  },
  {
   "cell_type": "markdown",
   "metadata": {},
   "source": [
    "# **References and Additional Learning**"
   ]
  },
  {
   "cell_type": "markdown",
   "metadata": {},
   "source": [
    "## **Academic Paper**\n",
    "\n",
    "- **[Monkeys and Walks](https://math.uchicago.edu/~may/VIGRE/VIGRE2006/PAPERS/Waliji.pdf) by Muhammad Waliji**"
   ]
  },
  {
   "cell_type": "markdown",
   "metadata": {},
   "source": [
    "## **Academic Presentations**\n",
    "\n",
    "- **[Probability and the Infinite Monkey Theorem\n",
    "](https://bpb-us-w2.wpmucdn.com/web.sas.upenn.edu/dist/e/952/files/2023/12/Marchlinski-Presentation-F23.pdf) by Dylan Marchlinski**\n",
    "\n",
    "- **[The Borel-Cantelli Lemma and the Growth Rate of Partial Maxima](https://sites.duke.edu/kits_team_101_48585/files/2023/03/The_Borel_Cantelli_Lemma_and_the_Growth_Rate_of_Partial_Maxima.pdf) by Qixuan Wang**\n",
    "\n",
    "- **[Probability in Computing](https://cs-people.bu.edu/januario/teaching/cs237/fa23/slides/lec13.pdf) by John Byers and Tiago Januario**"
   ]
  },
  {
   "cell_type": "markdown",
   "metadata": {},
   "source": [
    "## **Python Module**\n",
    "\n",
    "- **[`random` module](https://docs.python.org/3/library/random.html) from Python.org**"
   ]
  },
  {
   "cell_type": "markdown",
   "metadata": {},
   "source": [
    "## **Website**\n",
    "\n",
    "- **[Second Borel-Cantelli Lemma](https://proofwiki.org/wiki/Second_Borel-Cantelli_Lemma) from proofwiki.org**"
   ]
  },
  {
   "cell_type": "markdown",
   "metadata": {},
   "source": [
    "# **Connect**\n",
    "- **Feel free to connect with Adrian on [YouTube](https://www.youtube.com/channel/UCPuDxI3xb_ryUUMfkm0jsRA), [LinkedIn](https://www.linkedin.com/in/adrian-dolinay-frm-96a289106/), [X](https://twitter.com/DolinayG), [GitHub](https://github.com/ad17171717), [Medium](https://adriandolinay.medium.com/) and [Odysee](https://odysee.com/@adriandolinay:0). Happy coding!**"
   ]
  },
  {
   "cell_type": "markdown",
   "metadata": {},
   "source": [
    "# **Podcast**\n",
    "\n",
    "- **Check out Adrian's Podcast, The Aspiring STEM Geek on [YouTube](https://www.youtube.com/@AdrianDolinay/podcasts), [Spotify](https://open.spotify.com/show/60dPNJbDPaPw7ru8g5btxV), [Apple Podcasts](https://podcasts.apple.com/us/podcast/the-aspiring-stem-geek/id1765996824), [Audible](https://www.audible.com/podcast/The-Aspiring-STEM-Geek/B0DC73S9SN?eac_link=MCFKvkxuqKYU&ref=web_search_eac_asin_1&eac_selected_type=asin&eac_selected=B0DC73S9SN&qid=IrZ84nGqvz&eac_id=141-8769271-5781515_IrZ84nGqvz&sr=1-1) and [iHeart Radio](https://www.iheart.com/podcast/269-the-aspiring-stem-geek-202676097/)!**"
   ]
  }
 ],
 "metadata": {
  "kernelspec": {
   "display_name": "venv",
   "language": "python",
   "name": "venv"
  },
  "language_info": {
   "codemirror_mode": {
    "name": "ipython",
    "version": 3
   },
   "file_extension": ".py",
   "mimetype": "text/x-python",
   "name": "python",
   "nbconvert_exporter": "python",
   "pygments_lexer": "ipython3",
   "version": "3.11.4"
  }
 },
 "nbformat": 4,
 "nbformat_minor": 4
}
