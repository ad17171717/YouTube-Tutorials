{
  "cells": [
    {
      "cell_type": "markdown",
      "metadata": {
        "colab_type": "text",
        "id": "view-in-github"
      },
      "source": [
        "<a href=\"https://colab.research.google.com/github/ad17171717/YouTube-Tutorials/blob/main/Statistics%20with%20Python/Statistics_with_Python!_Calculating_a_Percent.ipynb\" target=\"_parent\"><img src=\"https://colab.research.google.com/assets/colab-badge.svg\" alt=\"Open In Colab\"/></a>"
      ]
    },
    {
      "cell_type": "markdown",
      "metadata": {
        "id": "jbhTd7oiYav3"
      },
      "source": [
        "# **Percent**\n",
        "\n",
        "**Percent means \"per one hundred\". Percents can be expressed with the percent sign %.**"
      ]
    },
    {
      "cell_type": "markdown",
      "metadata": {
        "id": "zqJzOM-UZO8V"
      },
      "source": [
        "<sup>[Conversions between percents, decimals, and fractions](https://wagner.nyu.edu/files/students/Math_Review_-_Review_topics_-_Percents.pdf) from NYU Wagner Graduate School of Public Service</sup>"
      ]
    },
    {
      "cell_type": "markdown",
      "metadata": {
        "id": "bXkh7qa7SHjU"
      },
      "source": [
        "## **Proportion**\n",
        "\n",
        "**For a proportion, a percent can range from 0% to 100%. For example, if a quiz has 10 questions and each question is worth 1 point, then 0 correct answers out of 10 is 0% $\\large{\\frac{0}{10} \\times 100}$, 5 correct answers out of 10 is 50% $\\large{\\frac{5}{10} \\times 100}$ and 10 correct answers out of 10 is 100% $\\large{\\frac{0}{10} \\times 100}$**"
      ]
    },
    {
      "cell_type": "code",
      "execution_count": null,
      "metadata": {
        "colab": {
          "base_uri": "https://localhost:8080/"
        },
        "id": "08LkPI8m779x",
        "outputId": "73f02117-9153-4f87-d2e9-fbb3d5bfd951"
      },
      "outputs": [
        {
          "name": "stdout",
          "output_type": "stream",
          "text": [
            "0.0%\n",
            "50.0%\n",
            "100.0%\n"
          ]
        }
      ],
      "source": [
        "print(f\"{(0/10)*100}%\")\n",
        "print(f\"{(5/10)*100}%\")\n",
        "print(f\"{(10/10)*100}%\")"
      ]
    },
    {
      "cell_type": "markdown",
      "metadata": {
        "id": "UBvr9ZggKGIZ"
      },
      "source": [
        "## **Negative Percent**\n",
        "\n",
        "**A percent can be negative if it reflects a rate of change.**\n",
        "\n",
        "**For example, if we have 20 students at the beginning of the semester in a Quantum Physics course, but 5 students drop the class, this is an example of a negative rate change.**\n",
        "\n",
        "**To calculate the rate as a percent, take the current value divide it by the previous value, subtract by one and multiply by one hundred.**\n",
        "\n",
        "$\\large{(\\frac{15}{20} - 1) \\times 100 = -25\\%}$\n",
        "\n",
        "**We can also find the percent for the rate by subtracting the current value by the previous value in the numerator, set the previous value as the denominator and multiply by 100**\n",
        "\n",
        "$\\large{(\\frac{15-20}{20}) \\times 100 = -25\\%}$\n",
        "\n",
        "**In this example the lower bound for the negative rate is $-100\\%$, which would mean all students drop from the class. There cannot be a percent value lower than this because you cannot have more students drop the class than are on the class  roster.**"
      ]
    },
    {
      "cell_type": "code",
      "execution_count": null,
      "metadata": {
        "colab": {
          "base_uri": "https://localhost:8080/"
        },
        "id": "pJDf_xdR7fcS",
        "outputId": "f4f6cf30-0e71-4012-e114-2b02368e7475"
      },
      "outputs": [
        {
          "name": "stdout",
          "output_type": "stream",
          "text": [
            "-25.0%\n"
          ]
        }
      ],
      "source": [
        "print(f'{((15/20)-1)*100}%')"
      ]
    },
    {
      "cell_type": "code",
      "execution_count": null,
      "metadata": {
        "colab": {
          "base_uri": "https://localhost:8080/"
        },
        "id": "M0RBygm77ffb",
        "outputId": "ba8e531f-af3c-44a6-d819-bcbbbd84f89c"
      },
      "outputs": [
        {
          "name": "stdout",
          "output_type": "stream",
          "text": [
            "-25.0%\n"
          ]
        }
      ],
      "source": [
        "print(f'{(15-20)/20*100}%')"
      ]
    },
    {
      "cell_type": "markdown",
      "metadata": {
        "id": "2My-VOBPgSHI"
      },
      "source": [
        "## **Python's Imprecision with Floating Point Number**\n",
        "\n",
        "**You may find if you try to find the percent change for a given number, Python will return an answer that is a bit off than what was expected. For example if 4 students drop out of a class of 20 we expect the rate of change to be: $\\large{(\\frac{16}{20} - 1) \\times 100 = -20\\%}$**\n",
        "\n",
        "**The way Python deals with floating point numbers (fractions) the output we receive is ${-19.999999999999996\\%}$. Python uses binary division to divide numbers. The explanation for this is beyond the scope of the tutorial, but for those that want a technical explanation I linked the [IEEE Standard for Floating-Point Arithmetic](https://standards.ieee.org/ieee/754/6210/).**\n",
        "\n",
        "**A way to adjust for this in Python is to use the `round` function. The round function takes two parameters: first the number that is being rounded is input, second the number of digits to round to.**"
      ]
    },
    {
      "cell_type": "markdown",
      "metadata": {
        "id": "wUOxw1dyjg-Z"
      },
      "source": [
        "<sup>[IEEE Standard for Floating-Point Arithmetic](https://standards.ieee.org/ieee/754/6210/) from the IEEE Standard Association</sup>"
      ]
    },
    {
      "cell_type": "code",
      "execution_count": null,
      "metadata": {
        "colab": {
          "base_uri": "https://localhost:8080/"
        },
        "id": "XbTU5YRO7hZT",
        "outputId": "5d066f55-bbf7-425e-ebb2-6b7701cb5d5b"
      },
      "outputs": [
        {
          "name": "stdout",
          "output_type": "stream",
          "text": [
            "-19.999999999999996%\n"
          ]
        }
      ],
      "source": [
        "print(f\"{((16/20)-1)*100}%\")"
      ]
    },
    {
      "cell_type": "code",
      "execution_count": null,
      "metadata": {
        "colab": {
          "base_uri": "https://localhost:8080/"
        },
        "id": "2b32zv647hda",
        "outputId": "d00b42d9-7bdd-49c3-bac8-c7ebe6f08178"
      },
      "outputs": [
        {
          "data": {
            "text/plain": [
              "-20.0"
            ]
          },
          "execution_count": 6,
          "metadata": {},
          "output_type": "execute_result"
        }
      ],
      "source": [
        "round(((16/20)-1)*100,0)"
      ]
    },
    {
      "cell_type": "markdown",
      "metadata": {
        "id": "aSj1oH5ImjjD"
      },
      "source": [
        "## **Percent Above 100%**\n",
        "\n",
        "**A percent can also be over 100% when it come to a rate of change.**\n",
        "\n",
        "**For example a Statistics class has 10 students. The course was well received by the students in the first class and 15 other students signed up for a total of 25 students. The rate of change 150%.**\n",
        "\n",
        "**Theoretically the upper bound for the growth rate is infinite ($\\infty$). In a practical application, the class's growth is probably limited to the number of chairs in the class.**\n",
        "\n",
        "$\\large{(\\frac{25}{10} - 1) \\times 100 = 150\\%}$\n",
        "\n",
        "$\\large{(\\frac{25-10}{10}) \\times 100 = 150\\%}$"
      ]
    },
    {
      "cell_type": "code",
      "execution_count": null,
      "metadata": {
        "colab": {
          "base_uri": "https://localhost:8080/"
        },
        "id": "7_0QspNt7ipC",
        "outputId": "29b78d76-957f-4379-b3cb-8bab43c6d700"
      },
      "outputs": [
        {
          "name": "stdout",
          "output_type": "stream",
          "text": [
            "150.0%\n"
          ]
        }
      ],
      "source": [
        "print(f'{((25/10)-1)*100}%')"
      ]
    },
    {
      "cell_type": "code",
      "execution_count": null,
      "metadata": {
        "colab": {
          "base_uri": "https://localhost:8080/"
        },
        "id": "VmcwOJDH7isS",
        "outputId": "7ad074e6-eedc-40d8-be20-087f053bc6b6"
      },
      "outputs": [
        {
          "name": "stdout",
          "output_type": "stream",
          "text": [
            "150.0%\n"
          ]
        }
      ],
      "source": [
        "print(f'{(25-10)/10*100}%')"
      ]
    },
    {
      "cell_type": "markdown",
      "metadata": {
        "id": "uuEmyoQwZm-l"
      },
      "source": [
        "# **References and Additional Learning**"
      ]
    },
    {
      "cell_type": "markdown",
      "metadata": {
        "id": "VPnGp-TRZ3yN"
      },
      "source": [
        "## **Academic Tutorial**\n",
        "\n",
        "- **[Conversions between percents, decimals, and fractions](https://wagner.nyu.edu/files/students/Math_Review_-_Review_topics_-_Percents.pdf) from NYU Wagner Graduate School of Public Service**"
      ]
    },
    {
      "cell_type": "markdown",
      "metadata": {
        "id": "_8KSoQLokPhS"
      },
      "source": [
        "## **Article**\n",
        "\n",
        "- **[IEEE Standard for Floating-Point Arithmetic](https://standards.ieee.org/ieee/754/6210/) from the IEEE Standard Association**"
      ]
    },
    {
      "cell_type": "markdown",
      "metadata": {
        "id": "7-w4IPKeZAUE"
      },
      "source": [
        "# **Connect**\n",
        "- **Feel free to connect with Adrian on [YouTube](https://www.youtube.com/channel/UCPuDxI3xb_ryUUMfkm0jsRA), [LinkedIn](https://www.linkedin.com/in/adrian-dolinay-frm-96a289106/), [X](https://twitter.com/DolinayG), [GitHub](https://github.com/ad17171717), [Medium](https://adriandolinay.medium.com/) and [Odysee](https://odysee.com/@adriandolinay:0). Happy coding!**"
      ]
    },
    {
      "cell_type": "markdown",
      "metadata": {
        "id": "sX3NsSl3ZA7E"
      },
      "source": [
        "# **Podcast**\n",
        "\n",
        "- **Check out Adrian's Podcast, The Aspiring STEM Geek on [YouTube](https://www.youtube.com/@AdrianDolinay/podcasts), [Spotify](https://open.spotify.com/show/60dPNJbDPaPw7ru8g5btxV), [Apple Podcasts](https://podcasts.apple.com/us/podcast/the-aspiring-stem-geek/id1765996824), [Audible](https://www.audible.com/podcast/The-Aspiring-STEM-Geek/B0DC73S9SN?eac_link=MCFKvkxuqKYU&ref=web_search_eac_asin_1&eac_selected_type=asin&eac_selected=B0DC73S9SN&qid=IrZ84nGqvz&eac_id=141-8769271-5781515_IrZ84nGqvz&sr=1-1) and [iHeart Radio](https://www.iheart.com/podcast/269-the-aspiring-stem-geek-202676097/)!**"
      ]
    }
  ],
  "metadata": {
    "colab": {
      "authorship_tag": "ABX9TyPc3VaLRWvVOcSQlijYwwdK",
      "include_colab_link": true,
      "provenance": []
    },
    "kernelspec": {
      "display_name": "Python 3",
      "name": "python3"
    },
    "language_info": {
      "name": "python"
    }
  },
  "nbformat": 4,
  "nbformat_minor": 0
}
