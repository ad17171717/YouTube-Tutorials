{
  "nbformat": 4,
  "nbformat_minor": 0,
  "metadata": {
    "colab": {
      "provenance": [],
      "authorship_tag": "ABX9TyN5BONq2LgQ04mYEbxXhi2w",
      "include_colab_link": true
    },
    "kernelspec": {
      "name": "python3",
      "display_name": "Python 3"
    },
    "language_info": {
      "name": "python"
    }
  },
  "cells": [
    {
      "cell_type": "markdown",
      "metadata": {
        "id": "view-in-github",
        "colab_type": "text"
      },
      "source": [
        "<a href=\"https://colab.research.google.com/github/ad17171717/YouTube-Tutorials/blob/main/Statistics%20with%20Python/Statistics_with_Python!_Calculating_a_Percent.ipynb\" target=\"_parent\"><img src=\"https://colab.research.google.com/assets/colab-badge.svg\" alt=\"Open In Colab\"/></a>"
      ]
    },
    {
      "cell_type": "markdown",
      "source": [
        "# **Percent**\n",
        "\n",
        "**Percent means \"per one hundred\". Percents can be expressed with the percent sign %.**"
      ],
      "metadata": {
        "id": "jbhTd7oiYav3"
      }
    },
    {
      "cell_type": "markdown",
      "source": [
        "<sup>[Conversions between percents, decimals, and fractions](https://wagner.nyu.edu/files/students/Math_Review_-_Review_topics_-_Percents.pdf) from NYU Wagner Graduate School of Public Service</sup>"
      ],
      "metadata": {
        "id": "zqJzOM-UZO8V"
      }
    },
    {
      "cell_type": "markdown",
      "source": [
        "## **Proportion**\n",
        "\n",
        "**For a proportion, a percent can range from 0% to 100%. For example, if a quiz has 10 questions and each question is worth 1 point, then 0 correct answers out of 10 is 0% $\\large{\\frac{0}{10} \\times 100}$, 5 correct answers out of 10 is 50% $\\large{\\frac{5}{10} \\times 100}$ and 10 correct answers out of 10 is 100% $\\large{\\frac{0}{10} \\times 100}$**"
      ],
      "metadata": {
        "id": "bXkh7qa7SHjU"
      }
    },
    {
      "cell_type": "code",
      "source": [
        "#we can print out percents in Python with string formatting\n",
        "print(f\"{(0/10)*100}%\")\n",
        "print(f\"{(5/10)*100}%\")\n",
        "print(f\"{(10/10)*100}%\")"
      ],
      "metadata": {
        "id": "ZJzdWQcTUtfC",
        "colab": {
          "base_uri": "https://localhost:8080/"
        },
        "outputId": "dc750d0e-3b8e-4667-cdb2-b5941cc1bf9a"
      },
      "execution_count": 1,
      "outputs": [
        {
          "output_type": "stream",
          "name": "stdout",
          "text": [
            "0.0%\n",
            "50.0%\n",
            "100.0%\n"
          ]
        }
      ]
    },
    {
      "cell_type": "markdown",
      "source": [
        "## **Negative Percent**\n",
        "\n",
        "**A percent can be negative if it reflects a rate of change.**\n",
        "\n",
        "**For example, if we have 20 students at the beginning of the semester in a Quantum Physics course, but 5 students drop the class, this is an example of a negative rate change.**\n",
        "\n",
        "**To calculate the rate as a percent, take the current value divide it by the previous value, subtract by one and multiply by one hundred.**\n",
        "\n",
        "$\\large{(\\frac{15}{20} - 1) \\times 100 = -25\\%}$\n",
        "\n",
        "**We can also find the percent for the rate by subtracting the previous value by the current value in the numerator, set the current value as the denominator and multiply by 100**\n",
        "\n",
        "$\\large{(\\frac{15-20}{20}) \\times 100 = -25\\%}$\n",
        "\n",
        "**In this example the lower bound for the negative rate is $-100\\%$, which would mean all students drop from the class. There cannot be a percent value lower than this because you cannot have more students drop the class than are on the class  roster.**"
      ],
      "metadata": {
        "id": "UBvr9ZggKGIZ"
      }
    },
    {
      "cell_type": "code",
      "source": [
        "print(f\"{((15/20)-1)*100}%\")"
      ],
      "metadata": {
        "id": "ZrrUaqLhUtiK",
        "colab": {
          "base_uri": "https://localhost:8080/"
        },
        "outputId": "b2000e71-5c83-4dd9-9146-dde4c68821da"
      },
      "execution_count": 2,
      "outputs": [
        {
          "output_type": "stream",
          "name": "stdout",
          "text": [
            "-25.0%\n"
          ]
        }
      ]
    },
    {
      "cell_type": "code",
      "source": [
        "print(f\"{(15-20)/20*100}%\")"
      ],
      "metadata": {
        "colab": {
          "base_uri": "https://localhost:8080/"
        },
        "id": "FMaJw9pPj9Mx",
        "outputId": "f6c9543a-4e66-41d2-8035-dd7333233dba"
      },
      "execution_count": 3,
      "outputs": [
        {
          "output_type": "stream",
          "name": "stdout",
          "text": [
            "-25.0%\n"
          ]
        }
      ]
    },
    {
      "cell_type": "markdown",
      "source": [
        "## **Python's Imprecision with Floating Point Number**\n",
        "\n",
        "**You may find if you try to find the percent change for a given number, Python will return an answer that is a bit off than what was expected. For example if 4 students drop out of a class of 20 we expect the rate of change to be: $\\large{(\\frac{16}{20} - 1) \\times 100 = -20\\%}$**\n",
        "\n",
        "**The way Python deals with floating point numbers (fractions) the output we receive is ${-19.999999999999996\\%}$. Python uses binary division to divide numbers. The explanation for this is beyond the scope of the tutorial, but for those that want a technical explanation I linked the [IEEE Standard for Floating-Point Arithmetic](https://standards.ieee.org/ieee/754/6210/).**\n",
        "\n",
        "**A way to adjust for this in Python is to use the `round` function. The round function takes two parameters: first the number that is being rounded is input, second the number of digits to round to.**"
      ],
      "metadata": {
        "id": "2My-VOBPgSHI"
      }
    },
    {
      "cell_type": "markdown",
      "source": [
        "<sup>[IEEE Standard for Floating-Point Arithmetic](https://standards.ieee.org/ieee/754/6210/) from the IEEE Standard Association</sup>"
      ],
      "metadata": {
        "id": "wUOxw1dyjg-Z"
      }
    },
    {
      "cell_type": "code",
      "source": [
        "print(f\"{((16/20)-1)*100}%\")"
      ],
      "metadata": {
        "id": "6HYXSYglUtlj",
        "colab": {
          "base_uri": "https://localhost:8080/"
        },
        "outputId": "d41caa47-1dc8-418d-d086-33c16c7234a4"
      },
      "execution_count": 4,
      "outputs": [
        {
          "output_type": "stream",
          "name": "stdout",
          "text": [
            "-19.999999999999996%\n"
          ]
        }
      ]
    },
    {
      "cell_type": "code",
      "source": [
        "#inputting 0 as the second parameter round to the nearest whole number\n",
        "round(((16/20)-1)*100,0)"
      ],
      "metadata": {
        "id": "L-0cBTu9ZAB8",
        "colab": {
          "base_uri": "https://localhost:8080/"
        },
        "outputId": "e4b39018-6a6f-4671-9e66-e774e3534eec"
      },
      "execution_count": 5,
      "outputs": [
        {
          "output_type": "execute_result",
          "data": {
            "text/plain": [
              "-20.0"
            ]
          },
          "metadata": {},
          "execution_count": 5
        }
      ]
    },
    {
      "cell_type": "markdown",
      "source": [
        "## **Percent Above 100%**\n",
        "\n",
        "**A percent can also be over 100% when it come to a rate of change.**\n",
        "\n",
        "**For example a Statistics class has 10 students. The course was well received by the students in the first class and 15 other students signed up for a total of 25 students. The rate of change 150%.**\n",
        "\n",
        "$\\large{(\\frac{25}{10} - 1) \\times 100 = 150\\%}$\n",
        "\n",
        "$\\large{(\\frac{25-10}{10}) \\times 100 = 150\\%}$"
      ],
      "metadata": {
        "id": "aSj1oH5ImjjD"
      }
    },
    {
      "cell_type": "code",
      "source": [
        "print(f\"{((25/10)-1)*100}%\")"
      ],
      "metadata": {
        "colab": {
          "base_uri": "https://localhost:8080/"
        },
        "id": "6QZlCgbwlLBb",
        "outputId": "1800d8dc-868d-44c5-b992-9ee09c8abb53"
      },
      "execution_count": 6,
      "outputs": [
        {
          "output_type": "stream",
          "name": "stdout",
          "text": [
            "150.0%\n"
          ]
        }
      ]
    },
    {
      "cell_type": "code",
      "source": [
        "print(f\"{(25-10)/10*100}%\")"
      ],
      "metadata": {
        "colab": {
          "base_uri": "https://localhost:8080/"
        },
        "id": "GQdZPB8ulLEi",
        "outputId": "23dca6db-bb1c-4324-db18-85f3052ae582"
      },
      "execution_count": 7,
      "outputs": [
        {
          "output_type": "stream",
          "name": "stdout",
          "text": [
            "150.0%\n"
          ]
        }
      ]
    },
    {
      "cell_type": "markdown",
      "source": [
        "# **References and Additional Learning**"
      ],
      "metadata": {
        "id": "uuEmyoQwZm-l"
      }
    },
    {
      "cell_type": "markdown",
      "source": [
        "## **Academic Tutorial**\n",
        "\n",
        "- **[Conversions between percents, decimals, and fractions](https://wagner.nyu.edu/files/students/Math_Review_-_Review_topics_-_Percents.pdf) from NYU Wagner Graduate School of Public Service**"
      ],
      "metadata": {
        "id": "VPnGp-TRZ3yN"
      }
    },
    {
      "cell_type": "markdown",
      "source": [
        "## **Article**\n",
        "\n",
        "- **[IEEE Standard for Floating-Point Arithmetic](https://standards.ieee.org/ieee/754/6210/) from the IEEE Standard Association**"
      ],
      "metadata": {
        "id": "_8KSoQLokPhS"
      }
    },
    {
      "cell_type": "markdown",
      "source": [
        "# **Connect**\n",
        "- **Feel free to connect with Adrian on [YouTube](https://www.youtube.com/channel/UCPuDxI3xb_ryUUMfkm0jsRA), [LinkedIn](https://www.linkedin.com/in/adrian-dolinay-frm-96a289106/), [X](https://twitter.com/DolinayG), [GitHub](https://github.com/ad17171717), [Medium](https://adriandolinay.medium.com/) and [Odysee](https://odysee.com/@adriandolinay:0). Happy coding!**"
      ],
      "metadata": {
        "id": "7-w4IPKeZAUE"
      }
    },
    {
      "cell_type": "markdown",
      "source": [
        "# **Podcast**\n",
        "\n",
        "- **Check out Adrian's Podcast, The Aspiring STEM Geek on [YouTube](https://www.youtube.com/@AdrianDolinay/podcasts), [Spotify](https://open.spotify.com/show/60dPNJbDPaPw7ru8g5btxV), [Apple Podcasts](https://podcasts.apple.com/us/podcast/the-aspiring-stem-geek/id1765996824), [Audible](https://www.audible.com/podcast/The-Aspiring-STEM-Geek/B0DC73S9SN?eac_link=MCFKvkxuqKYU&ref=web_search_eac_asin_1&eac_selected_type=asin&eac_selected=B0DC73S9SN&qid=IrZ84nGqvz&eac_id=141-8769271-5781515_IrZ84nGqvz&sr=1-1) and [iHeart Radio](https://www.iheart.com/podcast/269-the-aspiring-stem-geek-202676097/)!**"
      ],
      "metadata": {
        "id": "sX3NsSl3ZA7E"
      }
    }
  ]
}