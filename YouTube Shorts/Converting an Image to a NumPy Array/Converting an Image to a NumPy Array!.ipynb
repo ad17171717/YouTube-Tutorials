{
 "cells": [
  {
   "cell_type": "code",
   "execution_count": null,
   "id": "120c6455",
   "metadata": {},
   "outputs": [],
   "source": [
    "import matplotlib.pyplot as plt\n",
    "from PIL import Image\n",
    "import numpy as np"
   ]
  },
  {
   "cell_type": "markdown",
   "id": "c442fb8b",
   "metadata": {},
   "source": [
    "#### **Reading an Image to a NumPy Array with Matplotlib**"
   ]
  },
  {
   "cell_type": "code",
   "execution_count": null,
   "id": "3ca709a0",
   "metadata": {},
   "outputs": [],
   "source": [
    "img_array_1 = plt.imread('Boston-Terrier.jpg')\n",
    "print(img_array_1)"
   ]
  },
  {
   "cell_type": "markdown",
   "id": "3f66950f-38ab-43b6-9cb0-773151d27591",
   "metadata": {},
   "source": [
    "#### **Reading an Image to a NumPy Array with Pillow**"
   ]
  },
  {
   "cell_type": "code",
   "execution_count": null,
   "id": "d7198d43",
   "metadata": {},
   "outputs": [],
   "source": [
    "img_pil = Image.open('Boston-Terrier.jpg')\n",
    "img_array_2 = np.array(img_pil)\n",
    "print(img_array_2)"
   ]
  },
  {
   "cell_type": "markdown",
   "id": "922c3ed7-03a6-4a66-9bae-fa6587e0c1ad",
   "metadata": {},
   "source": [
    "# **References and Additional Learning**"
   ]
  },
  {
   "cell_type": "markdown",
   "id": "31f4ae3b-729e-4f7a-a5f9-32661a50b280",
   "metadata": {},
   "source": [
    "## **Documentation**\n",
    "\n",
    "- **[pandas.DataFrame.sample](https://pandas.pydata.org/docs/reference/api/pandas.DataFrame.sample.html) from pandas.pydata.org**"
   ]
  },
  {
   "cell_type": "markdown",
   "id": "512e5bd4-49f7-43dd-b968-e088ecae31f0",
   "metadata": {},
   "source": [
    "# **Connect**\n",
    "- **Feel free to connect with Adrian on [YouTube](https://www.youtube.com/channel/UCPuDxI3xb_ryUUMfkm0jsRA), [LinkedIn](https://www.linkedin.com/in/adrian-dolinay-frm-96a289106/), [X](https://twitter.com/DolinayG), [GitHub](https://github.com/ad17171717), [Medium](https://adriandolinay.medium.com/) and [Odysee](https://odysee.com/@adriandolinay:0). Happy coding!**"
   ]
  },
  {
   "cell_type": "markdown",
   "id": "2bcf3d97-d622-42eb-ad86-77baf85fcbd8",
   "metadata": {},
   "source": [
    "# **Podcast**\n",
    "\n",
    "- **Check out Adrian's Podcast, The Aspiring STEM Geek on [YouTube](https://www.youtube.com/@AdrianDolinay/podcasts), [Spotify](https://open.spotify.com/show/60dPNJbDPaPw7ru8g5btxV), [Apple Podcasts](https://podcasts.apple.com/us/podcast/the-aspiring-stem-geek/id1765996824), [Audible](https://www.audible.com/podcast/The-Aspiring-STEM-Geek/B0DC73S9SN?eac_link=MCFKvkxuqKYU&ref=web_search_eac_asin_1&eac_selected_type=asin&eac_selected=B0DC73S9SN&qid=IrZ84nGqvz&eac_id=141-8769271-5781515_IrZ84nGqvz&sr=1-1) and [iHeart Radio](https://www.iheart.com/podcast/269-the-aspiring-stem-geek-202676097/)!**"
   ]
  }
 ],
 "metadata": {
  "kernelspec": {
   "display_name": "datascience",
   "language": "python",
   "name": "datascience"
  },
  "language_info": {
   "codemirror_mode": {
    "name": "ipython",
    "version": 3
   },
   "file_extension": ".py",
   "mimetype": "text/x-python",
   "name": "python",
   "nbconvert_exporter": "python",
   "pygments_lexer": "ipython3",
   "version": "3.10.12"
  }
 },
 "nbformat": 4,
 "nbformat_minor": 5
}
