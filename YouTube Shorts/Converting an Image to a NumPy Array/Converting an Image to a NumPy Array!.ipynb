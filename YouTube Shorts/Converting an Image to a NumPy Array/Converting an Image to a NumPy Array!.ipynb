{
 "cells": [
  {
   "cell_type": "code",
   "execution_count": 1,
   "id": "1871255f-f5aa-4291-9977-88b74d84925a",
   "metadata": {},
   "outputs": [],
   "source": [
    "import matplotlib.pyplot as plt\n",
    "from PIL import Image\n",
    "import numpy as np"
   ]
  },
  {
   "cell_type": "markdown",
   "id": "f703f910-61e0-4308-9548-9e19e1b98fe3",
   "metadata": {},
   "source": [
    "#### **Reading an Image to a NumPy Array with Matplotlib**"
   ]
  },
  {
   "cell_type": "code",
   "execution_count": 2,
   "id": "ea6b24d0-e83b-4496-9afa-cfbdaba81b0c",
   "metadata": {},
   "outputs": [
    {
     "name": "stdout",
     "output_type": "stream",
     "text": [
      "[[[ 80 111  44]\n",
      "  [ 80 112  45]\n",
      "  [ 80 112  45]\n",
      "  ...\n",
      "  [ 92 118  55]\n",
      "  [ 91 117  54]\n",
      "  [ 90 116  53]]\n",
      "\n",
      " [[ 80 111  44]\n",
      "  [ 80 112  45]\n",
      "  [ 81 113  46]\n",
      "  ...\n",
      "  [ 92 118  55]\n",
      "  [ 91 117  54]\n",
      "  [ 91 117  54]]\n",
      "\n",
      " [[ 80 111  44]\n",
      "  [ 81 113  46]\n",
      "  [ 81 113  46]\n",
      "  ...\n",
      "  [ 93 117  55]\n",
      "  [ 93 117  55]\n",
      "  [ 92 116  54]]\n",
      "\n",
      " ...\n",
      "\n",
      " [[ 71  99  38]\n",
      "  [ 72 100  39]\n",
      "  [ 72 102  38]\n",
      "  ...\n",
      "  [ 69 102  31]\n",
      "  [ 66  99  30]\n",
      "  [ 64  96  29]]\n",
      "\n",
      " [[ 75 103  42]\n",
      "  [ 76 105  41]\n",
      "  [ 76 107  40]\n",
      "  ...\n",
      "  [ 70 101  31]\n",
      "  [ 67  98  30]\n",
      "  [ 66  97  30]]\n",
      "\n",
      " [[ 74 104  40]\n",
      "  [ 75 105  41]\n",
      "  [ 76 107  40]\n",
      "  ...\n",
      "  [ 69 100  30]\n",
      "  [ 67  98  30]\n",
      "  [ 66  96  32]]]\n"
     ]
    }
   ],
   "source": [
    "img_array_1 = plt.imread('Boston-Terrier.jpg')\n",
    "print(img_array_1)"
   ]
  },
  {
   "cell_type": "markdown",
   "id": "3f66950f-38ab-43b6-9cb0-773151d27591",
   "metadata": {},
   "source": [
    "#### **Reading an Image to a NumPy Array with Pillow**"
   ]
  },
  {
   "cell_type": "code",
   "execution_count": null,
   "id": "ccaaab85-84f6-44db-86b6-f6d89804d629",
   "metadata": {},
   "outputs": [
    {
     "ename": "NameError",
     "evalue": "name 'img_array_2' is not defined",
     "output_type": "error",
     "traceback": [
      "\u001b[0;31m---------------------------------------------------------------------------\u001b[0m",
      "\u001b[0;31mNameError\u001b[0m                                 Traceback (most recent call last)",
      "Cell \u001b[0;32mIn[3], line 3\u001b[0m\n\u001b[1;32m      1\u001b[0m img_pil \u001b[38;5;241m=\u001b[39m Image\u001b[38;5;241m.\u001b[39mopen(\u001b[38;5;124m'\u001b[39m\u001b[38;5;124mBoston-Terrier.jpg\u001b[39m\u001b[38;5;124m'\u001b[39m)\n\u001b[1;32m      2\u001b[0m image_array_2 \u001b[38;5;241m=\u001b[39m np\u001b[38;5;241m.\u001b[39marray(img_pil)\n\u001b[0;32m----> 3\u001b[0m \u001b[38;5;28mprint\u001b[39m(\u001b[43mimg_array_2\u001b[49m)\n",
      "\u001b[0;31mNameError\u001b[0m: name 'img_array_2' is not defined"
     ]
    }
   ],
   "source": [
    "img_pil = Image.open('Boston-Terrier.jpg')\n",
    "img_array_2 = np.array(img_pil)\n",
    "print(img_array_2)"
   ]
  },
  {
   "cell_type": "markdown",
   "id": "922c3ed7-03a6-4a66-9bae-fa6587e0c1ad",
   "metadata": {},
   "source": [
    "# **References and Additional Learning**"
   ]
  },
  {
   "cell_type": "markdown",
   "id": "31f4ae3b-729e-4f7a-a5f9-32661a50b280",
   "metadata": {},
   "source": [
    "## **Documentation**\n",
    "\n",
    "- **[pandas.DataFrame.sample](https://pandas.pydata.org/docs/reference/api/pandas.DataFrame.sample.html) from pandas.pydata.org**"
   ]
  },
  {
   "cell_type": "markdown",
   "id": "512e5bd4-49f7-43dd-b968-e088ecae31f0",
   "metadata": {},
   "source": [
    "# **Connect**\n",
    "- **Feel free to connect with Adrian on [YouTube](https://www.youtube.com/channel/UCPuDxI3xb_ryUUMfkm0jsRA), [LinkedIn](https://www.linkedin.com/in/adrian-dolinay-frm-96a289106/), [X](https://twitter.com/DolinayG), [GitHub](https://github.com/ad17171717), [Medium](https://adriandolinay.medium.com/) and [Odysee](https://odysee.com/@adriandolinay:0). Happy coding!**"
   ]
  },
  {
   "cell_type": "markdown",
   "id": "2bcf3d97-d622-42eb-ad86-77baf85fcbd8",
   "metadata": {},
   "source": [
    "# **Podcast**\n",
    "\n",
    "- **Check out Adrian's Podcast, The Aspiring STEM Geek on [YouTube](https://www.youtube.com/@AdrianDolinay/podcasts), [Spotify](https://open.spotify.com/show/60dPNJbDPaPw7ru8g5btxV), [Apple Podcasts](https://podcasts.apple.com/us/podcast/the-aspiring-stem-geek/id1765996824), [Audible](https://www.audible.com/podcast/The-Aspiring-STEM-Geek/B0DC73S9SN?eac_link=MCFKvkxuqKYU&ref=web_search_eac_asin_1&eac_selected_type=asin&eac_selected=B0DC73S9SN&qid=IrZ84nGqvz&eac_id=141-8769271-5781515_IrZ84nGqvz&sr=1-1) and [iHeart Radio](https://www.iheart.com/podcast/269-the-aspiring-stem-geek-202676097/)!**"
   ]
  }
 ],
 "metadata": {
  "kernelspec": {
   "display_name": "datascience",
   "language": "python",
   "name": "datascience"
  },
  "language_info": {
   "codemirror_mode": {
    "name": "ipython",
    "version": 3
   },
   "file_extension": ".py",
   "mimetype": "text/x-python",
   "name": "python",
   "nbconvert_exporter": "python",
   "pygments_lexer": "ipython3",
   "version": "3.10.12"
  }
 },
 "nbformat": 4,
 "nbformat_minor": 5
}
