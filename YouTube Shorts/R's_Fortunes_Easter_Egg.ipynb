{
  "nbformat": 4,
  "nbformat_minor": 0,
  "metadata": {
    "colab": {
      "provenance": [],
      "authorship_tag": "ABX9TyOlkQ9hUPK04VTxNxdrVfks",
      "include_colab_link": true
    },
    "kernelspec": {
      "name": "ir",
      "display_name": "R"
    },
    "language_info": {
      "name": "R"
    }
  },
  "cells": [
    {
      "cell_type": "markdown",
      "metadata": {
        "id": "view-in-github",
        "colab_type": "text"
      },
      "source": [
        "<a href=\"https://colab.research.google.com/github/ad17171717/YouTube-Tutorials/blob/main/YouTube%20Shorts/R's_Fortunes_Easter_Egg.ipynb\" target=\"_parent\"><img src=\"https://colab.research.google.com/assets/colab-badge.svg\" alt=\"Open In Colab\"/></a>"
      ]
    },
    {
      "cell_type": "code",
      "source": [
        "install.packages(\"fortunes\");"
      ],
      "metadata": {
        "id": "2lUj8LIr7GNx",
        "colab": {
          "base_uri": "https://localhost:8080/"
        },
        "outputId": "08ebb9ec-31f2-4d7b-8ce5-d6b39d557826"
      },
      "execution_count": 1,
      "outputs": [
        {
          "output_type": "stream",
          "name": "stderr",
          "text": [
            "Installing package into ‘/usr/local/lib/R/site-library’\n",
            "(as ‘lib’ is unspecified)\n",
            "\n"
          ]
        }
      ]
    },
    {
      "cell_type": "code",
      "source": [
        "library(fortunes);"
      ],
      "metadata": {
        "id": "bXgk52j9Iz4e"
      },
      "execution_count": 2,
      "outputs": []
    },
    {
      "cell_type": "code",
      "source": [
        "fortune()"
      ],
      "metadata": {
        "id": "j5336ZbWI2Ji",
        "colab": {
          "base_uri": "https://localhost:8080/",
          "height": 160
        },
        "outputId": "ce1c3bae-9b35-48ec-fab7-5f8340dfb8ff"
      },
      "execution_count": 7,
      "outputs": [
        {
          "output_type": "display_data",
          "data": {
            "text/plain": [
              "\n",
              "Whoops! I read that e+24 as e-24, so scrub all that I said.\n",
              "(You'd think, that having seen Bill Venables make a similar error -- which he\n",
              "corrected in the follow-up posting to which I was replying -- I would've been\n",
              "more careful. Well, you'd think wrong. Actually it *was* e-24 when I posted;\n",
              "then the Gremlins got in and changed everything. :-) )\n",
              "   -- Rolf Turner (discussing that f.root from uniroot() is (not) almost zero)\n",
              "      R-help (May 2008)\n"
            ]
          },
          "metadata": {}
        }
      ]
    }
  ]
}