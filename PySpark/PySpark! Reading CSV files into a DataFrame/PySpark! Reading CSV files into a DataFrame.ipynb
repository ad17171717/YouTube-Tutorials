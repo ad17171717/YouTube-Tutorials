{
 "cells": [
  {
   "cell_type": "code",
   "execution_count": 1,
   "id": "576ff2a7-d3c5-4dd2-9d95-f6fed677db34",
   "metadata": {},
   "outputs": [],
   "source": [
    "import os\n",
    "import time\n",
    "import pandas as pd\n",
    "import matplotlib.pyplot as plt\n",
    "from pyspark.sql import SparkSession\n",
    "from pyspark.sql.types import StructType, StructField, IntegerType, StringType"
   ]
  },
  {
   "cell_type": "markdown",
   "id": "a77ba6b4-630f-4032-a9a7-92b273b19c8c",
   "metadata": {},
   "source": [
    "## **Initializing a SparkSession**\n",
    "\n",
    "**A `SparkSession` is a class from the PySpark module. It is the entrypoint to working with Apache Spark. This will allow us to create a PySpark DataFrame where we will read in data from our CSV files.**"
   ]
  },
  {
   "cell_type": "markdown",
   "id": "aaf17380-bee1-41d6-81d5-768157b85827",
   "metadata": {},
   "source": [
    "<sup>Source: [pyspark.sql.SparkSession](https://spark.apache.org/docs/latest/api/python/reference/pyspark.sql/api/pyspark.sql.SparkSession.html) from Spark.Apache.org<sup/>"
   ]
  },
  {
   "cell_type": "code",
   "execution_count": 2,
   "id": "7978276f-239c-412d-a830-1ab2fb1b600d",
   "metadata": {
    "scrolled": true
   },
   "outputs": [
    {
     "name": "stderr",
     "output_type": "stream",
     "text": [
      "24/04/01 11:23:23 WARN Utils: Your hostname, adrian resolves to a loopback address: 127.0.1.1; using 192.168.137.141 instead (on interface ens33)\n",
      "24/04/01 11:23:23 WARN Utils: Set SPARK_LOCAL_IP if you need to bind to another address\n",
      "Setting default log level to \"WARN\".\n",
      "To adjust logging level use sc.setLogLevel(newLevel). For SparkR, use setLogLevel(newLevel).\n",
      "24/04/01 11:23:24 WARN NativeCodeLoader: Unable to load native-hadoop library for your platform... using builtin-java classes where applicable\n"
     ]
    }
   ],
   "source": [
    "spark = SparkSession.builder \\\n",
    "        .appName(\"test\") \\\n",
    "        .getOrCreate()"
   ]
  },
  {
   "cell_type": "code",
   "execution_count": 3,
   "id": "023b7cb3-eeba-4eb0-b969-deccae06a778",
   "metadata": {},
   "outputs": [
    {
     "name": "stdout",
     "output_type": "stream",
     "text": [
      "The size of the job_summary.csv file is 4,865.66 MB\n",
      "The size of the job_skills.csv file is 641.55 MB\n"
     ]
    }
   ],
   "source": [
    "#list all the csv files in the current directory as well as the size of the files in megabytes\n",
    "for file in os.listdir():\n",
    "    if '.csv' in file:\n",
    "        print(f'The size of the {file} file is {os.stat(file).st_size/(1024 * 1024):,.2f} MB')"
   ]
  },
  {
   "cell_type": "code",
   "execution_count": 4,
   "id": "2c18feca-274b-4c54-9579-4df8ba7fbac2",
   "metadata": {},
   "outputs": [
    {
     "name": "stdout",
     "output_type": "stream",
     "text": [
      "The size of the 16500000.csv file is 670.86 MB\n",
      "The size of the 3000000.csv file is 112.00 MB\n",
      "The size of the 22500000.csv file is 934.07 MB\n",
      "The size of the 21000000.csv file is 868.27 MB\n",
      "The size of the 6000000.csv file is 229.31 MB\n",
      "The size of the 24000000.csv file is 999.87 MB\n",
      "The size of the 12000000.csv file is 473.45 MB\n",
      "The size of the 19500000.csv file is 802.46 MB\n",
      "The size of the 18000000.csv file is 736.66 MB\n",
      "The size of the 9000000.csv file is 346.61 MB\n",
      "The size of the 4500000.csv file is 170.65 MB\n",
      "The size of the 7500000.csv file is 287.96 MB\n",
      "The size of the 13500000.csv file is 539.25 MB\n",
      "The size of the 10500000.csv file is 407.64 MB\n",
      "The size of the 1500000.csv file is 53.35 MB\n",
      "The size of the 15000000.csv file is 605.05 MB\n"
     ]
    }
   ],
   "source": [
    "#list all the csv files in the read_test directory as well as the size of the files in megabytes\n",
    "for file in os.listdir('read_test'):\n",
    "    if '.csv' in file:\n",
    "        print(f'The size of the {file} file is {os.stat(\"read_test/\"+file).st_size/(1024 * 1024):,.2f} MB')"
   ]
  },
  {
   "cell_type": "markdown",
   "id": "da9fba99-2e8c-41f0-8b33-d6943bda8182",
   "metadata": {},
   "source": [
    "## **Reading a CSV File into a PySpark DataFrame**"
   ]
  },
  {
   "cell_type": "code",
   "execution_count": 5,
   "id": "c9c7a4f9-e501-4882-8e6e-4ea20da1f5fd",
   "metadata": {},
   "outputs": [
    {
     "name": "stderr",
     "output_type": "stream",
     "text": [
      "                                                                                \r"
     ]
    }
   ],
   "source": [
    "#read in the csv file into a PySpark DataFrame\n",
    "spark_df = spark.read.csv('job_skills.csv', header=True, inferSchema=True)"
   ]
  },
  {
   "cell_type": "code",
   "execution_count": 6,
   "id": "215ccd28-ee55-480b-8f2d-55312bd20be9",
   "metadata": {},
   "outputs": [
    {
     "name": "stdout",
     "output_type": "stream",
     "text": [
      "+--------------------+--------------------+\n",
      "|            job_link|          job_skills|\n",
      "+--------------------+--------------------+\n",
      "|https://www.linke...|Building Custodia...|\n",
      "|https://www.linke...|Customer service,...|\n",
      "|https://www.linke...|Applied Behavior ...|\n",
      "|https://www.linke...|Electrical Engine...|\n",
      "|https://www.linke...|Electrical Assemb...|\n",
      "+--------------------+--------------------+\n",
      "only showing top 5 rows\n",
      "\n"
     ]
    }
   ],
   "source": [
    "#display columns and first 5 rows\n",
    "spark_df.show(5)"
   ]
  },
  {
   "cell_type": "code",
   "execution_count": 7,
   "id": "db2d31ea-99f6-4686-ba1c-554801f9f0be",
   "metadata": {},
   "outputs": [
    {
     "name": "stderr",
     "output_type": "stream",
     "text": [
      "[Stage 3:>                                                          (0 + 8) / 8]\r"
     ]
    },
    {
     "name": "stdout",
     "output_type": "stream",
     "text": [
      "There are 2 columns and 1,296,381 rows in the PySpark DataFrame\n"
     ]
    },
    {
     "name": "stderr",
     "output_type": "stream",
     "text": [
      "                                                                                \r"
     ]
    }
   ],
   "source": [
    "print(f'There are {len(spark_df.columns)} columns and {spark_df.count():,} rows in the PySpark DataFrame')"
   ]
  },
  {
   "cell_type": "code",
   "execution_count": 8,
   "id": "9932c5b4-aeb1-4f7b-93ff-3eb92e529116",
   "metadata": {},
   "outputs": [
    {
     "name": "stdout",
     "output_type": "stream",
     "text": [
      "root\n",
      " |-- job_link: string (nullable = true)\n",
      " |-- job_skills: string (nullable = true)\n",
      "\n"
     ]
    }
   ],
   "source": [
    "#output the data types for the columns with the built-in printSchema function\n",
    "spark_df.printSchema()"
   ]
  },
  {
   "cell_type": "markdown",
   "id": "c4c5be3e-7f25-49a8-ac21-47293381b13b",
   "metadata": {},
   "source": [
    "## **Using a Schema for a PySpark DataFrame**\n",
    "\n",
    "**Within Apache Spark a `schema` provides the data format for a DataFrame or a Dataset.**\n",
    "\n",
    "**For our `schema`, we will first set our `StructType` which is a set of `StructField`s. A `StructField` contains information for a given column including the column name (`name`), the type of data within the rows (`dataType`) and whether or not the row can contain a null value (`nullable`).**"
   ]
  },
  {
   "cell_type": "code",
   "execution_count": 9,
   "id": "ebc3aee5-707c-4627-ab0f-e87243273376",
   "metadata": {},
   "outputs": [],
   "source": [
    "schema = StructType([\n",
    "    StructField('Column 1', IntegerType(), True),\n",
    "    StructField('Column 2', IntegerType(), True),\n",
    "    StructField('Column 3', IntegerType(), True),\n",
    "    StructField('Column 4', IntegerType(), True),\n",
    "    StructField('Column 5', IntegerType(), True)])"
   ]
  },
  {
   "cell_type": "code",
   "execution_count": 10,
   "id": "707d1d4a-b0d9-47f0-a8db-ba38ab89e78e",
   "metadata": {},
   "outputs": [],
   "source": [
    "spark_df2 = spark.read.csv('read_test/3000000.csv', schema=schema, header=True)"
   ]
  },
  {
   "cell_type": "code",
   "execution_count": 11,
   "id": "e66d03f8-3fe7-4df6-9cb3-e659e74f455d",
   "metadata": {},
   "outputs": [
    {
     "name": "stdout",
     "output_type": "stream",
     "text": [
      "+--------+--------+--------+--------+--------+\n",
      "|Column 1|Column 2|Column 3|Column 4|Column 5|\n",
      "+--------+--------+--------+--------+--------+\n",
      "|       0|       0|       0|       0|       0|\n",
      "|       1|       1|       1|       1|       1|\n",
      "|       2|       2|       2|       2|       2|\n",
      "|       3|       3|       3|       3|       3|\n",
      "|       4|       4|       4|       4|       4|\n",
      "+--------+--------+--------+--------+--------+\n",
      "only showing top 5 rows\n",
      "\n"
     ]
    }
   ],
   "source": [
    "spark_df2.show(5)"
   ]
  },
  {
   "cell_type": "code",
   "execution_count": 12,
   "id": "4a77e1b5-33c4-4436-95ab-ff792c94c4f6",
   "metadata": {},
   "outputs": [
    {
     "name": "stderr",
     "output_type": "stream",
     "text": [
      "[Stage 7:======================>                                    (3 + 5) / 8]\r"
     ]
    },
    {
     "name": "stdout",
     "output_type": "stream",
     "text": [
      "There are 5 columns and 3,000,000 rows in the PySpark DataFrame\n"
     ]
    },
    {
     "name": "stderr",
     "output_type": "stream",
     "text": [
      "                                                                                \r"
     ]
    }
   ],
   "source": [
    "print(f'There are {len(spark_df2.columns)} columns and {spark_df2.count():,} rows in the PySpark DataFrame')"
   ]
  },
  {
   "cell_type": "markdown",
   "id": "2a647e33-aecf-4569-acf4-3a8fafb2a67a",
   "metadata": {},
   "source": [
    "## **Reading Multiple CSV Files into a Single PySpark DataFrame**"
   ]
  },
  {
   "cell_type": "code",
   "execution_count": 13,
   "id": "ae628a3b-3b31-4c50-a7df-cb5359c456b2",
   "metadata": {},
   "outputs": [],
   "source": [
    "#list of all the csv files in the \"read_test\" directory\n",
    "csv_files = ['read_test/' + num +'.csv' for num in sorted([file.replace('.csv','') for file in os.listdir('read_test') if '.csv' in file],key=int)]"
   ]
  },
  {
   "cell_type": "code",
   "execution_count": 14,
   "id": "cac5232c-0714-46a7-b62a-08ebf6317986",
   "metadata": {},
   "outputs": [],
   "source": [
    "#list of the size of the csv files in megabytes\n",
    "csv_file_size = [os.path.getsize(csv)/(1024 * 1024) for csv in csv_files]"
   ]
  },
  {
   "cell_type": "code",
   "execution_count": 15,
   "id": "2bdfa8f5-4f03-4a76-967d-f793818724e6",
   "metadata": {},
   "outputs": [
    {
     "name": "stdout",
     "output_type": "stream",
     "text": [
      "The total size of all the CSV files in the read_test directory is 8,237.47 MB\n"
     ]
    }
   ],
   "source": [
    "print(f'The total size of all the CSV files in the read_test directory is {sum(csv_file_size):,.2f} MB')"
   ]
  },
  {
   "cell_type": "code",
   "execution_count": 16,
   "id": "b0d17485-585a-43a3-92e4-e2caf48a1d03",
   "metadata": {},
   "outputs": [],
   "source": [
    "spark_df3 = spark.read.csv(csv_files, schema=schema, header=True)"
   ]
  },
  {
   "cell_type": "code",
   "execution_count": 17,
   "id": "2bbfe3a7-4552-4460-9882-1364d9e74e21",
   "metadata": {},
   "outputs": [
    {
     "name": "stdout",
     "output_type": "stream",
     "text": [
      "+--------+--------+--------+--------+--------+\n",
      "|Column 1|Column 2|Column 3|Column 4|Column 5|\n",
      "+--------+--------+--------+--------+--------+\n",
      "|       0|       0|       0|       0|       0|\n",
      "|       1|       1|       1|       1|       1|\n",
      "|       2|       2|       2|       2|       2|\n",
      "|       3|       3|       3|       3|       3|\n",
      "|       4|       4|       4|       4|       4|\n",
      "+--------+--------+--------+--------+--------+\n",
      "only showing top 5 rows\n",
      "\n"
     ]
    }
   ],
   "source": [
    "spark_df3.show(5)"
   ]
  },
  {
   "cell_type": "code",
   "execution_count": 18,
   "id": "81a91250-85d9-4f9a-94b7-d5d4cce39b9d",
   "metadata": {},
   "outputs": [
    {
     "name": "stderr",
     "output_type": "stream",
     "text": [
      "[Stage 11:=======================================================>(66 + 1) / 67]\r"
     ]
    },
    {
     "name": "stdout",
     "output_type": "stream",
     "text": [
      "There are 5 columns and 204,000,000 rows in the PySpark DataFrame\n"
     ]
    },
    {
     "name": "stderr",
     "output_type": "stream",
     "text": [
      "                                                                                \r"
     ]
    }
   ],
   "source": [
    "print(f'There are {len(spark_df3.columns)} columns and {spark_df3.count():,} rows in the PySpark DataFrame')"
   ]
  },
  {
   "cell_type": "markdown",
   "id": "707aaed0-0c8d-4635-a336-8a8dbb6c14b5",
   "metadata": {},
   "source": [
    "## **Comparing PySpark and pandas Read Times**"
   ]
  },
  {
   "cell_type": "code",
   "execution_count": 19,
   "id": "5513ddc4-01d4-45c7-9bbf-e471bee6a4fd",
   "metadata": {},
   "outputs": [
    {
     "name": "stderr",
     "output_type": "stream",
     "text": [
      "                                                                                \r"
     ]
    },
    {
     "name": "stdout",
     "output_type": "stream",
     "text": [
      "946 ms ± 84.1 ms per loop (mean ± std. dev. of 7 runs, 1 loop each)\n"
     ]
    },
    {
     "name": "stderr",
     "output_type": "stream",
     "text": [
      "                                                                                \r"
     ]
    }
   ],
   "source": [
    "%%timeit\n",
    "df = spark.read.csv('job_skills.csv', header=True, inferSchema=True)"
   ]
  },
  {
   "cell_type": "code",
   "execution_count": 20,
   "id": "90df9318-0e50-4116-a2e4-af18633e8436",
   "metadata": {},
   "outputs": [
    {
     "name": "stdout",
     "output_type": "stream",
     "text": [
      "5.13 s ± 27.2 ms per loop (mean ± std. dev. of 7 runs, 1 loop each)\n"
     ]
    }
   ],
   "source": [
    "%%timeit\n",
    "df = pd.read_csv('job_skills.csv')"
   ]
  },
  {
   "cell_type": "code",
   "execution_count": 21,
   "id": "ffb30c00-c4e8-4fb9-921b-93262067f34b",
   "metadata": {},
   "outputs": [
    {
     "name": "stderr",
     "output_type": "stream",
     "text": [
      "[Stage 45:================================================>       (34 + 5) / 39]\r"
     ]
    },
    {
     "name": "stdout",
     "output_type": "stream",
     "text": [
      "10.1 s ± 69.9 ms per loop (mean ± std. dev. of 7 runs, 1 loop each)\n"
     ]
    },
    {
     "name": "stderr",
     "output_type": "stream",
     "text": [
      "                                                                                \r"
     ]
    }
   ],
   "source": [
    "%%timeit\n",
    "df = spark.read.csv('job_summary.csv', header=True, inferSchema=True)"
   ]
  },
  {
   "cell_type": "code",
   "execution_count": 22,
   "id": "71239c1f-e3bf-40ba-88d6-5013d9bc33dd",
   "metadata": {},
   "outputs": [],
   "source": [
    "%%timeit\n",
    "df = pd.read_csv('job_summary.csv')"
   ]
  },
  {
   "cell_type": "markdown",
   "id": "8f1a9f2f-372c-4e85-ab67-0cf8d65708bb",
   "metadata": {},
   "source": [
    "### **Graphing PySpark and pandas Read Times**"
   ]
  },
  {
   "cell_type": "code",
   "execution_count": 23,
   "id": "04d095ea-1cdd-49b1-a3ae-7fb0f3bb6afc",
   "metadata": {},
   "outputs": [],
   "source": [
    "pandas_read_list = []\n",
    "\n",
    "for csv in csv_files:\n",
    "    avg_list = []\n",
    "    for iteration in range(5):\n",
    "        start = time.time()\n",
    "        df = pd.read_csv(csv)\n",
    "        stop = time.time()\n",
    "        avg_list.append(stop-start)\n",
    "\n",
    "    avg_time = sum(avg_list)/len(avg_list)\n",
    "    pandas_read_list.append(avg_time)"
   ]
  },
  {
   "cell_type": "code",
   "execution_count": 24,
   "id": "b0aa4292-bc31-4023-9f04-7757bf2209d7",
   "metadata": {},
   "outputs": [
    {
     "name": "stderr",
     "output_type": "stream",
     "text": [
      "                                                                                \r"
     ]
    }
   ],
   "source": [
    "pyspark_read_list = []\n",
    "\n",
    "for csv in csv_files:\n",
    "    avg_list = []\n",
    "    for iteration in range(5):\n",
    "        start = time.time()\n",
    "        df = spark.read.csv(csv, header=True, inferSchema=True)\n",
    "        stop = time.time()\n",
    "        avg_list.append(stop-start)\n",
    "\n",
    "    avg_time = sum(avg_list)/len(avg_list)\n",
    "    pyspark_read_list.append(avg_time)"
   ]
  },
  {
   "cell_type": "code",
   "execution_count": 25,
   "id": "f196540a-af6a-4ac4-9d1a-caf082573530",
   "metadata": {},
   "outputs": [],
   "source": [
    "pyspark_schema_read_list = []\n",
    "\n",
    "for csv in csv_files:\n",
    "    avg_list = []\n",
    "    for iteration in range(5):\n",
    "        start = time.time()\n",
    "        df = spark.read.csv(csv, schema=schema, header=True)\n",
    "        stop = time.time()\n",
    "        avg_list.append(stop-start)\n",
    "\n",
    "    avg_time = sum(avg_list)/len(avg_list)\n",
    "    pyspark_schema_read_list.append(avg_time)"
   ]
  },
  {
   "cell_type": "code",
   "execution_count": 26,
   "id": "a4b225f5-b943-4f01-9b87-b7c1cd40e7c1",
   "metadata": {},
   "outputs": [
    {
     "data": {
      "image/png": "[encoded data removed]",
      "text/plain": [
       "<Figure size 640x480 with 1 Axes>"
      ]
     },
     "metadata": {},
     "output_type": "display_data"
    }
   ],
   "source": [
    "plt.scatter(csv_file_size,pandas_read_list,edgecolor='blue',label='pandas')\n",
    "plt.plot(csv_file_size,pandas_read_list)\n",
    "\n",
    "plt.scatter(csv_file_size,pyspark_read_list,color='red',edgecolor='orange',label='PySpark (Infer Schema')\n",
    "plt.plot(csv_file_size,pyspark_read_list)\n",
    "\n",
    "plt.scatter(csv_file_size,pyspark_schema_read_list,color='green',edgecolor='darkgreen',label='PySpark (Schema Set)')\n",
    "plt.plot(csv_file_size,pyspark_schema_read_list)\n",
    "\n",
    "plt.ylabel('Seconds')\n",
    "plt.xlabel('Size in Megabytes')\n",
    "plt.title('CSV Read Time Comparison')\n",
    "plt.legend();"
   ]
  },
  {
   "cell_type": "markdown",
   "id": "5ff456a9-f5e6-474d-8c20-5fcb7e207afb",
   "metadata": {},
   "source": [
    "## **When Should I use PySpark?**\n",
    "\n",
    "**As always there are a variety of factors that affect this decision. If you are working with medium to large size data sets (1 GB or above) then PySpark may be a more optimal choice relative to a data analysis tool such as pandas.**\n",
    "\n",
    "**When reading in a CSV file for the first time, you can initially set the `InferSchema` parameter as `TRUE` to find the data types for each of the columns. After the data types are identified for the columns a `schema` should be created to significantly improve read times for the CSV file.**"
   ]
  },
  {
   "cell_type": "markdown",
   "id": "1120317e-f6ee-47a0-9c2e-19dcac555330",
   "metadata": {},
   "source": [
    "# **References and Additional Learning**"
   ]
  },
  {
   "cell_type": "markdown",
   "id": "bb10c455-995b-4cfd-a132-e81f51f6d2d8",
   "metadata": {},
   "source": [
    "## **Dataset**\n",
    "\n",
    "- **[LinkedIn Dataset](https://www.kaggle.com/datasets/asaniczka/1-3m-linkedin-jobs-and-skills-2024/data) from Kaggle.com by asaniczka**"
   ]
  },
  {
   "cell_type": "markdown",
   "id": "fec23b43-fc41-489f-a5ac-9e24dc0fe68b",
   "metadata": {},
   "source": [
    "## **Documentation**\n",
    "\n",
    "- **[pandas Documentation](https://pandas.pydata.org/) from pandas.pydata.org**\n",
    "\n",
    "- **[PySpark Documentation](https://spark.apache.org/docs/latest/api/python/index.html) from Spark.Apache.org**"
   ]
  },
  {
   "cell_type": "markdown",
   "id": "3388d2d3-9bbc-4829-b1df-dcb4681618a3",
   "metadata": {},
   "source": [
    "# **Connect**\n",
    "- **Feel free to connect with Adrian on [YouTube](https://www.youtube.com/channel/UCPuDxI3xb_ryUUMfkm0jsRA), [LinkedIn](https://www.linkedin.com/in/adrian-dolinay-frm-96a289106/), [X](https://twitter.com/DolinayG), [GitHub](https://github.com/ad17171717), [Medium](https://adriandolinay.medium.com/) and [Odysee](https://odysee.com/@adriandolinay:0). Happy coding!**"
   ]
  }
 ],
 "metadata": {
  "kernelspec": {
   "display_name": "Python 3 (ipykernel)",
   "language": "python",
   "name": "python3"
  },
  "language_info": {
   "codemirror_mode": {
    "name": "ipython",
    "version": 3
   },
   "file_extension": ".py",
   "mimetype": "text/x-python",
   "name": "python",
   "nbconvert_exporter": "python",
   "pygments_lexer": "ipython3",
   "version": "3.10.12"
  }
 },
 "nbformat": 4,
 "nbformat_minor": 5
}
