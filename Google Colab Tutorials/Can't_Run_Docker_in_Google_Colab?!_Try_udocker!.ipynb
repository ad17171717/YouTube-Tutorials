{
  "nbformat": 4,
  "nbformat_minor": 0,
  "metadata": {
    "colab": {
      "provenance": [],
      "authorship_tag": "ABX9TyPuqCTiK4+hpHSvBgIWFzQh",
      "include_colab_link": true
    },
    "kernelspec": {
      "name": "python3",
      "display_name": "Python 3"
    },
    "language_info": {
      "name": "python"
    }
  },
  "cells": [
    {
      "cell_type": "markdown",
      "metadata": {
        "id": "view-in-github",
        "colab_type": "text"
      },
      "source": [
        "<a href=\"https://colab.research.google.com/github/ad17171717/YouTube-Tutorials/blob/main/Google%20Colab%20Tutorials/Can't_Run_Docker_in_Google_Colab%3F!_Try_udocker!.ipynb\" target=\"_parent\"><img src=\"https://colab.research.google.com/assets/colab-badge.svg\" alt=\"Open In Colab\"/></a>"
      ]
    },
    {
      "cell_type": "markdown",
      "source": [
        "# **Why Docker Engine Does Not Work in Google Colab (for now)**\n",
        "\n",
        "**Docker Engine is an open-source containerization technology for building and containerizing applications. To build and manage Docker containers, the user needs kernel-level access and full control of system resources. Full control is necessary because Docker relies on Linux kernel features such as Control Groups (cgroups) and Namespaces to create and manage containers.**\n",
        "\n",
        "- **cgroups provide a mechanism in Linux for managing system resources. cgroups enable fine-grained control of resources such as CPU, memory, block I/O, and network bandwidth for Linux containers. Docker uses cgroups to ensure that each container has the resources it needs without impacting other containers or processes on the host system.**\n",
        "\n",
        "- **Namespaces are used to isolate parts of the operating system. Docker creates a set of namespaces for each container to provide process isolation. This means that different aspects of the container, such as networking, file systems, and process IDs, are restricted to that container's namespaces and cannot access resources outside of them.**\n",
        "\n",
        "**In the current Google Colab environment, users cannot configure or edit cgroups or Namespaces. This restriction exists because Google Colab runs in a shared environment where users do not have kernel-level privileges. Without control over these features, it is not possible to create or run Docker containers. As of October 2024, Google Colab does not support running Docker Engine. In the future, changes to Colab’s environment might allow users to run containers, but for now, these features remain unavailable.**"
      ],
      "metadata": {
        "id": "QyiVGRUsQtDO"
      }
    },
    {
      "cell_type": "markdown",
      "source": [
        "<sup>Source: [What is Docker?](https://docs.docker.com/get-started/docker-overview/) from docs.docker.com</sup>\n",
        "\n",
        "<sup>Source: [Runtime metrics](https://docs.docker.com/engine/containers/runmetrics/) from docs.docker.com</sup>\n",
        "\n",
        "<sup>Source: [CGROUPS](https://www.kernel.org/doc/Documentation/cgroup-v1/cgroups.txt) from kernel.org</sup>"
      ],
      "metadata": {
        "id": "euVTSrvZghFt"
      }
    },
    {
      "cell_type": "markdown",
      "source": [
        "### **Control Group (cgroup) limitations**\n",
        "\n",
        "**In a Google Colab session, it is possible to create a cgroup; however, there are limited privileges to fully manage or modify cgroups.**\n",
        "\n",
        "**Even though the default user in a Google Colab session is the `root` user, the `root` user’s permissions are restricted. Specifically, `root` does not have full read-write permissions to the `cgroup` directory. Attempts to modify the cgroup, such as writing to resource management files are denied due to insufficient privileges.**\n",
        "\n",
        "**As a result, Docker, which relies on cgroups to manage resources for containers, cannot function properly in this environment if a cgroup cannot be modified.**"
      ],
      "metadata": {
        "id": "UNcQm2I31QuV"
      }
    },
    {
      "cell_type": "code",
      "source": [
        "#check the current user\n",
        "!whoami"
      ],
      "metadata": {
        "colab": {
          "base_uri": "https://localhost:8080/"
        },
        "id": "HstKYPlMxQto",
        "outputId": "4ad4c22f-5879-4b4c-f79f-592d8eba6bc1"
      },
      "execution_count": 1,
      "outputs": [
        {
          "output_type": "stream",
          "name": "stdout",
          "text": [
            "root\n"
          ]
        }
      ]
    },
    {
      "cell_type": "code",
      "source": [
        "#check that cgroups are limited to read only \"ro\"\n",
        "!mount | grep /sys"
      ],
      "metadata": {
        "colab": {
          "base_uri": "https://localhost:8080/"
        },
        "id": "6pXCmmRCw3_k",
        "outputId": "03cbd462-66d2-4d6a-f13f-9e0b703de504"
      },
      "execution_count": 2,
      "outputs": [
        {
          "output_type": "stream",
          "name": "stdout",
          "text": [
            "sysfs on /sys type sysfs (ro,nosuid,nodev,noexec,relatime)\n",
            "cgroup on /sys/fs/cgroup type cgroup2 (ro,nosuid,nodev,noexec,relatime,nsdelegate,memory_recursiveprot)\n",
            "proc on /proc/sys type proc (ro,nosuid,nodev,noexec,relatime)\n",
            "proc on /proc/sysrq-trigger type proc (ro,nosuid,nodev,noexec,relatime)\n",
            "tmpfs on /sys/firmware type tmpfs (ro,relatime)\n"
          ]
        }
      ]
    },
    {
      "cell_type": "code",
      "source": [
        "#attempt to remount with write permissions\n",
        "!mount -o remount,rw /sys\n",
        "!mount -o remount,rw /sys/fs/cgroup"
      ],
      "metadata": {
        "id": "zxq3U72u1Xrq"
      },
      "execution_count": 3,
      "outputs": []
    },
    {
      "cell_type": "code",
      "source": [
        "#check cgroup again for write privelages \"rw\"\n",
        "!mount | grep /sys"
      ],
      "metadata": {
        "colab": {
          "base_uri": "https://localhost:8080/"
        },
        "id": "dTqbOcYd1eU7",
        "outputId": "d175e456-a401-4e6b-8596-4e47d0e334f4"
      },
      "execution_count": 4,
      "outputs": [
        {
          "output_type": "stream",
          "name": "stdout",
          "text": [
            "sysfs on /sys type sysfs (rw,nosuid,nodev,noexec,relatime)\n",
            "cgroup on /sys/fs/cgroup type cgroup2 (rw,nosuid,nodev,noexec,relatime,nsdelegate,memory_recursiveprot)\n",
            "proc on /proc/sys type proc (ro,nosuid,nodev,noexec,relatime)\n",
            "proc on /proc/sysrq-trigger type proc (ro,nosuid,nodev,noexec,relatime)\n",
            "tmpfs on /sys/firmware type tmpfs (ro,relatime)\n"
          ]
        }
      ]
    },
    {
      "cell_type": "code",
      "source": [
        "#create a new cgroup\n",
        "!mkdir /sys/fs/cgroup/my_cgroup\n",
        "!ls /sys/fs/cgroup"
      ],
      "metadata": {
        "id": "RyI6ejVl4GEj",
        "colab": {
          "base_uri": "https://localhost:8080/"
        },
        "outputId": "02a5651d-40df-4470-8577-b1e7f9004849"
      },
      "execution_count": 5,
      "outputs": [
        {
          "output_type": "stream",
          "name": "stdout",
          "text": [
            "cgroup.controllers\tcpuset.cpus.effective\t  hugetlb.2MB.max\t    memory.pressure\n",
            "cgroup.events\t\tcpuset.cpus.partition\t  hugetlb.2MB.numa_stat     memory.reclaim\n",
            "cgroup.freeze\t\tcpuset.mems\t\t  hugetlb.2MB.rsvd.current  memory.stat\n",
            "cgroup.kill\t\tcpuset.mems.effective\t  hugetlb.2MB.rsvd.max\t    memory.swap.current\n",
            "cgroup.max.depth\tcpu.stat\t\t  io.max\t\t    memory.swap.events\n",
            "cgroup.max.descendants\tcpu.weight\t\t  io.pressure\t\t    memory.swap.high\n",
            "cgroup.pressure\t\tcpu.weight.nice\t\t  io.stat\t\t    memory.swap.max\n",
            "cgroup.procs\t\thugetlb.1GB.current\t  memory.current\t    my_cgroup\n",
            "cgroup.stat\t\thugetlb.1GB.events\t  memory.events\t\t    pids.current\n",
            "cgroup.subtree_control\thugetlb.1GB.events.local  memory.events.local\t    pids.events\n",
            "cgroup.threads\t\thugetlb.1GB.max\t\t  memory.high\t\t    pids.max\n",
            "cgroup.type\t\thugetlb.1GB.numa_stat\t  memory.low\t\t    pids.peak\n",
            "cpu.idle\t\thugetlb.1GB.rsvd.current  memory.max\t\t    rdma.current\n",
            "cpu.max\t\t\thugetlb.1GB.rsvd.max\t  memory.min\t\t    rdma.max\n",
            "cpu.max.burst\t\thugetlb.2MB.current\t  memory.numa_stat\n",
            "cpu.pressure\t\thugetlb.2MB.events\t  memory.oom.group\n",
            "cpuset.cpus\t\thugetlb.2MB.events.local  memory.peak\n"
          ]
        }
      ]
    },
    {
      "cell_type": "code",
      "source": [
        "#attempt to modify the cgroup\n",
        "!echo 512 > /sys/fs/cgroup/my_cgroup/cpu.shares"
      ],
      "metadata": {
        "colab": {
          "base_uri": "https://localhost:8080/"
        },
        "id": "GoJ-uLDShNqd",
        "outputId": "e1934521-b704-470d-ef3a-9111f90fc8ba"
      },
      "execution_count": 6,
      "outputs": [
        {
          "output_type": "stream",
          "name": "stdout",
          "text": [
            "/bin/bash: line 1: /sys/fs/cgroup/my_cgroup/cpu.shares: Permission denied\n"
          ]
        }
      ]
    },
    {
      "cell_type": "markdown",
      "source": [
        "## **Namespace limitations**\n",
        "\n",
        "**Similar to cgroups, within a Google Colab session, namespaces can be created, but there is a lack of privileges to modify and manage those namespaces fully. For example, a network namespace can be created using the `unshare` command. However, when attempting to bring the network interface up (such as the loopback interface) using `ip link set lo up`, we receive an error stating that the operation is not permitted. This limitation arises because the necessary administrative capabilities are missing. Docker requires the ability to manage and control network interfaces within network namespaces to allow containers to communicate with the host and other containers. Without the ability to perform these operations, Docker cannot function properly in this environment.**"
      ],
      "metadata": {
        "id": "BxQyrVUt4AL_"
      }
    },
    {
      "cell_type": "code",
      "source": [
        "#create a new network namespace\n",
        "!unshare --net bash -c \"ip link\""
      ],
      "metadata": {
        "colab": {
          "base_uri": "https://localhost:8080/"
        },
        "id": "uZE2BD-e6CVl",
        "outputId": "4ae80c09-b2ee-49cc-bec9-88e366c79007"
      },
      "execution_count": 7,
      "outputs": [
        {
          "output_type": "stream",
          "name": "stdout",
          "text": [
            "1: lo: <LOOPBACK> mtu 65536 qdisc noop state DOWN mode DEFAULT group default qlen 1000\n",
            "    link/loopback 00:00:00:00:00:00 brd 00:00:00:00:00:00\n"
          ]
        }
      ]
    },
    {
      "cell_type": "code",
      "source": [
        "#attempt to bring the newly created network namespace up\n",
        "!ip link set lo up"
      ],
      "metadata": {
        "colab": {
          "base_uri": "https://localhost:8080/"
        },
        "id": "RvTMOsYI6uLo",
        "outputId": "0cede538-ef7d-4a70-ddac-5394da7593f4"
      },
      "execution_count": 8,
      "outputs": [
        {
          "output_type": "stream",
          "name": "stdout",
          "text": [
            "RTNETLINK answers: Operation not permitted\n"
          ]
        }
      ]
    },
    {
      "cell_type": "markdown",
      "source": [
        "## **Attempting to Install Docker**"
      ],
      "metadata": {
        "id": "6TfvVw4g2a-Q"
      }
    },
    {
      "cell_type": "code",
      "source": [
        "!sudo apt update\n",
        "!sudo apt install docker.io"
      ],
      "metadata": {
        "colab": {
          "base_uri": "https://localhost:8080/"
        },
        "id": "2VZtjHi4ZDb-",
        "outputId": "e27c23be-92fa-4a6c-c2d0-b528f2957656"
      },
      "execution_count": 9,
      "outputs": [
        {
          "output_type": "stream",
          "name": "stdout",
          "text": [
            "\u001b[33m\r0% [Working]\u001b[0m\r            \rGet:1 http://security.ubuntu.com/ubuntu jammy-security InRelease [129 kB]\n",
            "\u001b[33m\r0% [Connecting to archive.ubuntu.com (91.189.91.81)] [1 InRelease 2,588 B/129 k\u001b[0m\r                                                                               \rGet:2 https://developer.download.nvidia.com/compute/cuda/repos/ubuntu2204/x86_64  InRelease [1,581 B]\n",
            "Get:3 https://cloud.r-project.org/bin/linux/ubuntu jammy-cran40/ InRelease [3,626 B]\n",
            "Hit:4 http://archive.ubuntu.com/ubuntu jammy InRelease\n",
            "Get:5 https://developer.download.nvidia.com/compute/cuda/repos/ubuntu2204/x86_64  Packages [1,068 kB]\n",
            "Ign:6 https://r2u.stat.illinois.edu/ubuntu jammy InRelease\n",
            "Get:7 http://archive.ubuntu.com/ubuntu jammy-updates InRelease [128 kB]\n",
            "Get:8 https://r2u.stat.illinois.edu/ubuntu jammy Release [5,713 B]\n",
            "Get:9 https://r2u.stat.illinois.edu/ubuntu jammy Release.gpg [793 B]\n",
            "Hit:10 https://ppa.launchpadcontent.net/deadsnakes/ppa/ubuntu jammy InRelease\n",
            "Get:11 http://archive.ubuntu.com/ubuntu jammy-backports InRelease [127 kB]\n",
            "Hit:12 https://ppa.launchpadcontent.net/graphics-drivers/ppa/ubuntu jammy InRelease\n",
            "Hit:13 https://ppa.launchpadcontent.net/ubuntugis/ppa/ubuntu jammy InRelease\n",
            "Get:14 http://security.ubuntu.com/ubuntu jammy-security/main amd64 Packages [2,374 kB]\n",
            "Get:15 https://r2u.stat.illinois.edu/ubuntu jammy/main amd64 Packages [2,601 kB]\n",
            "Get:16 http://archive.ubuntu.com/ubuntu jammy-updates/universe amd64 Packages [1,450 kB]\n",
            "Get:17 http://security.ubuntu.com/ubuntu jammy-security/universe amd64 Packages [1,162 kB]\n",
            "Get:18 http://archive.ubuntu.com/ubuntu jammy-updates/main amd64 Packages [2,654 kB]\n",
            "Get:19 https://r2u.stat.illinois.edu/ubuntu jammy/main all Packages [8,412 kB]\n",
            "Get:20 http://archive.ubuntu.com/ubuntu jammy-updates/restricted amd64 Packages [3,283 kB]\n",
            "Fetched 23.4 MB in 4s (6,314 kB/s)\n",
            "Reading package lists... Done\n",
            "Building dependency tree... Done\n",
            "Reading state information... Done\n",
            "50 packages can be upgraded. Run 'apt list --upgradable' to see them.\n",
            "\u001b[1;33mW: \u001b[0mSkipping acquire of configured file 'main/source/Sources' as repository 'https://r2u.stat.illinois.edu/ubuntu jammy InRelease' does not seem to provide it (sources.list entry misspelt?)\u001b[0m\n",
            "Reading package lists... Done\n",
            "Building dependency tree... Done\n",
            "Reading state information... Done\n",
            "The following additional packages will be installed:\n",
            "  apparmor bridge-utils containerd dns-root-data dnsmasq-base iptables\n",
            "  libip6tc2 libnetfilter-conntrack3 libnfnetlink0 libnftnl11 netbase netcat\n",
            "  netcat-openbsd pigz runc ubuntu-fan\n",
            "Suggested packages:\n",
            "  apparmor-profiles-extra apparmor-utils ifupdown aufs-tools btrfs-progs\n",
            "  cgroupfs-mount | cgroup-lite debootstrap docker-doc rinse zfs-fuse\n",
            "  | zfsutils firewalld nftables\n",
            "The following NEW packages will be installed:\n",
            "  apparmor bridge-utils containerd dns-root-data dnsmasq-base docker.io\n",
            "  iptables libip6tc2 libnetfilter-conntrack3 libnfnetlink0 libnftnl11 netbase\n",
            "  netcat netcat-openbsd pigz runc ubuntu-fan\n",
            "0 upgraded, 17 newly installed, 0 to remove and 50 not upgraded.\n",
            "Need to get 76.8 MB of archives.\n",
            "After this operation, 290 MB of additional disk space will be used.\n",
            "Get:1 http://archive.ubuntu.com/ubuntu jammy/universe amd64 pigz amd64 2.6-1 [63.6 kB]\n",
            "Get:2 http://archive.ubuntu.com/ubuntu jammy/main amd64 netbase all 6.3 [12.9 kB]\n",
            "Get:3 http://archive.ubuntu.com/ubuntu jammy/main amd64 netcat-openbsd amd64 1.218-4ubuntu1 [39.4 kB]\n",
            "Get:4 http://archive.ubuntu.com/ubuntu jammy-updates/main amd64 apparmor amd64 3.0.4-2ubuntu2.4 [598 kB]\n",
            "Get:5 http://archive.ubuntu.com/ubuntu jammy-updates/main amd64 libip6tc2 amd64 1.8.7-1ubuntu5.2 [20.3 kB]\n",
            "Get:6 http://archive.ubuntu.com/ubuntu jammy/main amd64 libnfnetlink0 amd64 1.0.1-3build3 [14.6 kB]\n",
            "Get:7 http://archive.ubuntu.com/ubuntu jammy/main amd64 libnetfilter-conntrack3 amd64 1.0.9-1 [45.3 kB]\n",
            "Get:8 http://archive.ubuntu.com/ubuntu jammy/main amd64 libnftnl11 amd64 1.2.1-1build1 [65.5 kB]\n",
            "Get:9 http://archive.ubuntu.com/ubuntu jammy-updates/main amd64 iptables amd64 1.8.7-1ubuntu5.2 [455 kB]\n",
            "Get:10 http://archive.ubuntu.com/ubuntu jammy/main amd64 bridge-utils amd64 1.7-1ubuntu3 [34.4 kB]\n",
            "Get:11 http://archive.ubuntu.com/ubuntu jammy-updates/main amd64 runc amd64 1.1.12-0ubuntu2~22.04.1 [8,405 kB]\n",
            "Get:12 http://archive.ubuntu.com/ubuntu jammy-updates/main amd64 containerd amd64 1.7.12-0ubuntu2~22.04.1 [37.8 MB]\n",
            "Get:13 http://archive.ubuntu.com/ubuntu jammy-updates/main amd64 dns-root-data all 2023112702~ubuntu0.22.04.1 [5,136 B]\n",
            "Get:14 http://archive.ubuntu.com/ubuntu jammy-updates/main amd64 dnsmasq-base amd64 2.90-0ubuntu0.22.04.1 [374 kB]\n",
            "Get:15 http://archive.ubuntu.com/ubuntu jammy-updates/universe amd64 docker.io amd64 24.0.7-0ubuntu2~22.04.1 [28.8 MB]\n",
            "Get:16 http://archive.ubuntu.com/ubuntu jammy/universe amd64 netcat all 1.218-4ubuntu1 [2,044 B]\n",
            "Get:17 http://archive.ubuntu.com/ubuntu jammy/universe amd64 ubuntu-fan all 0.12.16 [35.2 kB]\n",
            "Fetched 76.8 MB in 2s (30.8 MB/s)\n",
            "debconf: unable to initialize frontend: Dialog\n",
            "debconf: (No usable dialog-like program is installed, so the dialog based frontend cannot be used. at /usr/share/perl5/Debconf/FrontEnd/Dialog.pm line 78, <> line 17.)\n",
            "debconf: falling back to frontend: Readline\n",
            "debconf: unable to initialize frontend: Readline\n",
            "debconf: (This frontend requires a controlling tty.)\n",
            "debconf: falling back to frontend: Teletype\n",
            "dpkg-preconfigure: unable to re-open stdin: \n",
            "Selecting previously unselected package pigz.\n",
            "(Reading database ... 123622 files and directories currently installed.)\n",
            "Preparing to unpack .../00-pigz_2.6-1_amd64.deb ...\n",
            "Unpacking pigz (2.6-1) ...\n",
            "Selecting previously unselected package netbase.\n",
            "Preparing to unpack .../01-netbase_6.3_all.deb ...\n",
            "Unpacking netbase (6.3) ...\n",
            "Selecting previously unselected package netcat-openbsd.\n",
            "Preparing to unpack .../02-netcat-openbsd_1.218-4ubuntu1_amd64.deb ...\n",
            "Unpacking netcat-openbsd (1.218-4ubuntu1) ...\n",
            "Selecting previously unselected package apparmor.\n",
            "Preparing to unpack .../03-apparmor_3.0.4-2ubuntu2.4_amd64.deb ...\n",
            "Unpacking apparmor (3.0.4-2ubuntu2.4) ...\n",
            "Selecting previously unselected package libip6tc2:amd64.\n",
            "Preparing to unpack .../04-libip6tc2_1.8.7-1ubuntu5.2_amd64.deb ...\n",
            "Unpacking libip6tc2:amd64 (1.8.7-1ubuntu5.2) ...\n",
            "Selecting previously unselected package libnfnetlink0:amd64.\n",
            "Preparing to unpack .../05-libnfnetlink0_1.0.1-3build3_amd64.deb ...\n",
            "Unpacking libnfnetlink0:amd64 (1.0.1-3build3) ...\n",
            "Selecting previously unselected package libnetfilter-conntrack3:amd64.\n",
            "Preparing to unpack .../06-libnetfilter-conntrack3_1.0.9-1_amd64.deb ...\n",
            "Unpacking libnetfilter-conntrack3:amd64 (1.0.9-1) ...\n",
            "Selecting previously unselected package libnftnl11:amd64.\n",
            "Preparing to unpack .../07-libnftnl11_1.2.1-1build1_amd64.deb ...\n",
            "Unpacking libnftnl11:amd64 (1.2.1-1build1) ...\n",
            "Selecting previously unselected package iptables.\n",
            "Preparing to unpack .../08-iptables_1.8.7-1ubuntu5.2_amd64.deb ...\n",
            "Unpacking iptables (1.8.7-1ubuntu5.2) ...\n",
            "Selecting previously unselected package bridge-utils.\n",
            "Preparing to unpack .../09-bridge-utils_1.7-1ubuntu3_amd64.deb ...\n",
            "Unpacking bridge-utils (1.7-1ubuntu3) ...\n",
            "Selecting previously unselected package runc.\n",
            "Preparing to unpack .../10-runc_1.1.12-0ubuntu2~22.04.1_amd64.deb ...\n",
            "Unpacking runc (1.1.12-0ubuntu2~22.04.1) ...\n",
            "Selecting previously unselected package containerd.\n",
            "Preparing to unpack .../11-containerd_1.7.12-0ubuntu2~22.04.1_amd64.deb ...\n",
            "Unpacking containerd (1.7.12-0ubuntu2~22.04.1) ...\n",
            "Selecting previously unselected package dns-root-data.\n",
            "Preparing to unpack .../12-dns-root-data_2023112702~ubuntu0.22.04.1_all.deb ...\n",
            "Unpacking dns-root-data (2023112702~ubuntu0.22.04.1) ...\n",
            "Selecting previously unselected package dnsmasq-base.\n",
            "Preparing to unpack .../13-dnsmasq-base_2.90-0ubuntu0.22.04.1_amd64.deb ...\n",
            "Unpacking dnsmasq-base (2.90-0ubuntu0.22.04.1) ...\n",
            "Selecting previously unselected package docker.io.\n",
            "Preparing to unpack .../14-docker.io_24.0.7-0ubuntu2~22.04.1_amd64.deb ...\n",
            "Unpacking docker.io (24.0.7-0ubuntu2~22.04.1) ...\n",
            "Selecting previously unselected package netcat.\n",
            "Preparing to unpack .../15-netcat_1.218-4ubuntu1_all.deb ...\n",
            "Unpacking netcat (1.218-4ubuntu1) ...\n",
            "Selecting previously unselected package ubuntu-fan.\n",
            "Preparing to unpack .../16-ubuntu-fan_0.12.16_all.deb ...\n",
            "Unpacking ubuntu-fan (0.12.16) ...\n",
            "Setting up libip6tc2:amd64 (1.8.7-1ubuntu5.2) ...\n",
            "Setting up netcat-openbsd (1.218-4ubuntu1) ...\n",
            "update-alternatives: using /bin/nc.openbsd to provide /bin/nc (nc) in auto mode\n",
            "Setting up libnftnl11:amd64 (1.2.1-1build1) ...\n",
            "Setting up netcat (1.218-4ubuntu1) ...\n",
            "Setting up runc (1.1.12-0ubuntu2~22.04.1) ...\n",
            "Setting up dns-root-data (2023112702~ubuntu0.22.04.1) ...\n",
            "Setting up apparmor (3.0.4-2ubuntu2.4) ...\n",
            "debconf: unable to initialize frontend: Dialog\n",
            "debconf: (No usable dialog-like program is installed, so the dialog based frontend cannot be used. at /usr/share/perl5/Debconf/FrontEnd/Dialog.pm line 78.)\n",
            "debconf: falling back to frontend: Readline\n",
            "Created symlink /etc/systemd/system/sysinit.target.wants/apparmor.service → /lib/systemd/system/apparmor.service.\n",
            "Setting up bridge-utils (1.7-1ubuntu3) ...\n",
            "debconf: unable to initialize frontend: Dialog\n",
            "debconf: (No usable dialog-like program is installed, so the dialog based frontend cannot be used. at /usr/share/perl5/Debconf/FrontEnd/Dialog.pm line 78.)\n",
            "debconf: falling back to frontend: Readline\n",
            "Setting up pigz (2.6-1) ...\n",
            "Setting up libnfnetlink0:amd64 (1.0.1-3build3) ...\n",
            "Setting up netbase (6.3) ...\n",
            "Setting up containerd (1.7.12-0ubuntu2~22.04.1) ...\n",
            "Created symlink /etc/systemd/system/multi-user.target.wants/containerd.service → /lib/systemd/system/containerd.service.\n",
            "Setting up libnetfilter-conntrack3:amd64 (1.0.9-1) ...\n",
            "Setting up iptables (1.8.7-1ubuntu5.2) ...\n",
            "update-alternatives: using /usr/sbin/iptables-legacy to provide /usr/sbin/iptables (iptables) in auto mode\n",
            "update-alternatives: using /usr/sbin/ip6tables-legacy to provide /usr/sbin/ip6tables (ip6tables) in auto mode\n",
            "update-alternatives: using /usr/sbin/iptables-nft to provide /usr/sbin/iptables (iptables) in auto mode\n",
            "update-alternatives: using /usr/sbin/ip6tables-nft to provide /usr/sbin/ip6tables (ip6tables) in auto mode\n",
            "update-alternatives: using /usr/sbin/arptables-nft to provide /usr/sbin/arptables (arptables) in auto mode\n",
            "update-alternatives: using /usr/sbin/ebtables-nft to provide /usr/sbin/ebtables (ebtables) in auto mode\n",
            "Setting up docker.io (24.0.7-0ubuntu2~22.04.1) ...\n",
            "debconf: unable to initialize frontend: Dialog\n",
            "debconf: (No usable dialog-like program is installed, so the dialog based frontend cannot be used. at /usr/share/perl5/Debconf/FrontEnd/Dialog.pm line 78.)\n",
            "debconf: falling back to frontend: Readline\n",
            "Adding group `docker' (GID 107) ...\n",
            "Done.\n",
            "Created symlink /etc/systemd/system/multi-user.target.wants/docker.service → /lib/systemd/system/docker.service.\n",
            "Created symlink /etc/systemd/system/sockets.target.wants/docker.socket → /lib/systemd/system/docker.socket.\n",
            "invoke-rc.d: unknown initscript, /etc/init.d/docker not found.\n",
            "invoke-rc.d: could not determine current runlevel\n",
            "Setting up dnsmasq-base (2.90-0ubuntu0.22.04.1) ...\n",
            "Setting up ubuntu-fan (0.12.16) ...\n",
            "Created symlink /etc/systemd/system/multi-user.target.wants/ubuntu-fan.service → /lib/systemd/system/ubuntu-fan.service.\n",
            "invoke-rc.d: could not determine current runlevel\n",
            "invoke-rc.d: policy-rc.d denied execution of start.\n",
            "Processing triggers for man-db (2.10.2-1) ...\n",
            "Processing triggers for dbus (1.12.20-2ubuntu4.1) ...\n",
            "Processing triggers for libc-bin (2.35-0ubuntu3.4) ...\n",
            "/sbin/ldconfig.real: /usr/local/lib/libtbbbind_2_0.so.3 is not a symbolic link\n",
            "\n",
            "/sbin/ldconfig.real: /usr/local/lib/libur_adapter_opencl.so.0 is not a symbolic link\n",
            "\n",
            "/sbin/ldconfig.real: /usr/local/lib/libtbbbind_2_5.so.3 is not a symbolic link\n",
            "\n",
            "/sbin/ldconfig.real: /usr/local/lib/libtbbbind.so.3 is not a symbolic link\n",
            "\n",
            "/sbin/ldconfig.real: /usr/local/lib/libtbbmalloc.so.2 is not a symbolic link\n",
            "\n",
            "/sbin/ldconfig.real: /usr/local/lib/libtbb.so.12 is not a symbolic link\n",
            "\n",
            "/sbin/ldconfig.real: /usr/local/lib/libtbbmalloc_proxy.so.2 is not a symbolic link\n",
            "\n",
            "/sbin/ldconfig.real: /usr/local/lib/libur_adapter_level_zero.so.0 is not a symbolic link\n",
            "\n",
            "/sbin/ldconfig.real: /usr/local/lib/libur_loader.so.0 is not a symbolic link\n",
            "\n"
          ]
        }
      ]
    },
    {
      "cell_type": "code",
      "source": [
        "#attempt to start Docker\n",
        "!service docker start"
      ],
      "metadata": {
        "colab": {
          "base_uri": "https://localhost:8080/"
        },
        "id": "Mfb08eDk2fsF",
        "outputId": "ad8b3a3a-785d-4457-87f0-78cdf6c88bf2"
      },
      "execution_count": 10,
      "outputs": [
        {
          "output_type": "stream",
          "name": "stdout",
          "text": [
            "docker: unrecognized service\n"
          ]
        }
      ]
    },
    {
      "cell_type": "code",
      "source": [
        "#attempt to pull/run the Docker hello-world image\n",
        "!docker run hello-world"
      ],
      "metadata": {
        "colab": {
          "base_uri": "https://localhost:8080/"
        },
        "id": "BPsGIGAY2xmu",
        "outputId": "e54ffd19-5a38-43b4-913c-805cb32b6ff4"
      },
      "execution_count": 11,
      "outputs": [
        {
          "output_type": "stream",
          "name": "stdout",
          "text": [
            "docker: Cannot connect to the Docker daemon at unix:///var/run/docker.sock. Is the docker daemon running?.\n",
            "See 'docker run --help'.\n"
          ]
        }
      ]
    },
    {
      "cell_type": "markdown",
      "source": [
        "# **udocker**\n",
        "\n",
        "**An alternative to Docker is udocker. udocker is a user-space tool that enables running Docker containers in environments where users lack root privileges, such as Linux batch systems, HPC clusters and interactive systems. It allows non-privileged users to download, create, and execute containers without admin privileges. udocker acts as a wrapper around various technologies like PRoot, Fakechroot, runc, and Singularity to mimic basic Docker functionalities. Unlike Docker, which relies on kernel-level features such as namespaces and cgroups for isolation and resource management, udocker simulates root privileges using user namespaces and ptrace system calls via PRoot or Fakechroot. However, udocker does not offer the robust container isolation or system-level integration that Docker provides, making it suitable for environments where Docker cannot be used but with certain security and functionality limitations.**"
      ],
      "metadata": {
        "id": "aFENn4gBHaUz"
      }
    },
    {
      "cell_type": "markdown",
      "source": [
        "<sup>Source: [udocker user manual Documentation](https://indigo-dc.github.io/udocker/user_manual.html)</sup>"
      ],
      "metadata": {
        "id": "NyX6qc4yoeoW"
      }
    },
    {
      "cell_type": "markdown",
      "source": [
        "## **Installing udocker**\n",
        "\n",
        "**One way to install udocker is with the `pip` package manager for Python**"
      ],
      "metadata": {
        "id": "VZroGWa_hBY8"
      }
    },
    {
      "cell_type": "markdown",
      "source": [
        "<sup>Source: [udocker Installation Documentation](https://indigo-dc.github.io/udocker/installation_manual.html)</sup>"
      ],
      "metadata": {
        "id": "EedhnS3__0Q4"
      }
    },
    {
      "cell_type": "code",
      "source": [
        "!pip install udocker"
      ],
      "metadata": {
        "id": "ch7I5nyjHgr-",
        "colab": {
          "base_uri": "https://localhost:8080/"
        },
        "outputId": "702c2c26-4a9c-4493-de2b-a588b91dc073"
      },
      "execution_count": 12,
      "outputs": [
        {
          "output_type": "stream",
          "name": "stdout",
          "text": [
            "Collecting udocker\n",
            "  Downloading udocker-1.3.17-py2.py3-none-any.whl.metadata (37 kB)\n",
            "Downloading udocker-1.3.17-py2.py3-none-any.whl (119 kB)\n",
            "\u001b[?25l   \u001b[90m━━━━━━━━━━━━━━━━━━━━━━━━━━━━━━━━━━━━━━━━\u001b[0m \u001b[32m0.0/119.6 kB\u001b[0m \u001b[31m?\u001b[0m eta \u001b[36m-:--:--\u001b[0m\r\u001b[2K   \u001b[90m━━━━━━━━━━━━━━━━━━━━━━━━━━━━━━━━━━━━━━━━\u001b[0m \u001b[32m119.6/119.6 kB\u001b[0m \u001b[31m4.8 MB/s\u001b[0m eta \u001b[36m0:00:00\u001b[0m\n",
            "\u001b[?25hInstalling collected packages: udocker\n",
            "Successfully installed udocker-1.3.17\n"
          ]
        }
      ]
    },
    {
      "cell_type": "markdown",
      "source": [
        "## **Pulling an Image with udocker**\n",
        "\n",
        "**By default udocker pulls images from Dockerhub. In this section we will pull the [Golang (Go)](https://hub.docker.com/_/golang) image from Dockerhub and run a simple Go script that will print \"Hello World\" using udocker.**"
      ],
      "metadata": {
        "id": "n6KecyNQhE-X"
      }
    },
    {
      "cell_type": "code",
      "source": [
        "!whoami"
      ],
      "metadata": {
        "colab": {
          "base_uri": "https://localhost:8080/"
        },
        "id": "E3nUe_YQK4px",
        "outputId": "66d13803-f786-400d-ad57-64752855efac"
      },
      "execution_count": 13,
      "outputs": [
        {
          "output_type": "stream",
          "name": "stdout",
          "text": [
            "root\n"
          ]
        }
      ]
    },
    {
      "cell_type": "code",
      "source": [
        "#cannot run udocker as root\n",
        "!udocker pull golang"
      ],
      "metadata": {
        "colab": {
          "base_uri": "https://localhost:8080/"
        },
        "id": "7myalBuVJhfA",
        "outputId": "295e7a03-3dbc-4031-e858-500d824584a1"
      },
      "execution_count": 14,
      "outputs": [
        {
          "output_type": "stream",
          "name": "stdout",
          "text": [
            "Error: do not run as root !\n"
          ]
        }
      ]
    },
    {
      "cell_type": "code",
      "source": [
        "#create non-root user to run udocker\n",
        "!adduser --disabled-password --gecos '' newuser"
      ],
      "metadata": {
        "colab": {
          "base_uri": "https://localhost:8080/"
        },
        "id": "Oc9s_DJFJaLs",
        "outputId": "e1a25c62-4a78-4e1f-93fe-25140fe851bc"
      },
      "execution_count": 15,
      "outputs": [
        {
          "output_type": "stream",
          "name": "stdout",
          "text": [
            "Adding user `newuser' ...\n",
            "Adding new group `newuser' (1000) ...\n",
            "Adding new user `newuser' (1000) with group `newuser' ...\n",
            "Creating home directory `/home/newuser' ...\n",
            "Copying files from `/etc/skel' ...\n"
          ]
        }
      ]
    },
    {
      "cell_type": "code",
      "source": [
        "#pull a Docker image to work with\n",
        "!sudo -u newuser udocker pull golang"
      ],
      "metadata": {
        "colab": {
          "base_uri": "https://localhost:8080/"
        },
        "id": "WW08wywWJfeS",
        "outputId": "b958b20f-ca02-4969-a1d5-8b0e68c3b151"
      },
      "execution_count": 16,
      "outputs": [
        {
          "output_type": "stream",
          "name": "stdout",
          "text": [
            "Info: creating repo: /home/newuser/.udocker\n",
            "Info: udocker command line interface 1.3.17\n",
            "Info: searching for udockertools >= 1.2.11\n",
            "Info: installing udockertools 1.2.11\n",
            "Info: installation of udockertools successful\n",
            "Info: downloading layer sha256:17f4a873f3508262a7dfb2924949f7f9056ad3001bca21453453fdba5cdfe8af\n",
            "Info: downloading layer sha256:4f4fb700ef54461cfa02571ae0db9a0dc1e0cdb5577484a6d75e68dc38e8acc1\n",
            "Info: downloading layer sha256:f29d27dc8b2154be83283c4791da25b0264a9dc8484dfad644d065af56c19b72\n",
            "Info: downloading layer sha256:2ac1f1163629431c9f488c4d6ff6afb5c73021839723b50bafe245663ad3d9df\n",
            "Info: downloading layer sha256:b09bd0f8c72b1f7a4ca636b5aedb92a1eabce22f4608ea90f57daea57e43663a\n",
            "Info: downloading layer sha256:7aadc5092c3b7a865666b14bef3d4d038282b19b124542f1a158c98ea8c1ed1b\n",
            "Info: downloading layer sha256:da802df85c965baeca9d39869f9e2cbb3dc844d4627f413bfbb2f2c3d6055988\n",
            "Info: downloading layer sha256:7d98d813d54f6207a57721008a4081378343ad8f1b2db66c121406019171805b\n"
          ]
        }
      ]
    },
    {
      "cell_type": "markdown",
      "source": [
        "## **Running udocker**"
      ],
      "metadata": {
        "id": "z5NXJy4-hKTA"
      }
    },
    {
      "cell_type": "code",
      "source": [
        "#run command\n",
        "!sudo -u newuser udocker run golang go version"
      ],
      "metadata": {
        "id": "i1INpt0XIflH",
        "colab": {
          "base_uri": "https://localhost:8080/"
        },
        "outputId": "21bbc5ea-d15b-4c2a-a21f-4b9dd14e8913"
      },
      "execution_count": 17,
      "outputs": [
        {
          "output_type": "stream",
          "name": "stdout",
          "text": [
            " \n",
            " ****************************************************************************** \n",
            " *                                                                            * \n",
            " *               STARTING e111c88a-270b-3d1d-8b4f-f8a4a0c680b4                * \n",
            " *                                                                            * \n",
            " ****************************************************************************** \n",
            " executing: go\n",
            "go version go1.23.2 linux/amd64\n"
          ]
        }
      ]
    },
    {
      "cell_type": "code",
      "source": [
        "#create a simple Go script\n",
        "%%bash\n",
        "cat > hello.go\n",
        "package main\n",
        "\n",
        "import \"fmt\"\n",
        "\n",
        "func main() {\n",
        "    fmt.Println(\"Hello, World!\")\n",
        "}"
      ],
      "metadata": {
        "id": "lOq8js3AI_Ws"
      },
      "execution_count": 18,
      "outputs": []
    },
    {
      "cell_type": "code",
      "source": [
        "#run the Go script with udocker\n",
        "!sudo -u newuser udocker run --volume=$(pwd):/workspace -w=/workspace golang go run hello.go"
      ],
      "metadata": {
        "colab": {
          "base_uri": "https://localhost:8080/"
        },
        "id": "ERquvzbQMz4a",
        "outputId": "7ea35b88-b418-4c14-d247-e5ca7ac6a956"
      },
      "execution_count": 19,
      "outputs": [
        {
          "output_type": "stream",
          "name": "stdout",
          "text": [
            " \n",
            " ****************************************************************************** \n",
            " *                                                                            * \n",
            " *               STARTING 2b2abd32-7fd8-304d-94df-79480755e1ae                * \n",
            " *                                                                            * \n",
            " ****************************************************************************** \n",
            " executing: go\n",
            "Hello, World!\n"
          ]
        }
      ]
    },
    {
      "cell_type": "markdown",
      "source": [
        "## **Issues with udocker in Google Colab**\n",
        "\n",
        "**One of the issues with running udocker in Google Colab is that it can be slow. For example, printing \"Hello World\" with udocker and Go takes 40 seconds on average, while printing \"Hello World\" with the Go binary in Google Colab takes 250 milliseconds on average. This makes Go installed directly more than 1,000 times faster than when run through udocker. The reason for this slowdown is the emulation layer used by udocker, which is inherently slower than if udocker had direct system access.**\n",
        "\n",
        "**To work with udocker, a non-root user needs to be created. The commands to run a udocker container can be relatively verbose compared to Docker commands run in a dedicated machine.**\n",
        "\n",
        "**Because networking within Google Colab is restricted, there are images that cannot be utilized within Google Colab. For example the image for [Jupyter Notebook](https://hub.docker.com/r/jupyter/datascience-notebook) cannot be run because it runs a web server and requires opening ports for the notebook, which is not allowed in a Google Colab session.**"
      ],
      "metadata": {
        "id": "OHPZqJUFRX0w"
      }
    },
    {
      "cell_type": "markdown",
      "source": [
        "# **References and Additional Learning**"
      ],
      "metadata": {
        "id": "-ZpoeGFcRdBo"
      }
    },
    {
      "cell_type": "markdown",
      "source": [
        "## **Docker Image**\n",
        "\n",
        "- **[Golang Image](https://hub.docker.com/_/golang) from Dockerhub**"
      ],
      "metadata": {
        "id": "76GrOlY7Avbr"
      }
    },
    {
      "cell_type": "markdown",
      "source": [
        "## **Documentation**\n",
        "\n",
        "- **[CGROUPS](https://www.kernel.org/doc/Documentation/cgroup-v1/cgroups.txt) from kernel.org**\n",
        "\n",
        "- **[Docker Engine overview](https://docs.docker.com/engine/) from docs.docker.com**\n",
        "\n",
        "- **[dockerd](https://docs.docker.com/reference/cli/dockerd/) from docs.docker.com**\n",
        "\n",
        "- **[Runtime metrics](https://docs.docker.com/engine/containers/runmetrics/) from docs.docker.com**\n",
        "\n",
        "- **[udocker Installation Documentation](https://indigo-dc.github.io/udocker/installation_manual.html)**\n",
        "\n",
        "- **[udocker user manual Documentation](https://indigo-dc.github.io/udocker/user_manual.html)**\n",
        "\n",
        "- **[What is Docker?](https://docs.docker.com/get-started/docker-overview/) from docs.docker.com**"
      ],
      "metadata": {
        "id": "-mzGrw2BSmKK"
      }
    },
    {
      "cell_type": "markdown",
      "source": [
        "# **Connect**\n",
        "- **Feel free to connect with Adrian on [YouTube](https://www.youtube.com/channel/UCPuDxI3xb_ryUUMfkm0jsRA), [LinkedIn](https://www.linkedin.com/in/adrian-dolinay-frm-96a289106/), [X](https://twitter.com/DolinayG), [GitHub](https://github.com/ad17171717), [Medium](https://adriandolinay.medium.com/) and [Odysee](https://odysee.com/@adriandolinay:0). Happy coding!**"
      ],
      "metadata": {
        "id": "oo51Vq3pRdI_"
      }
    },
    {
      "cell_type": "markdown",
      "source": [
        "# **Podcast**\n",
        "\n",
        "- **Check out Adrian's Podcast, The Aspiring STEM Geek on [YouTube](https://www.youtube.com/@AdrianDolinay/podcasts), [Spotify](https://open.spotify.com/show/60dPNJbDPaPw7ru8g5btxV), [Apple Podcasts](https://podcasts.apple.com/us/podcast/the-aspiring-stem-geek/id1765996824), [Audible](https://www.audible.com/podcast/The-Aspiring-STEM-Geek/B0DC73S9SN?eac_link=MCFKvkxuqKYU&ref=web_search_eac_asin_1&eac_selected_type=asin&eac_selected=B0DC73S9SN&qid=IrZ84nGqvz&eac_id=141-8769271-5781515_IrZ84nGqvz&sr=1-1) and [iHeart Radio](https://www.iheart.com/podcast/269-the-aspiring-stem-geek-202676097/)!**"
      ],
      "metadata": {
        "id": "5PwCu_NwRgbQ"
      }
    }
  ]
}