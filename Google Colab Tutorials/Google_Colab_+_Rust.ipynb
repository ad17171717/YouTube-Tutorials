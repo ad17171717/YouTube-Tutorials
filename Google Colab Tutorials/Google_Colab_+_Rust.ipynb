{
  "cells": [
    {
      "cell_type": "markdown",
      "metadata": {
        "id": "view-in-github",
        "colab_type": "text"
      },
      "source": [
        "<a href=\"https://colab.research.google.com/github/ad17171717/YouTube-Tutorials/blob/main/Google%20Colab%20Tutorials/Google_Colab_%2B_Rust.ipynb\" target=\"_parent\"><img src=\"https://colab.research.google.com/assets/colab-badge.svg\" alt=\"Open In Colab\"/></a>"
      ]
    },
    {
      "cell_type": "markdown",
      "source": [
        "# **Rust**\n",
        "\n",
        "**Rust is an open-source, statically typed and compiled programming language. The language was initially a personal project by a Mozilla Research employee in 2006 and the language had its first stable release in 2015.**\n",
        "\n",
        "**Rust has a runtime library that provides safety and concurrency features without a garbage collector. Instead Rust ensures memory safety through a system of ownership with rules checked at compile time.**\n",
        "\n",
        "**Rust emphasizes performance, reliability, and productivity. It prevents null pointer dereferencing, buffer overflows, and other common programming errors.**\n",
        "\n",
        "**Projects like Firefox's Quantum engine and the Servo web browser engine are written in Rust.**"
      ],
      "metadata": {
        "id": "0XB9PHNjj2Xw"
      }
    },
    {
      "cell_type": "markdown",
      "source": [
        "## **Install Rust in Colab Session**"
      ],
      "metadata": {
        "id": "mC8n3Y4FklAM"
      }
    },
    {
      "cell_type": "code",
      "source": [
        "#download rust binaries\n",
        "!wget https://static.rust-lang.org/dist/rust-1.80.0-x86_64-unknown-linux-gnu.tar.gz\n",
        "\n",
        "#extract binaries from tarball\n",
        "!tar -xzf rust-1.80.0-x86_64-unknown-linux-gnu.tar.gz\n",
        "\n",
        "#remove tarball\n",
        "!rm /content/rust-1.80.0-x86_64-unknown-linux-gnu.tar.gz\n",
        "\n",
        "#install rust binaries\n",
        "!cd rust-1.80.0-x86_64-unknown-linux-gnu && ./install.sh"
      ],
      "metadata": {
        "id": "ICVQdtmpj1ZQ",
        "colab": {
          "base_uri": "https://localhost:8080/"
        },
        "outputId": "69940b92-91dc-4e8c-bf65-42307cc1eefc"
      },
      "execution_count": 1,
      "outputs": [
        {
          "output_type": "stream",
          "name": "stdout",
          "text": [
            "--2024-08-01 18:21:13--  https://static.rust-lang.org/dist/rust-1.80.0-x86_64-unknown-linux-gnu.tar.gz\n",
            "Resolving static.rust-lang.org (static.rust-lang.org)... 151.101.2.137, 151.101.66.137, 151.101.130.137, ...\n",
            "Connecting to static.rust-lang.org (static.rust-lang.org)|151.101.2.137|:443... connected.\n",
            "HTTP request sent, awaiting response... 200 OK\n",
            "Length: 335707217 (320M) [application/x-tar]\n",
            "Saving to: ‘rust-1.80.0-x86_64-unknown-linux-gnu.tar.gz’\n",
            "\n",
            "rust-1.80.0-x86_64- 100%[===================>] 320.16M   110MB/s    in 2.9s    \n",
            "\n",
            "2024-08-01 18:21:16 (110 MB/s) - ‘rust-1.80.0-x86_64-unknown-linux-gnu.tar.gz’ saved [335707217/335707217]\n",
            "\n",
            "install: creating uninstall script at /usr/local/lib/rustlib/uninstall.sh\n",
            "install: installing component 'rustc'\n",
            "install: installing component 'rust-std-x86_64-unknown-linux-gnu'\n",
            "install: installing component 'rust-docs'\n",
            "install: installing component 'rust-docs-json-preview'\n",
            "install: installing component 'rust-demangler-preview'\n",
            "install: installing component 'cargo'\n",
            "install: installing component 'rustfmt-preview'\n",
            "install: installing component 'rls-preview'\n",
            "install: installing component 'rust-analyzer-preview'\n",
            "install: installing component 'llvm-tools-preview'\n",
            "install: installing component 'clippy-preview'\n",
            "install: installing component 'rust-analysis-x86_64-unknown-linux-gnu'\n",
            "install: installing component 'llvm-bitcode-linker-preview'\n",
            "\n",
            "    rust installed.\n",
            "\n"
          ]
        }
      ]
    },
    {
      "cell_type": "code",
      "source": [
        "#add the rust executable to path\n",
        "import os\n",
        "os.environ['PATH'] += ':/root/.cargo/bin'"
      ],
      "metadata": {
        "id": "vZjz3atqiLo4"
      },
      "execution_count": 2,
      "outputs": []
    },
    {
      "cell_type": "code",
      "source": [
        "#check that rust is installed and can be called\n",
        "!rustc --version"
      ],
      "metadata": {
        "colab": {
          "base_uri": "https://localhost:8080/"
        },
        "id": "2x0l6OkXiLsA",
        "outputId": "6a319551-452b-4e47-ace8-a620e9cbc116"
      },
      "execution_count": 3,
      "outputs": [
        {
          "output_type": "stream",
          "name": "stdout",
          "text": [
            "rustc 1.80.0 (051478957 2024-07-21)\n"
          ]
        }
      ]
    },
    {
      "cell_type": "markdown",
      "source": [
        "# **Hello, World! in Rust**"
      ],
      "metadata": {
        "id": "y1RAK78axXL_"
      }
    },
    {
      "cell_type": "code",
      "source": [
        "%%writefile hello_world.rs\n",
        "fn main() {\n",
        "    println!(\"Hello, World!\");\n",
        "}"
      ],
      "metadata": {
        "colab": {
          "base_uri": "https://localhost:8080/"
        },
        "id": "f9hzIi-FiSgv",
        "outputId": "27e9b5b9-1dcd-4e95-fdfe-143a088dbaf5"
      },
      "execution_count": 4,
      "outputs": [
        {
          "output_type": "stream",
          "name": "stdout",
          "text": [
            "Writing hello_world.rs\n"
          ]
        }
      ]
    },
    {
      "cell_type": "code",
      "source": [
        "!rustc hello_world.rs\n",
        "!./hello_world"
      ],
      "metadata": {
        "colab": {
          "base_uri": "https://localhost:8080/"
        },
        "id": "EEai-Qlpiel7",
        "outputId": "0dd398d0-f614-4c19-c1d4-c187da8b4270"
      },
      "execution_count": 5,
      "outputs": [
        {
          "output_type": "stream",
          "name": "stdout",
          "text": [
            "Hello, World!\n"
          ]
        }
      ]
    },
    {
      "cell_type": "markdown",
      "source": [
        "# **Creating an Addition Function**"
      ],
      "metadata": {
        "id": "Td6MGOBRDnEG"
      }
    },
    {
      "cell_type": "code",
      "source": [
        "%%writefile add.rs\n",
        "fn main() {\n",
        "    use std::ops::Add;\n",
        "\n",
        "    #[derive(Debug, Copy, Clone, PartialEq)]\n",
        "    struct Point {\n",
        "        x: i32,\n",
        "        y: i32,\n",
        "    }\n",
        "\n",
        "    impl Add for Point {\n",
        "        type Output = Self;\n",
        "\n",
        "        fn add(self, other: Self) -> Self {\n",
        "            Self {\n",
        "                x: self.x + other.x,\n",
        "                y: self.y + other.y,\n",
        "            }\n",
        "        }\n",
        "    }\n",
        "\n",
        "    let point1 = Point { x: 1, y: 0 };\n",
        "    let point2 = Point { x: 2, y: 3 };\n",
        "    let result = point1 + point2;\n",
        "\n",
        "    println!(\"Point 1: {:?}\", point1);\n",
        "    println!(\"Point 2: {:?}\", point2);\n",
        "    println!(\"Result: {:?}\", result);\n",
        "\n",
        "    assert_eq!(result, Point { x: 3, y: 3 });\n",
        "}"
      ],
      "metadata": {
        "colab": {
          "base_uri": "https://localhost:8080/"
        },
        "id": "4Jk3szqlDnMl",
        "outputId": "78321a6e-8435-49cf-f348-9dd5628b8f37"
      },
      "execution_count": 6,
      "outputs": [
        {
          "output_type": "stream",
          "name": "stdout",
          "text": [
            "Writing add.rs\n"
          ]
        }
      ]
    },
    {
      "cell_type": "markdown",
      "source": [
        "<sup>Source: [Add Trait](https://doc.rust-lang.org/std/ops/trait.Add.html) from rust-lang.org</sup>"
      ],
      "metadata": {
        "id": "zS4ZBJP9JSgU"
      }
    },
    {
      "cell_type": "code",
      "source": [
        "!rustc add.rs\n",
        "!./add"
      ],
      "metadata": {
        "id": "cBvGZhekDnkF",
        "colab": {
          "base_uri": "https://localhost:8080/"
        },
        "outputId": "059a1636-9fb4-421f-9f1d-714c7daa4775"
      },
      "execution_count": 7,
      "outputs": [
        {
          "output_type": "stream",
          "name": "stdout",
          "text": [
            "Point 1: Point { x: 1, y: 0 }\n",
            "Point 2: Point { x: 2, y: 3 }\n",
            "Result: Point { x: 3, y: 3 }\n"
          ]
        }
      ]
    },
    {
      "cell_type": "markdown",
      "source": [
        "# **References and Additional Learning**"
      ],
      "metadata": {
        "id": "vZQFWhtRzAgf"
      }
    },
    {
      "cell_type": "markdown",
      "source": [
        "## **Documentation**\n",
        "\n",
        "- **[Learn Rust](https://www.rust-lang.org/learn) from rust-lang.org**\n",
        "- **[Rust Documentation](https://www.rust-lang.org) from rust-lang.org**\n",
        "- **[The Rust Standard Library](https://doc.rust-lang.org/std/index.html) from rust-lang.org**\n",
        "- **[The rustc Book](https://doc.rust-lang.org/rustc/what-is-rustc.html) from rust-lang.org**"
      ],
      "metadata": {
        "id": "7abvSmp_zGRQ"
      }
    },
    {
      "cell_type": "markdown",
      "source": [
        "## **Online IDE**\n",
        "\n",
        "- **[Rust Playground](https://play.rust-lang.org/?version=stable&mode=debug&edition=2021) on rust-lang.org**"
      ],
      "metadata": {
        "id": "7AAUCfcZBbzW"
      }
    },
    {
      "cell_type": "markdown",
      "source": [
        "## **Videos**\n",
        "\n",
        "- **[Let's Get Rusty](https://www.youtube.com/@letsgetrusty) YouTube Channel**"
      ],
      "metadata": {
        "id": "SvqT9nF80z2J"
      }
    },
    {
      "cell_type": "markdown",
      "source": [
        "# **Connect**\n",
        "- **Feel free to connect with Adrian on [YouTube](https://www.youtube.com/channel/UCPuDxI3xb_ryUUMfkm0jsRA), [LinkedIn](https://www.linkedin.com/in/adrian-dolinay-frm-96a289106/), [X](https://twitter.com/DolinayG), [GitHub](https://github.com/ad17171717), [Medium](https://adriandolinay.medium.com/) and [Odysee](https://odysee.com/@adriandolinay:0). Happy coding!**"
      ],
      "metadata": {
        "id": "mYML2SK3ztlM"
      }
    }
  ],
  "metadata": {
    "colab": {
      "provenance": [],
      "authorship_tag": "ABX9TyNzJkdeep6Skv0j+wCBDj4d",
      "include_colab_link": true
    },
    "kernelspec": {
      "display_name": "Python 3",
      "name": "python3"
    },
    "language_info": {
      "name": "python"
    }
  },
  "nbformat": 4,
  "nbformat_minor": 0
}