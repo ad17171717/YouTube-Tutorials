{
  "nbformat": 4,
  "nbformat_minor": 0,
  "metadata": {
    "colab": {
      "provenance": [],
      "authorship_tag": "ABX9TyNwIPJ2DCAp8lnOy6S1Zs7C",
      "include_colab_link": true
    },
    "kernelspec": {
      "name": "python3",
      "display_name": "Python 3"
    },
    "language_info": {
      "name": "python"
    }
  },
  "cells": [
    {
      "cell_type": "markdown",
      "metadata": {
        "id": "view-in-github",
        "colab_type": "text"
      },
      "source": [
        "<a href=\"https://colab.research.google.com/github/ad17171717/YouTube-Tutorials/blob/main/Google%20Colab%20Tutorials/Running_Mojo_in_Google_Colab!_(2024).ipynb\" target=\"_parent\"><img src=\"https://colab.research.google.com/assets/colab-badge.svg\" alt=\"Open In Colab\"/></a>"
      ]
    },
    {
      "cell_type": "markdown",
      "source": [
        "# **Mojo**\n",
        "\n",
        "**Mojo is a programming language designed as a superset of Python, making it familiar to Python users while offering enhanced capabilities. Mojo focuses on providing strong type checking, memory safety, and modern compiler technologies for AI and machine learning workloads. Mojo leverages Multi-Level Intermediate Representation for its compiler, enabling efficient use of accelerators such as AI chips, GPUs and modern CPUs. Mojo aims to unify Python’s usability with low-level performance, solving Python's \"two-world problem\" by bridging dynamic and static programming paradigms.**"
      ],
      "metadata": {
        "id": "8R0JYZPsX55R"
      }
    },
    {
      "cell_type": "markdown",
      "source": [
        "## **Running Mojo within Google Colab**\n",
        "\n",
        "**Currently Mojo is not installed in the same way as Python. Instead Mojo is run in a virtual environment using the Magic package manager or Anaconda. I will review both installation methods. Please note the Mojo documentation site recommends installing Mojo with Magic rather than Anaconda.**"
      ],
      "metadata": {
        "id": "CDSelRQWYyKZ"
      }
    },
    {
      "cell_type": "code",
      "source": [
        "import os"
      ],
      "metadata": {
        "id": "ZKT8A9kz6y4C"
      },
      "execution_count": 1,
      "outputs": []
    },
    {
      "cell_type": "markdown",
      "source": [
        "### **Mojo with Magic**"
      ],
      "metadata": {
        "id": "Gvak4FSRZ3yu"
      }
    },
    {
      "cell_type": "code",
      "source": [
        "#download and install magic\n",
        "!curl -ssL https://magic.modular.com/dab11b86-aec3-4986-8196-f8c142956053 | bash"
      ],
      "metadata": {
        "colab": {
          "base_uri": "https://localhost:8080/"
        },
        "id": "YUp-VJY86xZq",
        "outputId": "9a18f763-48f7-4f8c-eca4-028dc83add89"
      },
      "execution_count": 2,
      "outputs": [
        {
          "output_type": "stream",
          "name": "stdout",
          "text": [
            "Installing the latest version of Magic...\n",
            "############################################################################################# 100.0%\n",
            "Done. The 'magic' binary is in '/root/.modular/bin'\n",
            "\n",
            "Two more steps:\n",
            "\n",
            "1. To use 'magic', run this command so it's in your PATH:\n",
            "\n",
            "source /root/.bashrc \n",
            "\n",
            "2. To build with MAX and Mojo, go to http://modul.ar/get-started\n",
            "\n"
          ]
        }
      ]
    },
    {
      "cell_type": "code",
      "source": [
        "#add magic to path\n",
        "os.environ['PATH'] += ':/root/.modular/bin'"
      ],
      "metadata": {
        "id": "7IBvSXUd6xcq"
      },
      "execution_count": 3,
      "outputs": []
    },
    {
      "cell_type": "code",
      "source": [
        "#check that magic is in path\n",
        "!magic --version"
      ],
      "metadata": {
        "colab": {
          "base_uri": "https://localhost:8080/"
        },
        "id": "dIwdlfvx6xgD",
        "outputId": "d4014bb5-82f4-4dd6-d7ab-12a7dd5c300d"
      },
      "execution_count": 4,
      "outputs": [
        {
          "output_type": "stream",
          "name": "stdout",
          "text": [
            "magic 0.4.0 - (based on pixi 0.33.0)\n"
          ]
        }
      ]
    },
    {
      "cell_type": "code",
      "source": [
        "#create a magic project\n",
        "!magic init hello-world --format mojoproject"
      ],
      "metadata": {
        "id": "Hi4RmH4e6xj6"
      },
      "execution_count": null,
      "outputs": []
    },
    {
      "cell_type": "code",
      "source": [
        "#change into the hello-world directory\n",
        "%cd hello-world"
      ],
      "metadata": {
        "colab": {
          "base_uri": "https://localhost:8080/"
        },
        "id": "G1D73PZc6xn6",
        "outputId": "e54cdc3c-564c-4a77-e9b3-dcdcbc8d2e24"
      },
      "execution_count": 6,
      "outputs": [
        {
          "output_type": "stream",
          "name": "stdout",
          "text": [
            "/content/hello-world\n"
          ]
        }
      ]
    },
    {
      "cell_type": "code",
      "source": [
        "#check that mojo is available\n",
        "!magic run mojo --version"
      ],
      "metadata": {
        "colab": {
          "base_uri": "https://localhost:8080/"
        },
        "id": "22Z8W7v-6xrK",
        "outputId": "402dafc9-a3ee-4dc8-d257-f400ad8332c4"
      },
      "execution_count": 7,
      "outputs": [
        {
          "output_type": "stream",
          "name": "stdout",
          "text": [
            "\u001b[2Kmojo 24.5.0 (e8aacb95)\n"
          ]
        }
      ]
    },
    {
      "cell_type": "code",
      "source": [
        "#write a simple mojo script\n",
        "%%bash\n",
        "cat > hello.mojo <<EOF\n",
        "def main():\n",
        "    print(\"Hello, world!\")\n",
        "EOF"
      ],
      "metadata": {
        "id": "Cy5NIW4o6xur"
      },
      "execution_count": 8,
      "outputs": []
    },
    {
      "cell_type": "code",
      "source": [
        "#run the mojo script\n",
        "!magic run mojo hello.mojo"
      ],
      "metadata": {
        "colab": {
          "base_uri": "https://localhost:8080/"
        },
        "id": "1VU01g0Z801C",
        "outputId": "b06e6b25-9080-41ea-c119-2583e01179ac"
      },
      "execution_count": 9,
      "outputs": [
        {
          "output_type": "stream",
          "name": "stdout",
          "text": [
            "\u001b[2KHello, world!\n"
          ]
        }
      ]
    },
    {
      "cell_type": "markdown",
      "source": [
        "### **Mojo with Anaconda**"
      ],
      "metadata": {
        "id": "7FryrpnIZ0op"
      }
    },
    {
      "cell_type": "code",
      "source": [
        "#change directory to content\n",
        "%cd /content/"
      ],
      "metadata": {
        "colab": {
          "base_uri": "https://localhost:8080/"
        },
        "id": "me9D57J762gi",
        "outputId": "eb66d188-0c07-426f-8cbf-4166e822d890"
      },
      "execution_count": 10,
      "outputs": [
        {
          "output_type": "stream",
          "name": "stdout",
          "text": [
            "/content\n"
          ]
        }
      ]
    },
    {
      "cell_type": "code",
      "source": [
        "#download miniconda installer\n",
        "!wget https://repo.anaconda.com/miniconda/Miniconda3-latest-Linux-x86_64.sh -O miniconda.sh"
      ],
      "metadata": {
        "colab": {
          "base_uri": "https://localhost:8080/"
        },
        "id": "M2PSk10862ni",
        "outputId": "f50937f0-cfbc-4d0c-9f3c-872b7bc9e6d3"
      },
      "execution_count": 11,
      "outputs": [
        {
          "output_type": "stream",
          "name": "stdout",
          "text": [
            "--2024-10-29 15:52:46--  https://repo.anaconda.com/miniconda/Miniconda3-latest-Linux-x86_64.sh\n",
            "Resolving repo.anaconda.com (repo.anaconda.com)... 104.16.191.158, 104.16.32.241, 2606:4700::6810:20f1, ...\n",
            "Connecting to repo.anaconda.com (repo.anaconda.com)|104.16.191.158|:443... connected.\n",
            "HTTP request sent, awaiting response... 200 OK\n",
            "Length: 148337011 (141M) [application/octet-stream]\n",
            "Saving to: ‘miniconda.sh’\n",
            "\n",
            "miniconda.sh        100%[===================>] 141.46M   144MB/s    in 1.0s    \n",
            "\n",
            "2024-10-29 15:52:47 (144 MB/s) - ‘miniconda.sh’ saved [148337011/148337011]\n",
            "\n"
          ]
        }
      ]
    },
    {
      "cell_type": "code",
      "source": [
        "#install miniconda\n",
        "!bash miniconda.sh -b -p /usr/local/miniconda"
      ],
      "metadata": {
        "colab": {
          "base_uri": "https://localhost:8080/"
        },
        "id": "KW7YlqtN62t7",
        "outputId": "1e0703dd-d8b9-468d-f0fe-bb118cf5a79d"
      },
      "execution_count": 12,
      "outputs": [
        {
          "output_type": "stream",
          "name": "stdout",
          "text": [
            "PREFIX=/usr/local/miniconda\n",
            "Unpacking payload ...\n",
            "\n",
            "Installing base environment...\n",
            "\n",
            "Preparing transaction: ...working... done\n",
            "Executing transaction: ...working... done\n",
            "installation finished.\n",
            "WARNING:\n",
            "    You currently have a PYTHONPATH environment variable set. This may cause\n",
            "    unexpected behavior when running the Python interpreter in Miniconda3.\n",
            "    For best results, please verify that your PYTHONPATH only points to\n",
            "    directories of packages that are compatible with the Python interpreter\n",
            "    in Miniconda3: /usr/local/miniconda\n"
          ]
        }
      ]
    },
    {
      "cell_type": "code",
      "source": [
        "#remove miniconda installer\n",
        "!rm miniconda.sh"
      ],
      "metadata": {
        "id": "1JLRET2O620S"
      },
      "execution_count": 13,
      "outputs": []
    },
    {
      "cell_type": "code",
      "source": [
        "#add miniconda to path\n",
        "os.environ[\"PATH\"] += \":/usr/local/bin:/usr/local/conda/bin:/usr/local/miniconda/bin\""
      ],
      "metadata": {
        "id": "C62Jw4yr627y"
      },
      "execution_count": 14,
      "outputs": []
    },
    {
      "cell_type": "code",
      "source": [
        "#check that miniconda is available\n",
        "!conda --version"
      ],
      "metadata": {
        "colab": {
          "base_uri": "https://localhost:8080/"
        },
        "id": "Id_vFr7a63CL",
        "outputId": "2ba1de8b-7772-46e2-d86b-b5b87c54be50"
      },
      "execution_count": 15,
      "outputs": [
        {
          "output_type": "stream",
          "name": "stdout",
          "text": [
            "conda 24.9.2\n"
          ]
        }
      ]
    },
    {
      "cell_type": "code",
      "source": [
        "#create a conda environment to access mojo\n",
        "!conda create -n mojo_env -c conda-forge -c https://conda.modular.com/max/ python=3.11 max=* -y"
      ],
      "metadata": {
        "id": "s2WHGAvX-exR"
      },
      "execution_count": null,
      "outputs": []
    },
    {
      "cell_type": "code",
      "source": [
        "#check that mojo is available\n",
        "!conda run -n mojo_env mojo --version"
      ],
      "metadata": {
        "colab": {
          "base_uri": "https://localhost:8080/"
        },
        "id": "wJrsYLDs63Iz",
        "outputId": "a12d485f-6cca-42af-9d91-b45634f5528c"
      },
      "execution_count": 17,
      "outputs": [
        {
          "output_type": "stream",
          "name": "stdout",
          "text": [
            "mojo 24.5.0 (e8aacb95)\n",
            "\n"
          ]
        }
      ]
    },
    {
      "cell_type": "code",
      "source": [
        "#run the mojo script with miniconda\n",
        "!conda run -n mojo_env mojo /content/hello-world/hello.mojo"
      ],
      "metadata": {
        "colab": {
          "base_uri": "https://localhost:8080/"
        },
        "id": "U1NPGZjn63YK",
        "outputId": "65e50d0f-c2c0-43fa-9935-be98e0f2af4b"
      },
      "execution_count": 18,
      "outputs": [
        {
          "output_type": "stream",
          "name": "stdout",
          "text": [
            "Hello, world!\n",
            "\n"
          ]
        }
      ]
    },
    {
      "cell_type": "markdown",
      "source": [
        "# **References and Additional Learning**"
      ],
      "metadata": {
        "id": "4cf9Rok0pXlc"
      }
    },
    {
      "cell_type": "markdown",
      "source": [
        "## **Documentation**\n",
        "\n",
        "- **[Get started with Magic](https://docs.modular.com/magic/) from docs.modular.com**\n",
        "\n",
        "- **[Miniconda Documentation](https://docs.anaconda.com/miniconda/) from docs.anaconda.com**\n",
        "\n",
        "- **[Mojo Manual](https://docs.modular.com/mojo/manual/) from docs.modular.com**"
      ],
      "metadata": {
        "id": "uAaxvumvpYC3"
      }
    },
    {
      "cell_type": "markdown",
      "source": [
        "## **Videos**\n",
        "\n",
        "- **[I Interviewed The Creator Of LLVM, Clang, Swift, and Mojo](https://www.youtube.com/watch?v=ovYbgbrQ-v8&t=62s&ab_channel=ThePrimeTime) from the Primagen**\n",
        "\n",
        "- **[Introduction to Mojo programming language | Chris Lattner and Lex Fridman](https://www.youtube.com/watch?v=j2BtOxtlJk4&ab_channel=LexClips)**\n",
        "\n",
        "- **[PyTorch vs Tinygrad vs Mojo: Which is better? | George Hotz and Lex Fridman](https://www.youtube.com/watch?v=YR-1fyQXK1o&ab_channel=LexClips)**"
      ],
      "metadata": {
        "id": "GkhfroUtpcAx"
      }
    },
    {
      "cell_type": "markdown",
      "source": [
        "# **Connect**\n",
        "- **Feel free to connect with Adrian on [YouTube](https://www.youtube.com/channel/UCPuDxI3xb_ryUUMfkm0jsRA), [LinkedIn](https://www.linkedin.com/in/adrian-dolinay-frm-96a289106/), [X](https://twitter.com/DolinayG), [GitHub](https://github.com/ad17171717), [Medium](https://adriandolinay.medium.com/) and [Odysee](https://odysee.com/@adriandolinay:0). Happy coding!**"
      ],
      "metadata": {
        "id": "C3b66TnaphGC"
      }
    },
    {
      "cell_type": "markdown",
      "source": [
        "# **Podcast**\n",
        "\n",
        "- **Check out Adrian's Podcast, The Aspiring STEM Geek on [YouTube](https://www.youtube.com/@AdrianDolinay/podcasts), [Spotify](https://open.spotify.com/show/60dPNJbDPaPw7ru8g5btxV), [Apple Podcasts](https://podcasts.apple.com/us/podcast/the-aspiring-stem-geek/id1765996824), [Audible](https://www.audible.com/podcast/The-Aspiring-STEM-Geek/B0DC73S9SN?eac_link=MCFKvkxuqKYU&ref=web_search_eac_asin_1&eac_selected_type=asin&eac_selected=B0DC73S9SN&qid=IrZ84nGqvz&eac_id=141-8769271-5781515_IrZ84nGqvz&sr=1-1) and [iHeart Radio](https://www.iheart.com/podcast/269-the-aspiring-stem-geek-202676097/)!**"
      ],
      "metadata": {
        "id": "8q7AZeEHplt4"
      }
    }
  ]
}