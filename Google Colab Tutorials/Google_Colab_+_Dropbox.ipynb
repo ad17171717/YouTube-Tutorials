{
  "nbformat": 4,
  "nbformat_minor": 0,
  "metadata": {
    "colab": {
      "provenance": [],
      "authorship_tag": "ABX9TyMoHXCh4Rj1+v8FRp1MPm8t",
      "include_colab_link": true
    },
    "kernelspec": {
      "name": "python3",
      "display_name": "Python 3"
    },
    "language_info": {
      "name": "python"
    }
  },
  "cells": [
    {
      "cell_type": "markdown",
      "metadata": {
        "id": "view-in-github",
        "colab_type": "text"
      },
      "source": [
        "<a href=\"https://colab.research.google.com/github/ad17171717/YouTube-Tutorials/blob/main/Google%20Colab%20Tutorials/Google_Colab_%2B_Dropbox.ipynb\" target=\"_parent\"><img src=\"https://colab.research.google.com/assets/colab-badge.svg\" alt=\"Open In Colab\"/></a>"
      ]
    },
    {
      "cell_type": "code",
      "source": [
        "!pip install dropbox"
      ],
      "metadata": {
        "colab": {
          "base_uri": "https://localhost:8080/"
        },
        "id": "WIwPJYZXwPii",
        "outputId": "98ad8648-a8e9-4e57-8977-79285752898c"
      },
      "execution_count": null,
      "outputs": [
        {
          "output_type": "stream",
          "name": "stdout",
          "text": [
            "Requirement already satisfied: dropbox in /usr/local/lib/python3.11/dist-packages (12.0.2)\n",
            "Requirement already satisfied: requests>=2.16.2 in /usr/local/lib/python3.11/dist-packages (from dropbox) (2.32.3)\n",
            "Requirement already satisfied: six>=1.12.0 in /usr/local/lib/python3.11/dist-packages (from dropbox) (1.17.0)\n",
            "Requirement already satisfied: stone<3.3.3,>=2 in /usr/local/lib/python3.11/dist-packages (from dropbox) (3.3.1)\n",
            "Requirement already satisfied: charset-normalizer<4,>=2 in /usr/local/lib/python3.11/dist-packages (from requests>=2.16.2->dropbox) (3.4.1)\n",
            "Requirement already satisfied: idna<4,>=2.5 in /usr/local/lib/python3.11/dist-packages (from requests>=2.16.2->dropbox) (3.10)\n",
            "Requirement already satisfied: urllib3<3,>=1.21.1 in /usr/local/lib/python3.11/dist-packages (from requests>=2.16.2->dropbox) (2.3.0)\n",
            "Requirement already satisfied: certifi>=2017.4.17 in /usr/local/lib/python3.11/dist-packages (from requests>=2.16.2->dropbox) (2025.1.31)\n",
            "Requirement already satisfied: ply>=3.4 in /usr/local/lib/python3.11/dist-packages (from stone<3.3.3,>=2->dropbox) (3.11)\n"
          ]
        }
      ]
    },
    {
      "cell_type": "markdown",
      "source": [
        "# **Dropbox**\n",
        "\n",
        "**Dropbox is a file hosting service. Dropbox can store a variety of file types including: PDFs, videos, images and programming scripts to name a few. To access Dropbox and files in a Google Colab session we can install the Python SDK using `pip` and connect to a Dropbox account via an access token.**"
      ],
      "metadata": {
        "id": "P9LpSnRtRZL1"
      }
    },
    {
      "cell_type": "markdown",
      "source": [
        "<sup>Source: [Dropbox SDK for Python](https://github.com/dropbox/dropbox-sdk-python) on GitHub.com</sup>"
      ],
      "metadata": {
        "id": "JSfsNGhse-T2"
      }
    },
    {
      "cell_type": "code",
      "source": [
        "import dropbox\n",
        "from google.colab import runtime"
      ],
      "metadata": {
        "id": "mrIqy0D2ypGZ"
      },
      "execution_count": null,
      "outputs": []
    },
    {
      "cell_type": "markdown",
      "source": [
        "## **Connect Dropbox in the Google Colag Session**"
      ],
      "metadata": {
        "id": "6lh2ruddVMV-"
      }
    },
    {
      "cell_type": "code",
      "source": [
        "ACCESS_TOKEN = 'sl.u.AFl4406btrl4qYkFiXbFEJXzneevbMNL-RakHL4IcR3mXS_Wzz2iZtGehQGW_51ekfzV2-AiRpzWYqiSKE1tKN2K6b_6AQvGLLV1YbYHskI4UYteu33XjMUP5snbMIfpNxXtcCzLCiKhPPYRhFluYs5BuKIhKuhBs4tkUrphvoHg-buNKgWm1gZn6uc-h6wYyGHYRvEzPoXvGLvNZ-Z2yB57IuVVS836LZfIyUfVuxK3VOWKU29DmmhNd05RoE6MJ-TuoNWO5FMoDdJlHSwhgxD83w6mSr5pRNxWvB1KB-Rqj06Qyql56TCgGwfx3DPiIBzd8dluwe1wYoaFAaXszDL_oy7KUfYZNbZuHTRGHjcqFXo8S4ee1Kq2BjW2mEvKxqsY-vBVUfRO7PFPD5hR7gYFxdlTtbm2UK_56BzEcFgQYaTc4Wxo7pSAN3MUjpg45M_suZPLzMnlRakDlhmzRLpafkqv6VHHXb58cddlf9t1nkhOJ9s_R4Ca_KK4VSBaZFZ50AIqTP__mvgZi9lyL0hIEaH84qMM4uIJ_BhJUqIh3sXX52qCC3FRHOwJN5giKAJcvOLt---Jfb3JQcYkiP5iU4RKn1nbEMvsNO3oPXwzEM99zL3Hu_mYrTw4wGJJIKzDR-dXpzipx-maAf1bc3UoNDJAOgIpo1GqFSSyYTg-qpkhAZVkkbRshZLtaXMeMv6mYE2AK7jXJ81lQGidheEds5IT1capdtcSkJzTtuKxzU7f2HB19Hf6QFxeDW7P7s3xV868fIy2OKN1v0URlftNvUgVeX6XSf6LVgtudnSq2FgFZ9YQa6Y7UUZpABEo9MXCyHEQnLw_A6dcWkDdUSdP0DTCsys-fTJzrOIpFIM_s1wtD48jLei5OzMqkH9ENsavLpACYBVNQuU8IN70hQKTMJ6L6_2RNQMo0c55vgrmlOCGFZ5GWQ1oMfYsRFKgzJA1ZTdlVTPPk-N5UCeffMt0RnmjdJvbFwwdjjs_HBpVe75_BSNkYfLvQWGzs4A7e-EViJlCD2hJ6Mc1hMGJGfn17niab_Kx2OP6aihZkFLsenUGpr8RZa7L_8ZCtPvlJyLsZL5JGm_uLvqkzvL9bCx3Y_98_U_fC5CUw4v16X1eTS_VoyhcAtKYMW3d2ybV22i2RKf_uNbGHJHdD03IOXI9grWgPjLzOpz9qXaG_VHAbf1oGwC02hMsV8m3NVcakE3QVaEGcXSkCRMH-AnVGWrTypw6qmfdUmzxFsiBHWuj1kfFMxAP2ix7S4IpZCxBk6RIgPGBbLZ0C5Zz6L6Qzcp28x-SH-Y9iODrVioOLLwfq5tPxmt4mGb9I3Bk7-9bT9SZgtPX4s_FBAtkOIS-ZBXPHCfkJqM8I4bHnD6Gy9lBjwA_EwL7MV9_MTiUqGNcBu6-ayo6mU4BzD_AGPviddDq'\n",
        "dbx = dropbox.Dropbox(ACCESS_TOKEN)"
      ],
      "metadata": {
        "id": "KAghvfY-yWJ0"
      },
      "execution_count": null,
      "outputs": []
    },
    {
      "cell_type": "code",
      "source": [
        "try:\n",
        "  #test the connection\n",
        "  dbx.files_list_folder('')\n",
        "  print('✅ Dropbox connection successful!')\n",
        "except dropbox.exceptions.AuthError:\n",
        "  print(\"❌ Authentication failed! Check your access token.\")\n",
        "except Exception as e:\n",
        "  print(f\"❌ Error: {e}\")"
      ],
      "metadata": {
        "colab": {
          "base_uri": "https://localhost:8080/"
        },
        "id": "HEBrVgu9yuI6",
        "outputId": "6ca440ab-6d45-4f94-eb96-67707067474b"
      },
      "execution_count": null,
      "outputs": [
        {
          "output_type": "stream",
          "name": "stdout",
          "text": [
            "✅ Dropbox connection successful!\n"
          ]
        }
      ]
    },
    {
      "cell_type": "code",
      "source": [
        "#list all the files in Dropbox\n",
        "for entry in dbx.files_list_folder('').entries:\n",
        "    if isinstance(entry, dropbox.files.FileMetadata):\n",
        "        print(entry.name)"
      ],
      "metadata": {
        "id": "VqnB6lwG2o3O",
        "colab": {
          "base_uri": "https://localhost:8080/"
        },
        "outputId": "1b5eae9c-737e-41f0-b385-154839ae2dbb"
      },
      "execution_count": null,
      "outputs": [
        {
          "output_type": "stream",
          "name": "stdout",
          "text": [
            "test1.txt\n",
            "test2.txt\n"
          ]
        }
      ]
    },
    {
      "cell_type": "markdown",
      "source": [
        "## **Download File from Dropbox into Google Colab**"
      ],
      "metadata": {
        "id": "IrhmXQPGKP3g"
      }
    },
    {
      "cell_type": "code",
      "source": [
        "def download_from_dropbox(dropbox_path, local_path):\n",
        "    try:\n",
        "        #download file from Dropbox\n",
        "        metadata, res = dbx.files_download(f'/{dropbox_path}')\n",
        "\n",
        "        #save the file in specified directory\n",
        "        with open(local_path, 'wb') as f:\n",
        "            f.write(res.content)\n",
        "\n",
        "        print(f'✅ Downloaded \"{dropbox_path}\" to \"{local_path}\"')\n",
        "\n",
        "    except dropbox.exceptions.ApiError as err:\n",
        "        print('❌ Error:', err)"
      ],
      "metadata": {
        "colab": {
          "base_uri": "https://localhost:8080/"
        },
        "id": "ePurhDEKIsTq",
        "outputId": "a93d5f96-c089-4d9a-91ea-3684442a411a"
      },
      "execution_count": null,
      "outputs": [
        {
          "output_type": "stream",
          "name": "stdout",
          "text": [
            "✅ Downloaded 'test4.txt' to 'test4.txt'\n"
          ]
        }
      ]
    },
    {
      "cell_type": "code",
      "source": [
        "#download file from Dropbox to Colab\n",
        "dropbox_file_path = 'test4.txt'\n",
        "local_save_path = 'test4.txt'\n",
        "\n",
        "download_from_dropbox(dropbox_file_path, local_save_path)"
      ],
      "metadata": {
        "id": "_o3ZEzsaWsvp"
      },
      "execution_count": null,
      "outputs": []
    },
    {
      "cell_type": "code",
      "source": [
        "#open the file and read it into a Python string\n",
        "with open('test4.txt', 'r') as text_file:\n",
        "    text_string = text_file.read()\n",
        "\n",
        "print(text_string)"
      ],
      "metadata": {
        "colab": {
          "base_uri": "https://localhost:8080/"
        },
        "id": "4Fv18Mz5IsW7",
        "outputId": "26c1601a-acc1-4f88-f36c-ff8335e69c4c"
      },
      "execution_count": null,
      "outputs": [
        {
          "output_type": "stream",
          "name": "stdout",
          "text": [
            "this is a test\n",
            "\n"
          ]
        }
      ]
    },
    {
      "cell_type": "markdown",
      "source": [
        "## **Upload a File from Google Colab to Dropbox**"
      ],
      "metadata": {
        "id": "CjKDKhVQQKKk"
      }
    },
    {
      "cell_type": "code",
      "source": [
        "def upload_to_dropbox(local_path, dropbox_path):\n",
        "    try:\n",
        "        with open(local_path, 'rb') as f:\n",
        "            dbx.files_upload(f.read(), dropbox_path, mode=dropbox.files.WriteMode('overwrite'))\n",
        "\n",
        "        print(f'✅ Uploaded \"{local_path}\" to Dropbox at \"{dropbox_path}\"')\n",
        "\n",
        "    except Exception as err:\n",
        "        print('❌ Upload Error:', err)"
      ],
      "metadata": {
        "id": "OlbkVh50Isac"
      },
      "execution_count": null,
      "outputs": []
    },
    {
      "cell_type": "code",
      "source": [
        "#write text to a Python string\n",
        "upload_str = 'this is an upload'\n",
        "\n",
        "#write Python string to a text file\n",
        "with open('upload.txt', 'w') as upload_file:\n",
        "    upload_file.write(upload_str)"
      ],
      "metadata": {
        "id": "-xalPw-6QqGP"
      },
      "execution_count": null,
      "outputs": []
    },
    {
      "cell_type": "code",
      "source": [
        "#upload file from Colab to Dropbox\n",
        "local_file_path = '/content/upload.txt'\n",
        "dropbox_file_path = '/upload.txt'\n",
        "upload_to_dropbox(local_file_path, dropbox_file_path)"
      ],
      "metadata": {
        "colab": {
          "base_uri": "https://localhost:8080/"
        },
        "id": "Vp4Xv5YFQqLd",
        "outputId": "e65bc82d-f7ad-4450-cf02-8e163981bc70"
      },
      "execution_count": null,
      "outputs": [
        {
          "output_type": "stream",
          "name": "stdout",
          "text": [
            "✅ Uploaded '/content/upload.txt' to Dropbox at '/upload.txt'\n"
          ]
        }
      ]
    },
    {
      "cell_type": "markdown",
      "source": [
        "# **References and Additional Learning**"
      ],
      "metadata": {
        "id": "wdesck2RQevG"
      }
    },
    {
      "cell_type": "markdown",
      "source": [
        "## **Documentation**\n",
        "\n",
        "- **[Dropbox SDK for Python](https://github.com/dropbox/dropbox-sdk-python) on GitHub.com**"
      ],
      "metadata": {
        "id": "eMGxk-eURjzY"
      }
    },
    {
      "cell_type": "markdown",
      "source": [
        "# **Connect**\n",
        "- **Feel free to connect with Adrian on [YouTube](https://www.youtube.com/channel/UCPuDxI3xb_ryUUMfkm0jsRA), [LinkedIn](https://www.linkedin.com/in/adrian-dolinay-frm-96a289106/), [X](https://twitter.com/DolinayG), [GitHub](https://github.com/ad17171717), [Medium](https://adriandolinay.medium.com/) and [Odysee](https://odysee.com/@adriandolinay:0). Happy coding!**"
      ],
      "metadata": {
        "id": "DtSod8BaQghB"
      }
    },
    {
      "cell_type": "markdown",
      "source": [
        "# **Podcast**\n",
        "\n",
        "- **Check out Adrian's Podcast, The Aspiring STEM Geek on [YouTube](https://www.youtube.com/@AdrianDolinay/podcasts), [Spotify](https://open.spotify.com/show/60dPNJbDPaPw7ru8g5btxV), [Apple Podcasts](https://podcasts.apple.com/us/podcast/the-aspiring-stem-geek/id1765996824), [Audible](https://www.audible.com/podcast/The-Aspiring-STEM-Geek/B0DC73S9SN?eac_link=MCFKvkxuqKYU&ref=web_search_eac_asin_1&eac_selected_type=asin&eac_selected=B0DC73S9SN&qid=IrZ84nGqvz&eac_id=141-8769271-5781515_IrZ84nGqvz&sr=1-1) and [iHeart Radio](https://www.iheart.com/podcast/269-the-aspiring-stem-geek-202676097/)!**"
      ],
      "metadata": {
        "id": "0sGeXXj-QgkH"
      }
    }
  ]
}