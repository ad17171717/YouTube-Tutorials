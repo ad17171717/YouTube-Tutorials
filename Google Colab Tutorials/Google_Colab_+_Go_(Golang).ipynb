{
  "nbformat": 4,
  "nbformat_minor": 0,
  "metadata": {
    "colab": {
      "provenance": [],
      "authorship_tag": "ABX9TyN56efJqJLBC3C2mas0NbvB",
      "include_colab_link": true
    },
    "kernelspec": {
      "name": "python3",
      "display_name": "Python 3"
    },
    "language_info": {
      "name": "python"
    }
  },
  "cells": [
    {
      "cell_type": "markdown",
      "metadata": {
        "id": "view-in-github",
        "colab_type": "text"
      },
      "source": [
        "<a href=\"https://colab.research.google.com/github/ad17171717/YouTube-Tutorials/blob/main/Google%20Colab%20Tutorials/Google_Colab_%2B_Go_(Golang).ipynb\" target=\"_parent\"><img src=\"https://colab.research.google.com/assets/colab-badge.svg\" alt=\"Open In Colab\"/></a>"
      ]
    },
    {
      "cell_type": "markdown",
      "source": [
        "# **Golang (Go)**\n",
        "\n",
        "**Golang (Go) is an open-source, statically typed and compiled programming language created in 2007 within Google.**\n",
        "\n",
        "**Go has a runtime library that is part of every Go program. This library implements garbage collection, concurrency, stack management, and other critical features of the Go language.**\n",
        "\n",
        "**Go omits certain features like type inheritance and exceptions to keep the language simple and efficient.**\n",
        "\n",
        "**Docker and Kubernetes are two programs widely used programs that are written in Go.**"
      ],
      "metadata": {
        "id": "oIegpHVeTyO4"
      }
    },
    {
      "cell_type": "markdown",
      "source": [
        "<sup>Source: [Go: Frequently Asked Questions](https://go.dev/doc/faq#What_is_the_purpose_of_the_project) from go.dev</sup>"
      ],
      "metadata": {
        "id": "Hs40hZy_IIiW"
      }
    },
    {
      "cell_type": "markdown",
      "source": [
        "# **Install Go in Colab Session**"
      ],
      "metadata": {
        "id": "RvP3AtPu4yQN"
      }
    },
    {
      "cell_type": "code",
      "source": [
        "#download binaries for go\n",
        "!wget https://dl.google.com/go/go1.19.6.linux-amd64.tar.gz\n",
        "\n",
        "#extract binaries from tarball and place in /usr/local directory\n",
        "!sudo tar -C /usr/local -xzf go1.19.6.linux-amd64.tar.gz\n",
        "\n",
        "#remove tarball\n",
        "!rm go1.19.6.linux-amd64.tar.gz"
      ],
      "metadata": {
        "colab": {
          "base_uri": "https://localhost:8080/"
        },
        "id": "8GeZxuDzT17w",
        "outputId": "d16fe173-4983-4a88-ae86-09137f70dc7a"
      },
      "execution_count": 1,
      "outputs": [
        {
          "output_type": "stream",
          "name": "stdout",
          "text": [
            "--2024-07-09 20:12:19--  https://dl.google.com/go/go1.19.6.linux-amd64.tar.gz\n",
            "Resolving dl.google.com (dl.google.com)... 142.251.163.190, 142.251.163.91, 142.251.163.136, ...\n",
            "Connecting to dl.google.com (dl.google.com)|142.251.163.190|:443... connected.\n",
            "HTTP request sent, awaiting response... 200 OK\n",
            "Length: 149006448 (142M) [application/x-gzip]\n",
            "Saving to: ‘go1.19.6.linux-amd64.tar.gz’\n",
            "\n",
            "go1.19.6.linux-amd6 100%[===================>] 142.10M  42.1MB/s    in 3.4s    \n",
            "\n",
            "2024-07-09 20:12:23 (41.4 MB/s) - ‘go1.19.6.linux-amd64.tar.gz’ saved [149006448/149006448]\n",
            "\n"
          ]
        }
      ]
    },
    {
      "cell_type": "code",
      "source": [
        "import os\n",
        "#add the go executable to path\n",
        "os.environ['PATH'] += ':/usr/local/go/bin'"
      ],
      "metadata": {
        "id": "ENHCMhIbsL7Z"
      },
      "execution_count": 2,
      "outputs": []
    },
    {
      "cell_type": "code",
      "source": [
        "#check that go is installed\n",
        "!go version"
      ],
      "metadata": {
        "colab": {
          "base_uri": "https://localhost:8080/"
        },
        "id": "941CY3sAsPg0",
        "outputId": "eef00dbc-4f82-4fe4-f87b-2ae9cb7d9f93"
      },
      "execution_count": 3,
      "outputs": [
        {
          "output_type": "stream",
          "name": "stdout",
          "text": [
            "go version go1.19.6 linux/amd64\n"
          ]
        }
      ]
    },
    {
      "cell_type": "markdown",
      "source": [
        "# **Hello, World! in Go**"
      ],
      "metadata": {
        "id": "OFLTrtIdT3so"
      }
    },
    {
      "cell_type": "code",
      "source": [
        "%%writefile hello.go\n",
        "\n",
        "package main\n",
        "\n",
        "import \"fmt\"\n",
        "\n",
        "func main() {\n",
        "    fmt.Println(\"Hello, World!\")\n",
        "}"
      ],
      "metadata": {
        "colab": {
          "base_uri": "https://localhost:8080/"
        },
        "id": "aN7iEXOlsT1N",
        "outputId": "cc9eaf10-4b4f-49e8-d073-46daa47dded3"
      },
      "execution_count": 4,
      "outputs": [
        {
          "output_type": "stream",
          "name": "stdout",
          "text": [
            "Writing hello.go\n"
          ]
        }
      ]
    },
    {
      "cell_type": "markdown",
      "source": [
        "<sup>Source: [Tutorial: Get started with Go](https://go.dev/doc/tutorial/getting-started) from go.dev</sup>"
      ],
      "metadata": {
        "id": "pckN00DpmPMh"
      }
    },
    {
      "cell_type": "code",
      "source": [
        "!go run hello.go"
      ],
      "metadata": {
        "id": "xZcRtnd9sdo8",
        "outputId": "c651b8ab-e897-45ae-9661-9fb08d6fe02a",
        "colab": {
          "base_uri": "https://localhost:8080/"
        }
      },
      "execution_count": 5,
      "outputs": [
        {
          "output_type": "stream",
          "name": "stdout",
          "text": [
            "Hello, World!\n"
          ]
        }
      ]
    },
    {
      "cell_type": "markdown",
      "source": [
        "# **Create an `addition` Function with Go**"
      ],
      "metadata": {
        "id": "MmNTVEDgULOg"
      }
    },
    {
      "cell_type": "code",
      "source": [
        "%%writefile functions.go\n",
        "\n",
        "package main\n",
        "\n",
        "import \"fmt\"\n",
        "\n",
        "func plus(a int, b int) int {\n",
        "\n",
        "    return a + b\n",
        "}\n",
        "\n",
        "func plusPlus(a, b, c int) int {\n",
        "    return a + b + c\n",
        "}\n",
        "\n",
        "func main() {\n",
        "\n",
        "    res := plus(1, 2)\n",
        "    fmt.Println(\"1+2 =\", res)\n",
        "\n",
        "    res = plusPlus(1, 2, 3)\n",
        "    fmt.Println(\"1+2+3 =\", res)\n",
        "}"
      ],
      "metadata": {
        "colab": {
          "base_uri": "https://localhost:8080/"
        },
        "id": "-JPrkIydUJww",
        "outputId": "8426b110-e85f-4578-96c1-c780b5c14540"
      },
      "execution_count": 6,
      "outputs": [
        {
          "output_type": "stream",
          "name": "stdout",
          "text": [
            "Writing functions.go\n"
          ]
        }
      ]
    },
    {
      "cell_type": "markdown",
      "source": [
        "<sup>Source: [Go by Example: Functions](https://gobyexample.com/functions) from go.dev</sup>"
      ],
      "metadata": {
        "id": "Hh8bXqy43DP0"
      }
    },
    {
      "cell_type": "code",
      "source": [
        "!go run functions.go"
      ],
      "metadata": {
        "colab": {
          "base_uri": "https://localhost:8080/"
        },
        "id": "47ZNCuETUXot",
        "outputId": "a8a8ce18-8ef7-45df-e14d-57ed1e263011"
      },
      "execution_count": 7,
      "outputs": [
        {
          "output_type": "stream",
          "name": "stdout",
          "text": [
            "1+2 = 3\n",
            "1+2+3 = 6\n"
          ]
        }
      ]
    },
    {
      "cell_type": "markdown",
      "source": [
        "# **Advantages of Go in Google Colab**\n",
        "\n",
        "- **Ease of Installation: It is relatively easy to install and use Go in a Colab session**\n",
        "\n",
        "- **Learning and Testing: Great for learning or creating small testing environments for Go scripts**"
      ],
      "metadata": {
        "id": "-XUzHOrSUhYI"
      }
    },
    {
      "cell_type": "markdown",
      "source": [
        "# **Disadvantages of Go in Google Colab**\n",
        "\n",
        "- **Limited Language Support: Google Colab is built for Python and R programming, meaning there is a lack of features and support for other languages like Go.**\n",
        "\n",
        "- **Resource Constraints: The free version of Colab has limited resources and cloud latency, which can make Go run slower compared to running it on a local machine or dedicated virtual machine.**\n",
        "\n",
        "- **Debugging Challenges: Debugging Go errors in a Colab session can be difficult since Colab does not offer Go debugging tools by default**"
      ],
      "metadata": {
        "id": "fgT1S-KAUnI4"
      }
    },
    {
      "cell_type": "markdown",
      "source": [
        "# **References and Additional Learning**"
      ],
      "metadata": {
        "id": "08_vd7Ifl_By"
      }
    },
    {
      "cell_type": "markdown",
      "source": [
        "## **Documentation**\n",
        "\n",
        "- **[Download and Install Go](https://go.dev/doc/install) from go.dev**\n",
        "\n",
        "- **[Go: Frequently Asked Questions](https://go.dev/doc/faq#What_is_the_purpose_of_the_project) from go.dev**\n",
        "\n",
        "- **[Go programming language Documentaion](https://go.dev/doc/) from go.dev**\n",
        "\n",
        "- **[Go by Example: Functions](https://gobyexample.com/functions) from go.dev**\n",
        "\n",
        "- **[Tutorial: Get started with Go](https://go.dev/doc/tutorial/getting-started) from go.dev**"
      ],
      "metadata": {
        "id": "r3a5yPVbloo6"
      }
    },
    {
      "cell_type": "markdown",
      "source": [
        "## **Videos**\n",
        "\n",
        "- **[Go Tutorial (Golang) for Beginners](https://www.youtube.com/watch?v=etSN4X_fCnM&t=73s&ab_channel=NetNinja) Playlist by Net Ninja on YouTube**\n",
        "\n",
        "- **[Why I Use Golang In 2024](https://www.youtube.com/watch?v=6gwF8mG3UUY&t=82s&ab_channel=ThePrimeTime) by ThePrimeTime on YouTube**"
      ],
      "metadata": {
        "id": "TaW2HJIT3tM0"
      }
    },
    {
      "cell_type": "markdown",
      "source": [
        "# **Connect**\n",
        "- **Feel free to connect with Adrian on [YouTube](https://www.youtube.com/channel/UCPuDxI3xb_ryUUMfkm0jsRA), [LinkedIn](https://www.linkedin.com/in/adrian-dolinay-frm-96a289106/), [X](https://twitter.com/DolinayG), [GitHub](https://github.com/ad17171717), [Medium](https://adriandolinay.medium.com/) and [Odysee](https://odysee.com/@adriandolinay:0). Happy coding!**"
      ],
      "metadata": {
        "id": "zxNEiQVSlg0z"
      }
    }
  ]
}