{
  "nbformat": 4,
  "nbformat_minor": 0,
  "metadata": {
    "colab": {
      "provenance": [],
      "authorship_tag": "ABX9TyMUd3BCCJag3EgCn5Oh727J",
      "include_colab_link": true
    },
    "kernelspec": {
      "name": "python3",
      "display_name": "Python 3"
    },
    "language_info": {
      "name": "python"
    }
  },
  "cells": [
    {
      "cell_type": "markdown",
      "metadata": {
        "id": "view-in-github",
        "colab_type": "text"
      },
      "source": [
        "<a href=\"https://colab.research.google.com/github/ad17171717/YouTube-Tutorials/blob/main/Google%20Colab%20Tutorials/Google_Colab_%2B_SQLite.ipynb\" target=\"_parent\"><img src=\"https://colab.research.google.com/assets/colab-badge.svg\" alt=\"Open In Colab\"/></a>"
      ]
    },
    {
      "cell_type": "markdown",
      "source": [
        "# **SQLite**\n",
        "\n",
        "**SQLite is a open source C-language library that implements a small, self-contained SQL database engine. A complete SQL database with multiple tables, indices, triggers, and views, is contained in a single disk file. With all features enabled, the library size can be less than 768 KB, depending on the target platform and compiler optimization settings.**\n",
        "\n",
        "**Because SQLite is self-contained it can be run on Google Colab. Other database management systems like MongoDB and Postgres operate using client server architecture, which requires access to ports. However, Google Colab's environment is managed and restricts access to ports.**"
      ],
      "metadata": {
        "id": "_ZgErO8R7wMK"
      }
    },
    {
      "cell_type": "markdown",
      "source": [
        "<sup>Source: [SQLite Documentation](https://www.sqlite.org/) from sqlite.org</sup>\n",
        "\n",
        "<sup>Source: [SQLite Is Public Domain](https://www.sqlite.org/copyright.html) from sqlite.org</sup>"
      ],
      "metadata": {
        "id": "iLD4OMvA8VyN"
      }
    },
    {
      "cell_type": "markdown",
      "source": [
        "# **Utilizing SQLite in Google Colab**\n",
        "\n",
        "**In this tutorial we will review how to create a SQLite database, read in data into the database and run queries on the database.**"
      ],
      "metadata": {
        "id": "5FdhNzunSPGj"
      }
    },
    {
      "cell_type": "code",
      "source": [
        "#download data\n",
        "!wget https://archive.ics.uci.edu/static/public/235/individual+household+electric+power+consumption.zip\n",
        "!unzip /content/individual+household+electric+power+consumption.zip"
      ],
      "metadata": {
        "id": "D4WHXCjBEpuo",
        "colab": {
          "base_uri": "https://localhost:8080/"
        },
        "outputId": "019969e8-8624-4a8d-f338-dc87def7604f"
      },
      "execution_count": null,
      "outputs": [
        {
          "output_type": "stream",
          "name": "stdout",
          "text": [
            "--2024-11-23 17:07:37--  https://archive.ics.uci.edu/static/public/235/individual+household+electric+power+consumption.zip\n",
            "Resolving archive.ics.uci.edu (archive.ics.uci.edu)... 128.195.10.252\n",
            "Connecting to archive.ics.uci.edu (archive.ics.uci.edu)|128.195.10.252|:443... connected.\n",
            "HTTP request sent, awaiting response... 200 OK\n",
            "Length: unspecified\n",
            "Saving to: ‘individual+household+electric+power+consumption.zip’\n",
            "\n",
            "individual+househol     [      <=>           ]  19.68M  3.76MB/s    in 5.7s    \n",
            "\n",
            "2024-11-23 17:07:43 (3.42 MB/s) - ‘individual+household+electric+power+consumption.zip’ saved [20640916]\n",
            "\n",
            "Archive:  /content/individual+household+electric+power+consumption.zip\n",
            "  inflating: household_power_consumption.txt  \n"
          ]
        }
      ]
    },
    {
      "cell_type": "code",
      "source": [
        "#check data\n",
        "!head /content/household_power_consumption.txt"
      ],
      "metadata": {
        "id": "nHs96wKwFQIw",
        "colab": {
          "base_uri": "https://localhost:8080/"
        },
        "outputId": "be91f105-b6a3-4824-8d9c-a052e4c7d20a"
      },
      "execution_count": null,
      "outputs": [
        {
          "output_type": "stream",
          "name": "stdout",
          "text": [
            "Date;Time;Global_active_power;Global_reactive_power;Voltage;Global_intensity;Sub_metering_1;Sub_metering_2;Sub_metering_3\r\n",
            "16/12/2006;17:24:00;4.216;0.418;234.840;18.400;0.000;1.000;17.000\r\n",
            "16/12/2006;17:25:00;5.360;0.436;233.630;23.000;0.000;1.000;16.000\r\n",
            "16/12/2006;17:26:00;5.374;0.498;233.290;23.000;0.000;2.000;17.000\r\n",
            "16/12/2006;17:27:00;5.388;0.502;233.740;23.000;0.000;1.000;17.000\r\n",
            "16/12/2006;17:28:00;3.666;0.528;235.680;15.800;0.000;1.000;17.000\r\n",
            "16/12/2006;17:29:00;3.520;0.522;235.020;15.000;0.000;2.000;17.000\r\n",
            "16/12/2006;17:30:00;3.702;0.520;235.090;15.800;0.000;1.000;17.000\r\n",
            "16/12/2006;17:31:00;3.700;0.520;235.220;15.800;0.000;1.000;17.000\r\n",
            "16/12/2006;17:32:00;3.668;0.510;233.990;15.800;0.000;1.000;17.000\r\n"
          ]
        }
      ]
    },
    {
      "cell_type": "code",
      "source": [
        "import sqlite3\n",
        "import pandas as pd\n",
        "import csv"
      ],
      "metadata": {
        "id": "VvRZa3M27kYK"
      },
      "execution_count": null,
      "outputs": []
    },
    {
      "cell_type": "markdown",
      "source": [
        "## **Reading in Data to SQLite from a pandas DataFrame**"
      ],
      "metadata": {
        "id": "n41B7y7PFj2w"
      }
    },
    {
      "cell_type": "code",
      "source": [
        "raw_data_path = '/content/household_power_consumption.txt'"
      ],
      "metadata": {
        "id": "6BJZmES-7kbB"
      },
      "execution_count": null,
      "outputs": []
    },
    {
      "cell_type": "code",
      "source": [
        "#read the data into a pandas DataFrame\n",
        "df = pd.read_csv(raw_data_path, sep=';', low_memory=False)\n",
        "print(f'The dataset has {df.shape[1]} columns and {df.shape[0]:,} rows')"
      ],
      "metadata": {
        "id": "nbEA9TeM7kea",
        "colab": {
          "base_uri": "https://localhost:8080/"
        },
        "outputId": "9220fcab-86ae-45be-c54a-5b2e473b7ab8"
      },
      "execution_count": null,
      "outputs": [
        {
          "output_type": "stream",
          "name": "stdout",
          "text": [
            "The dataset has 9 columns and 2,075,259 rows\n"
          ]
        }
      ]
    },
    {
      "cell_type": "code",
      "source": [
        "df.head()"
      ],
      "metadata": {
        "id": "1lSphESa7khz",
        "colab": {
          "base_uri": "https://localhost:8080/",
          "height": 206
        },
        "outputId": "ac51631e-3b3f-4fec-d5e1-877a3264db17"
      },
      "execution_count": null,
      "outputs": [
        {
          "output_type": "execute_result",
          "data": {
            "text/plain": [
              "         Date      Time Global_active_power Global_reactive_power  Voltage  \\\n",
              "0  16/12/2006  17:24:00               4.216                 0.418  234.840   \n",
              "1  16/12/2006  17:25:00               5.360                 0.436  233.630   \n",
              "2  16/12/2006  17:26:00               5.374                 0.498  233.290   \n",
              "3  16/12/2006  17:27:00               5.388                 0.502  233.740   \n",
              "4  16/12/2006  17:28:00               3.666                 0.528  235.680   \n",
              "\n",
              "  Global_intensity Sub_metering_1 Sub_metering_2  Sub_metering_3  \n",
              "0           18.400          0.000          1.000            17.0  \n",
              "1           23.000          0.000          1.000            16.0  \n",
              "2           23.000          0.000          2.000            17.0  \n",
              "3           23.000          0.000          1.000            17.0  \n",
              "4           15.800          0.000          1.000            17.0  "
            ],
            "text/html": [
              "\n",
              "  <div id=\"df-8daf5c7a-11c6-4cf0-9da9-df52f0c7e102\" class=\"colab-df-container\">\n",
              "    <div>\n",
              "<style scoped>\n",
              "    .dataframe tbody tr th:only-of-type {\n",
              "        vertical-align: middle;\n",
              "    }\n",
              "\n",
              "    .dataframe tbody tr th {\n",
              "        vertical-align: top;\n",
              "    }\n",
              "\n",
              "    .dataframe thead th {\n",
              "        text-align: right;\n",
              "    }\n",
              "</style>\n",
              "<table border=\"1\" class=\"dataframe\">\n",
              "  <thead>\n",
              "    <tr style=\"text-align: right;\">\n",
              "      <th></th>\n",
              "      <th>Date</th>\n",
              "      <th>Time</th>\n",
              "      <th>Global_active_power</th>\n",
              "      <th>Global_reactive_power</th>\n",
              "      <th>Voltage</th>\n",
              "      <th>Global_intensity</th>\n",
              "      <th>Sub_metering_1</th>\n",
              "      <th>Sub_metering_2</th>\n",
              "      <th>Sub_metering_3</th>\n",
              "    </tr>\n",
              "  </thead>\n",
              "  <tbody>\n",
              "    <tr>\n",
              "      <th>0</th>\n",
              "      <td>16/12/2006</td>\n",
              "      <td>17:24:00</td>\n",
              "      <td>4.216</td>\n",
              "      <td>0.418</td>\n",
              "      <td>234.840</td>\n",
              "      <td>18.400</td>\n",
              "      <td>0.000</td>\n",
              "      <td>1.000</td>\n",
              "      <td>17.0</td>\n",
              "    </tr>\n",
              "    <tr>\n",
              "      <th>1</th>\n",
              "      <td>16/12/2006</td>\n",
              "      <td>17:25:00</td>\n",
              "      <td>5.360</td>\n",
              "      <td>0.436</td>\n",
              "      <td>233.630</td>\n",
              "      <td>23.000</td>\n",
              "      <td>0.000</td>\n",
              "      <td>1.000</td>\n",
              "      <td>16.0</td>\n",
              "    </tr>\n",
              "    <tr>\n",
              "      <th>2</th>\n",
              "      <td>16/12/2006</td>\n",
              "      <td>17:26:00</td>\n",
              "      <td>5.374</td>\n",
              "      <td>0.498</td>\n",
              "      <td>233.290</td>\n",
              "      <td>23.000</td>\n",
              "      <td>0.000</td>\n",
              "      <td>2.000</td>\n",
              "      <td>17.0</td>\n",
              "    </tr>\n",
              "    <tr>\n",
              "      <th>3</th>\n",
              "      <td>16/12/2006</td>\n",
              "      <td>17:27:00</td>\n",
              "      <td>5.388</td>\n",
              "      <td>0.502</td>\n",
              "      <td>233.740</td>\n",
              "      <td>23.000</td>\n",
              "      <td>0.000</td>\n",
              "      <td>1.000</td>\n",
              "      <td>17.0</td>\n",
              "    </tr>\n",
              "    <tr>\n",
              "      <th>4</th>\n",
              "      <td>16/12/2006</td>\n",
              "      <td>17:28:00</td>\n",
              "      <td>3.666</td>\n",
              "      <td>0.528</td>\n",
              "      <td>235.680</td>\n",
              "      <td>15.800</td>\n",
              "      <td>0.000</td>\n",
              "      <td>1.000</td>\n",
              "      <td>17.0</td>\n",
              "    </tr>\n",
              "  </tbody>\n",
              "</table>\n",
              "</div>\n",
              "    <div class=\"colab-df-buttons\">\n",
              "\n",
              "  <div class=\"colab-df-container\">\n",
              "    <button class=\"colab-df-convert\" onclick=\"convertToInteractive('df-8daf5c7a-11c6-4cf0-9da9-df52f0c7e102')\"\n",
              "            title=\"Convert this dataframe to an interactive table.\"\n",
              "            style=\"display:none;\">\n",
              "\n",
              "  <svg xmlns=\"http://www.w3.org/2000/svg\" height=\"24px\" viewBox=\"0 -960 960 960\">\n",
              "    <path d=\"M120-120v-720h720v720H120Zm60-500h600v-160H180v160Zm220 220h160v-160H400v160Zm0 220h160v-160H400v160ZM180-400h160v-160H180v160Zm440 0h160v-160H620v160ZM180-180h160v-160H180v160Zm440 0h160v-160H620v160Z\"/>\n",
              "  </svg>\n",
              "    </button>\n",
              "\n",
              "  <style>\n",
              "    .colab-df-container {\n",
              "      display:flex;\n",
              "      gap: 12px;\n",
              "    }\n",
              "\n",
              "    .colab-df-convert {\n",
              "      background-color: #E8F0FE;\n",
              "      border: none;\n",
              "      border-radius: 50%;\n",
              "      cursor: pointer;\n",
              "      display: none;\n",
              "      fill: #1967D2;\n",
              "      height: 32px;\n",
              "      padding: 0 0 0 0;\n",
              "      width: 32px;\n",
              "    }\n",
              "\n",
              "    .colab-df-convert:hover {\n",
              "      background-color: #E2EBFA;\n",
              "      box-shadow: 0px 1px 2px rgba(60, 64, 67, 0.3), 0px 1px 3px 1px rgba(60, 64, 67, 0.15);\n",
              "      fill: #174EA6;\n",
              "    }\n",
              "\n",
              "    .colab-df-buttons div {\n",
              "      margin-bottom: 4px;\n",
              "    }\n",
              "\n",
              "    [theme=dark] .colab-df-convert {\n",
              "      background-color: #3B4455;\n",
              "      fill: #D2E3FC;\n",
              "    }\n",
              "\n",
              "    [theme=dark] .colab-df-convert:hover {\n",
              "      background-color: #434B5C;\n",
              "      box-shadow: 0px 1px 3px 1px rgba(0, 0, 0, 0.15);\n",
              "      filter: drop-shadow(0px 1px 2px rgba(0, 0, 0, 0.3));\n",
              "      fill: #FFFFFF;\n",
              "    }\n",
              "  </style>\n",
              "\n",
              "    <script>\n",
              "      const buttonEl =\n",
              "        document.querySelector('#df-8daf5c7a-11c6-4cf0-9da9-df52f0c7e102 button.colab-df-convert');\n",
              "      buttonEl.style.display =\n",
              "        google.colab.kernel.accessAllowed ? 'block' : 'none';\n",
              "\n",
              "      async function convertToInteractive(key) {\n",
              "        const element = document.querySelector('#df-8daf5c7a-11c6-4cf0-9da9-df52f0c7e102');\n",
              "        const dataTable =\n",
              "          await google.colab.kernel.invokeFunction('convertToInteractive',\n",
              "                                                    [key], {});\n",
              "        if (!dataTable) return;\n",
              "\n",
              "        const docLinkHtml = 'Like what you see? Visit the ' +\n",
              "          '<a target=\"_blank\" href=https://colab.research.google.com/notebooks/data_table.ipynb>data table notebook</a>'\n",
              "          + ' to learn more about interactive tables.';\n",
              "        element.innerHTML = '';\n",
              "        dataTable['output_type'] = 'display_data';\n",
              "        await google.colab.output.renderOutput(dataTable, element);\n",
              "        const docLink = document.createElement('div');\n",
              "        docLink.innerHTML = docLinkHtml;\n",
              "        element.appendChild(docLink);\n",
              "      }\n",
              "    </script>\n",
              "  </div>\n",
              "\n",
              "\n",
              "<div id=\"df-1643ad53-7158-425c-8f03-9c6f26811db8\">\n",
              "  <button class=\"colab-df-quickchart\" onclick=\"quickchart('df-1643ad53-7158-425c-8f03-9c6f26811db8')\"\n",
              "            title=\"Suggest charts\"\n",
              "            style=\"display:none;\">\n",
              "\n",
              "<svg xmlns=\"http://www.w3.org/2000/svg\" height=\"24px\"viewBox=\"0 0 24 24\"\n",
              "     width=\"24px\">\n",
              "    <g>\n",
              "        <path d=\"M19 3H5c-1.1 0-2 .9-2 2v14c0 1.1.9 2 2 2h14c1.1 0 2-.9 2-2V5c0-1.1-.9-2-2-2zM9 17H7v-7h2v7zm4 0h-2V7h2v10zm4 0h-2v-4h2v4z\"/>\n",
              "    </g>\n",
              "</svg>\n",
              "  </button>\n",
              "\n",
              "<style>\n",
              "  .colab-df-quickchart {\n",
              "      --bg-color: #E8F0FE;\n",
              "      --fill-color: #1967D2;\n",
              "      --hover-bg-color: #E2EBFA;\n",
              "      --hover-fill-color: #174EA6;\n",
              "      --disabled-fill-color: #AAA;\n",
              "      --disabled-bg-color: #DDD;\n",
              "  }\n",
              "\n",
              "  [theme=dark] .colab-df-quickchart {\n",
              "      --bg-color: #3B4455;\n",
              "      --fill-color: #D2E3FC;\n",
              "      --hover-bg-color: #434B5C;\n",
              "      --hover-fill-color: #FFFFFF;\n",
              "      --disabled-bg-color: #3B4455;\n",
              "      --disabled-fill-color: #666;\n",
              "  }\n",
              "\n",
              "  .colab-df-quickchart {\n",
              "    background-color: var(--bg-color);\n",
              "    border: none;\n",
              "    border-radius: 50%;\n",
              "    cursor: pointer;\n",
              "    display: none;\n",
              "    fill: var(--fill-color);\n",
              "    height: 32px;\n",
              "    padding: 0;\n",
              "    width: 32px;\n",
              "  }\n",
              "\n",
              "  .colab-df-quickchart:hover {\n",
              "    background-color: var(--hover-bg-color);\n",
              "    box-shadow: 0 1px 2px rgba(60, 64, 67, 0.3), 0 1px 3px 1px rgba(60, 64, 67, 0.15);\n",
              "    fill: var(--button-hover-fill-color);\n",
              "  }\n",
              "\n",
              "  .colab-df-quickchart-complete:disabled,\n",
              "  .colab-df-quickchart-complete:disabled:hover {\n",
              "    background-color: var(--disabled-bg-color);\n",
              "    fill: var(--disabled-fill-color);\n",
              "    box-shadow: none;\n",
              "  }\n",
              "\n",
              "  .colab-df-spinner {\n",
              "    border: 2px solid var(--fill-color);\n",
              "    border-color: transparent;\n",
              "    border-bottom-color: var(--fill-color);\n",
              "    animation:\n",
              "      spin 1s steps(1) infinite;\n",
              "  }\n",
              "\n",
              "  @keyframes spin {\n",
              "    0% {\n",
              "      border-color: transparent;\n",
              "      border-bottom-color: var(--fill-color);\n",
              "      border-left-color: var(--fill-color);\n",
              "    }\n",
              "    20% {\n",
              "      border-color: transparent;\n",
              "      border-left-color: var(--fill-color);\n",
              "      border-top-color: var(--fill-color);\n",
              "    }\n",
              "    30% {\n",
              "      border-color: transparent;\n",
              "      border-left-color: var(--fill-color);\n",
              "      border-top-color: var(--fill-color);\n",
              "      border-right-color: var(--fill-color);\n",
              "    }\n",
              "    40% {\n",
              "      border-color: transparent;\n",
              "      border-right-color: var(--fill-color);\n",
              "      border-top-color: var(--fill-color);\n",
              "    }\n",
              "    60% {\n",
              "      border-color: transparent;\n",
              "      border-right-color: var(--fill-color);\n",
              "    }\n",
              "    80% {\n",
              "      border-color: transparent;\n",
              "      border-right-color: var(--fill-color);\n",
              "      border-bottom-color: var(--fill-color);\n",
              "    }\n",
              "    90% {\n",
              "      border-color: transparent;\n",
              "      border-bottom-color: var(--fill-color);\n",
              "    }\n",
              "  }\n",
              "</style>\n",
              "\n",
              "  <script>\n",
              "    async function quickchart(key) {\n",
              "      const quickchartButtonEl =\n",
              "        document.querySelector('#' + key + ' button');\n",
              "      quickchartButtonEl.disabled = true;  // To prevent multiple clicks.\n",
              "      quickchartButtonEl.classList.add('colab-df-spinner');\n",
              "      try {\n",
              "        const charts = await google.colab.kernel.invokeFunction(\n",
              "            'suggestCharts', [key], {});\n",
              "      } catch (error) {\n",
              "        console.error('Error during call to suggestCharts:', error);\n",
              "      }\n",
              "      quickchartButtonEl.classList.remove('colab-df-spinner');\n",
              "      quickchartButtonEl.classList.add('colab-df-quickchart-complete');\n",
              "    }\n",
              "    (() => {\n",
              "      let quickchartButtonEl =\n",
              "        document.querySelector('#df-1643ad53-7158-425c-8f03-9c6f26811db8 button');\n",
              "      quickchartButtonEl.style.display =\n",
              "        google.colab.kernel.accessAllowed ? 'block' : 'none';\n",
              "    })();\n",
              "  </script>\n",
              "</div>\n",
              "\n",
              "    </div>\n",
              "  </div>\n"
            ],
            "application/vnd.google.colaboratory.intrinsic+json": {
              "type": "dataframe",
              "variable_name": "df"
            }
          },
          "metadata": {},
          "execution_count": 6
        }
      ]
    },
    {
      "cell_type": "code",
      "source": [
        "#create SQLite database\n",
        "conn1 = sqlite3.connect('household_power.db')"
      ],
      "metadata": {
        "id": "HRJlPZHz8jJb"
      },
      "execution_count": null,
      "outputs": []
    },
    {
      "cell_type": "code",
      "source": [
        "#write DataFrame to SQLite table\n",
        "df.to_sql('household_power', conn1, if_exists='replace', index=False, dtype={\n",
        "    'Date': 'TEXT',\n",
        "    'Time': 'TEXT',\n",
        "    'Global_active_power': 'REAL',\n",
        "    'Global_reactive_power': 'REAL',\n",
        "    'Voltage': 'REAL',\n",
        "    'Global_intensity': 'REAL',\n",
        "    'Sub_metering_1': 'REAL',\n",
        "    'Sub_metering_2': 'REAL',\n",
        "    'Sub_metering_3': 'REAL'\n",
        "})"
      ],
      "metadata": {
        "colab": {
          "base_uri": "https://localhost:8080/"
        },
        "id": "LXfZ0SV38jMT",
        "outputId": "74c7d59f-2d07-4916-e2d9-65c4a1bc66cb"
      },
      "execution_count": null,
      "outputs": [
        {
          "output_type": "execute_result",
          "data": {
            "text/plain": [
              "2075259"
            ]
          },
          "metadata": {},
          "execution_count": 8
        }
      ]
    },
    {
      "cell_type": "markdown",
      "source": [
        "## **Running Queries on the SQLite Database using `pandas`**"
      ],
      "metadata": {
        "id": "3EcihFv-LGQN"
      }
    },
    {
      "cell_type": "code",
      "source": [
        "#query database to retrieve column names\n",
        "query = \"PRAGMA table_info(household_power)\"\n",
        "result = pd.read_sql(query, conn1)\n",
        "print(result)"
      ],
      "metadata": {
        "colab": {
          "base_uri": "https://localhost:8080/"
        },
        "id": "owpEehqH8jO5",
        "outputId": "4eb2d3f9-be22-4215-f1a1-28c4d99689a3"
      },
      "execution_count": null,
      "outputs": [
        {
          "output_type": "stream",
          "name": "stdout",
          "text": [
            "   cid                   name  type  notnull dflt_value  pk\n",
            "0    0                   Date  TEXT        0       None   0\n",
            "1    1                   Time  TEXT        0       None   0\n",
            "2    2    Global_active_power  REAL        0       None   0\n",
            "3    3  Global_reactive_power  REAL        0       None   0\n",
            "4    4                Voltage  REAL        0       None   0\n",
            "5    5       Global_intensity  REAL        0       None   0\n",
            "6    6         Sub_metering_1  REAL        0       None   0\n",
            "7    7         Sub_metering_2  REAL        0       None   0\n",
            "8    8         Sub_metering_3  REAL        0       None   0\n"
          ]
        }
      ]
    },
    {
      "cell_type": "code",
      "source": [
        "#retrieve shape of data\n",
        "query = \"\"\"\n",
        "SELECT 'rows' AS dimension, COUNT(*) AS count FROM household_power\n",
        "UNION ALL\n",
        "SELECT 'columns' AS dimension, COUNT(*) AS count FROM pragma_table_info('household_power');\n",
        "\"\"\"\n",
        "result = pd.read_sql(query, conn1)\n",
        "print(result)"
      ],
      "metadata": {
        "colab": {
          "base_uri": "https://localhost:8080/"
        },
        "id": "ewVFx7JYMAaK",
        "outputId": "b786d151-2e58-4a0f-8f99-7eb34aa8380d"
      },
      "execution_count": null,
      "outputs": [
        {
          "output_type": "stream",
          "name": "stdout",
          "text": [
            "  dimension    count\n",
            "0      rows  2075259\n",
            "1   columns        9\n"
          ]
        }
      ]
    },
    {
      "cell_type": "code",
      "source": [
        "query = \"SELECT AVG(global_active_power) AS average_power FROM household_power;\"\n",
        "result = pd.read_sql(query, conn1)\n",
        "print(result)"
      ],
      "metadata": {
        "id": "1e0c2Igy8jRx",
        "colab": {
          "base_uri": "https://localhost:8080/"
        },
        "outputId": "c75ff655-2a0f-4ac0-c041-6d700c5e15ee"
      },
      "execution_count": null,
      "outputs": [
        {
          "output_type": "stream",
          "name": "stdout",
          "text": [
            "   average_power\n",
            "0        1.07795\n"
          ]
        }
      ]
    },
    {
      "cell_type": "code",
      "source": [
        "#check for null values across all the columns\n",
        "query = \"\"\"\n",
        "SELECT\n",
        "    SUM(CASE WHEN Date IS NULL THEN 1 ELSE 0 END) AS null_date,\n",
        "    SUM(CASE WHEN Time IS NULL THEN 1 ELSE 0 END) AS null_time,\n",
        "    SUM(CASE WHEN global_active_power IS NULL THEN 1 ELSE 0 END) AS null_global_active_power,\n",
        "    SUM(CASE WHEN global_reactive_power IS NULL THEN 1 ELSE 0 END) AS null_global_reactive_power,\n",
        "    SUM(CASE WHEN Voltage IS NULL THEN 1 ELSE 0 END) AS null_voltage,\n",
        "    SUM(CASE WHEN global_intensity IS NULL THEN 1 ELSE 0 END) AS null_global_intensity,\n",
        "    SUM(CASE WHEN sub_metering_1 IS NULL THEN 1 ELSE 0 END) AS null_sub_metering_1,\n",
        "    SUM(CASE WHEN sub_metering_2 IS NULL THEN 1 ELSE 0 END) AS null_sub_metering_2,\n",
        "    SUM(CASE WHEN sub_metering_3 IS NULL THEN 1 ELSE 0 END) AS null_sub_metering_3\n",
        "FROM household_power;\n",
        "\"\"\"\n",
        "result = pd.read_sql(query, conn1)\n",
        "print(result)"
      ],
      "metadata": {
        "colab": {
          "base_uri": "https://localhost:8080/"
        },
        "id": "l466T3xOJ4N1",
        "outputId": "957a1eca-03cb-4442-ba22-cf3757edc08c"
      },
      "execution_count": null,
      "outputs": [
        {
          "output_type": "stream",
          "name": "stdout",
          "text": [
            "   null_date  null_time  null_global_active_power  null_global_reactive_power  \\\n",
            "0          0          0                         0                           0   \n",
            "\n",
            "   null_voltage  null_global_intensity  null_sub_metering_1  \\\n",
            "0             0                      0                    0   \n",
            "\n",
            "   null_sub_metering_2  null_sub_metering_3  \n",
            "0                    0                25979  \n"
          ]
        }
      ]
    },
    {
      "cell_type": "markdown",
      "source": [
        "## **Reading in Data to SQLite using the `cursor` Object**"
      ],
      "metadata": {
        "id": "slP-wxdFUq_D"
      }
    },
    {
      "cell_type": "code",
      "source": [
        "conn2 = sqlite3.connect('household_power2.db')"
      ],
      "metadata": {
        "id": "nNKae7RKLdIT"
      },
      "execution_count": null,
      "outputs": []
    },
    {
      "cell_type": "code",
      "source": [
        "cursor = conn2.cursor()"
      ],
      "metadata": {
        "id": "n7VEuMbzLOP8"
      },
      "execution_count": null,
      "outputs": []
    },
    {
      "cell_type": "code",
      "source": [
        "#create new SQLite table with cursor\n",
        "cursor.execute(\"\"\"\n",
        "CREATE TABLE IF NOT EXISTS household_power (\n",
        "    Date TEXT,\n",
        "    Time TEXT,\n",
        "    global_active_power REAL,\n",
        "    global_reactive_power REAL,\n",
        "    Voltage REAL,\n",
        "    global_intensity REAL,\n",
        "    sub_metering_1 REAL,\n",
        "    sub_metering_2 REAL,\n",
        "    sub_metering_3 REAL\n",
        ");\n",
        "\"\"\")\n",
        "\n",
        "#commit changes\n",
        "conn2.commit()"
      ],
      "metadata": {
        "id": "5VNGG_ZlLOWt"
      },
      "execution_count": null,
      "outputs": []
    },
    {
      "cell_type": "code",
      "source": [
        "#open text file and read all rows\n",
        "with open(raw_data_path, 'r') as file:\n",
        "    reader = csv.reader(file, delimiter=';')\n",
        "\n",
        "    #skip header row\n",
        "    header = next(reader)\n",
        "\n",
        "    #replace missing values with \"None\" and prepare the data\n",
        "    data = [\n",
        "        [None if value == '?' else value for value in row]\n",
        "        for row in reader\n",
        "    ]\n",
        "\n",
        "#use \"executemany\" to insert all rows at once\n",
        "insert_query = \"\"\"\n",
        "INSERT INTO household_power (\n",
        "    Date, Time, global_active_power, global_reactive_power,\n",
        "    Voltage, global_intensity, sub_metering_1, sub_metering_2, sub_metering_3\n",
        ") VALUES (?, ?, ?, ?, ?, ?, ?, ?, ?);\n",
        "\"\"\"\n",
        "cursor.executemany(insert_query, data)\n",
        "\n",
        "#commit changes\n",
        "conn2.commit()"
      ],
      "metadata": {
        "id": "VEkLd0mMkZNk"
      },
      "execution_count": null,
      "outputs": []
    },
    {
      "cell_type": "code",
      "source": [
        "#close connection after finishing queries\n",
        "conn1.close()"
      ],
      "metadata": {
        "id": "c2pzgDYl9JsB"
      },
      "execution_count": null,
      "outputs": []
    },
    {
      "cell_type": "markdown",
      "source": [
        "## **Running Queries on the SQLite Database with the `cursor` Object**"
      ],
      "metadata": {
        "id": "Rkb4Xw5Cff8_"
      }
    },
    {
      "cell_type": "code",
      "source": [
        "#query database to retrieve column names\n",
        "query = \"PRAGMA table_info(household_power);\"\n",
        "cursor = conn2.cursor()\n",
        "cursor.execute(query)\n",
        "result = cursor.fetchall()\n",
        "\n",
        "#print metadata for all columns\n",
        "for column in result:\n",
        "    print(column)"
      ],
      "metadata": {
        "id": "sy0MDYmGjjFs",
        "colab": {
          "base_uri": "https://localhost:8080/"
        },
        "outputId": "66cb2c88-ace3-4e95-9b62-ec7957f56d11"
      },
      "execution_count": null,
      "outputs": [
        {
          "output_type": "stream",
          "name": "stdout",
          "text": [
            "(0, 'Date', 'TEXT', 0, None, 0)\n",
            "(1, 'Time', 'TEXT', 0, None, 0)\n",
            "(2, 'global_active_power', 'REAL', 0, None, 0)\n",
            "(3, 'global_reactive_power', 'REAL', 0, None, 0)\n",
            "(4, 'Voltage', 'REAL', 0, None, 0)\n",
            "(5, 'global_intensity', 'REAL', 0, None, 0)\n",
            "(6, 'sub_metering_1', 'REAL', 0, None, 0)\n",
            "(7, 'sub_metering_2', 'REAL', 0, None, 0)\n",
            "(8, 'sub_metering_3', 'REAL', 0, None, 0)\n"
          ]
        }
      ]
    },
    {
      "cell_type": "code",
      "source": [
        "#find number of household where global_active_power exceeds 5\n",
        "query = \"\"\"\n",
        "SELECT COUNT(*) AS count_above_threshold\n",
        "FROM household_power\n",
        "WHERE global_active_power > 5.0;\n",
        "\"\"\"\n",
        "\n",
        "cursor = conn2.cursor()\n",
        "cursor.execute(query)\n",
        "result = cursor.fetchone()\n",
        "\n",
        "print(result)"
      ],
      "metadata": {
        "id": "yd3nBX-qLOde",
        "colab": {
          "base_uri": "https://localhost:8080/"
        },
        "outputId": "dc57b651-bf5d-439e-b7b3-e206806b4346"
      },
      "execution_count": null,
      "outputs": [
        {
          "output_type": "stream",
          "name": "stdout",
          "text": [
            "(17547,)\n"
          ]
        }
      ]
    },
    {
      "cell_type": "code",
      "source": [
        "#finds the 5 times of day with the highest total power usage across all days in the dataset\n",
        "query = \"\"\"\n",
        "SELECT Time, SUM(global_active_power) AS total_power\n",
        "FROM household_power\n",
        "GROUP BY Time\n",
        "ORDER BY total_power DESC\n",
        "LIMIT 5;\n",
        "\"\"\"\n",
        "\n",
        "cursor = conn2.cursor()\n",
        "cursor.execute(query)\n",
        "results = cursor.fetchall()\n",
        "\n",
        "for row in results:\n",
        "    print(row)"
      ],
      "metadata": {
        "id": "tRvGcmFKuo4Y",
        "colab": {
          "base_uri": "https://localhost:8080/"
        },
        "outputId": "9132e037-26e1-495d-d91a-1c121c20ce7d"
      },
      "execution_count": null,
      "outputs": [
        {
          "output_type": "stream",
          "name": "stdout",
          "text": [
            "('20:50:00', 2857.1820000000034)\n",
            "('20:49:00', 2856.776)\n",
            "('20:51:00', 2855.3019999999974)\n",
            "('20:52:00', 2844.2799999999984)\n",
            "('20:53:00', 2838.398000000001)\n"
          ]
        }
      ]
    },
    {
      "cell_type": "code",
      "source": [
        "#close connection after finishing queries\n",
        "conn2.close()"
      ],
      "metadata": {
        "id": "Sm9ZRxEOJ4am"
      },
      "execution_count": null,
      "outputs": []
    },
    {
      "cell_type": "markdown",
      "source": [
        "# **References and Additional Learning**"
      ],
      "metadata": {
        "id": "xpYVLhpl8jpN"
      }
    },
    {
      "cell_type": "markdown",
      "source": [
        "## **Data**\n",
        "\n",
        "- **[Individual Household Electric Power Consumption](https://archive.ics.uci.edu/dataset/235/individual+household+electric+power+consumption) from UC Irvine's Machine Learning Repository**"
      ],
      "metadata": {
        "id": "dCSXZsFsMRS6"
      }
    },
    {
      "cell_type": "markdown",
      "source": [
        "## **Documentation**\n",
        "\n",
        "- **[SQLite Documentation](https://www.sqlite.org/) from sqlite.org**"
      ],
      "metadata": {
        "id": "jl2rcJiM9nNg"
      }
    },
    {
      "cell_type": "markdown",
      "source": [
        "# **Connect**\n",
        "- **Feel free to connect with Adrian on [YouTube](https://www.youtube.com/channel/UCPuDxI3xb_ryUUMfkm0jsRA), [LinkedIn](https://www.linkedin.com/in/adrian-dolinay-frm-96a289106/), [X](https://twitter.com/DolinayG), [GitHub](https://github.com/ad17171717), [Medium](https://adriandolinay.medium.com/) and [Odysee](https://odysee.com/@adriandolinay:0). Happy coding!**"
      ],
      "metadata": {
        "id": "E0Q77v058ktL"
      }
    },
    {
      "cell_type": "markdown",
      "source": [
        "# **Podcast**\n",
        "\n",
        "- **Check out Adrian's Podcast, The Aspiring STEM Geek on [YouTube](https://www.youtube.com/@AdrianDolinay/podcasts), [Spotify](https://open.spotify.com/show/60dPNJbDPaPw7ru8g5btxV), [Apple Podcasts](https://podcasts.apple.com/us/podcast/the-aspiring-stem-geek/id1765996824), [Audible](https://www.audible.com/podcast/The-Aspiring-STEM-Geek/B0DC73S9SN?eac_link=MCFKvkxuqKYU&ref=web_search_eac_asin_1&eac_selected_type=asin&eac_selected=B0DC73S9SN&qid=IrZ84nGqvz&eac_id=141-8769271-5781515_IrZ84nGqvz&sr=1-1) and [iHeart Radio](https://www.iheart.com/podcast/269-the-aspiring-stem-geek-202676097/)!**"
      ],
      "metadata": {
        "id": "z6QEkxTC8kx3"
      }
    }
  ]
}