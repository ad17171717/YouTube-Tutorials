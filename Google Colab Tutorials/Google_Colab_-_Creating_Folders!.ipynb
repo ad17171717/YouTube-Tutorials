{
  "cells": [
    {
      "cell_type": "markdown",
      "metadata": {
        "colab_type": "text",
        "id": "view-in-github"
      },
      "source": [
        "<a href=\"https://colab.research.google.com/github/ad17171717/YouTube-Tutorials/blob/main/Google%20Colab%20Tutorials/Google_Colab_-_Creating_Folders!.ipynb\" target=\"_parent\"><img src=\"https://colab.research.google.com/assets/colab-badge.svg\" alt=\"Open In Colab\"/></a>"
      ]
    },
    {
      "cell_type": "code",
      "execution_count": null,
      "metadata": {
        "id": "u51vzbiF8wwt"
      },
      "outputs": [],
      "source": [
        "import os"
      ]
    },
    {
      "cell_type": "markdown",
      "metadata": {
        "id": "66KKoVKB8wAV"
      },
      "source": [
        "# **Creating a Directory**\n",
        "\n",
        "**Within Google Colab a directory (folder) can be created with the graphical user interface (GUI), with bash through the command line interface (CLI) or with scripting using a language such as Python.**\n",
        "\n",
        "**The directories you create can either be non-persistent (meaning they will be deleted once the Colab runtime resets or is deleted) or persistent (saving the directory in Google Drive).**"
      ]
    },
    {
      "cell_type": "markdown",
      "metadata": {
        "id": "AtF-zUpg8Tl-"
      },
      "source": [
        "## **Creating Non-Persistent Directories**"
      ]
    },
    {
      "cell_type": "code",
      "execution_count": null,
      "metadata": {
        "colab": {
          "base_uri": "https://localhost:8080/"
        },
        "id": "qwkZ2NMc7l4V",
        "outputId": "d1f53593-7593-48c3-d1d0-ecff1010c903"
      },
      "outputs": [
        {
          "name": "stdout",
          "output_type": "stream",
          "text": [
            "/content\n"
          ]
        }
      ],
      "source": [
        "#by default the session's working directory is in the \"content directory\" which is non-persistent\n",
        "!pwd"
      ]
    },
    {
      "cell_type": "code",
      "execution_count": null,
      "metadata": {
        "id": "y9BorakJ7meV"
      },
      "outputs": [],
      "source": [
        "#bash command to create new folders if they don't exist\n",
        "!mkdir folder_2"
      ]
    },
    {
      "cell_type": "code",
      "execution_count": null,
      "metadata": {
        "id": "E3YzFliN8meV"
      },
      "outputs": [],
      "source": [
        "#python code to create new folders if they don't exist\n",
        "os.mkdir('folder_3')"
      ]
    },
    {
      "cell_type": "markdown",
      "metadata": {
        "id": "BcOKVKJ68knt"
      },
      "source": [
        "## **Creating Persistent Directories**"
      ]
    },
    {
      "cell_type": "code",
      "execution_count": null,
      "metadata": {
        "id": "g1slbcvC8lz-"
      },
      "outputs": [],
      "source": [
        "!mkdir '/content/drive/MyDrive/folder_2'"
      ]
    },
    {
      "cell_type": "code",
      "execution_count": null,
      "metadata": {
        "id": "FgqsoFqi8l91"
      },
      "outputs": [],
      "source": [
        "os.mkdir('/content/drive/MyDrive/folder_3')"
      ]
    },
    {
      "cell_type": "markdown",
      "metadata": {
        "id": "_mbu-mrJ9oPt"
      },
      "source": [
        "# **Connect**\n",
        "- **Feel free to connect with Adrian on [YouTube](https://www.youtube.com/channel/UCPuDxI3xb_ryUUMfkm0jsRA), [LinkedIn](https://www.linkedin.com/in/adrian-dolinay-frm-96a289106/), [Twitter](https://twitter.com/DolinayG), [GitHub](https://github.com/ad17171717), [Medium](https://adriandolinay.medium.com/) and [Odysee](https://odysee.com/@adriandolinay:0). Happy coding!**"
      ]
    }
  ],
  "metadata": {
    "colab": {
      "include_colab_link": true,
      "provenance": []
    },
    "kernelspec": {
      "display_name": "Python 3",
      "name": "python3"
    },
    "language_info": {
      "name": "python"
    }
  },
  "nbformat": 4,
  "nbformat_minor": 0
}
