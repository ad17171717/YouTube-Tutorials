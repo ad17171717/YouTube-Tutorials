{
 "cells": [
  {
   "cell_type": "markdown",
   "metadata": {
    "id": "_ZgErO8R7wMK"
   },
   "source": [
    "# **SQLite**\n",
    "\n",
    "**SQLite is a open source C-language library that implements a small, self-contained SQL database engine. A complete SQL database with multiple tables, indices, triggers, and views, is contained in a single disk file. With all features enabled, the library size can be less than 768 KB, depending on the target platform and compiler optimization settings.**\n",
    "\n",
    "**Because SQLite is self-contained it can be run on Google Colab. Other database management systems like MongoDB and Postgres operate using client server architecture, which requires access to ports. However, Google Colab's environment is managed and restricts access to ports.**"
   ]
  },
  {
   "cell_type": "markdown",
   "metadata": {
    "id": "iLD4OMvA8VyN"
   },
   "source": [
    "<sup>Source: [SQLite Documentation](https://www.sqlite.org/) from sqlite.org</sup>\n",
    "\n",
    "<sup>Source: [SQLite Is Public Domain](https://www.sqlite.org/copyright.html) from sqlite.org</sup>"
   ]
  },
  {
   "cell_type": "markdown",
   "metadata": {
    "id": "5FdhNzunSPGj"
   },
   "source": [
    "# **Utilizing SQLite in Google Colab**\n",
    "\n",
    "**In this tutorial we will review how to create a SQLite database, read in data into the database and run queries on the database.**"
   ]
  },
  {
   "cell_type": "code",
   "execution_count": null,
   "metadata": {
    "colab": {
     "base_uri": "https://localhost:8080/"
    },
    "executionInfo": {
     "elapsed": 8750,
     "status": "ok",
     "timestamp": 1732381665873,
     "user": {
      "displayName": "a d",
      "userId": "15777331746395654612"
     },
     "user_tz": 0
    },
    "id": "D4WHXCjBEpuo",
    "outputId": "019969e8-8624-4a8d-f338-dc87def7604f"
   },
   "outputs": [],
   "source": [
    "#download data\n",
    "!wget https://archive.ics.uci.edu/static/public/235/individual+household+electric+power+consumption.zip\n",
    "!unzip /content/individual+household+electric+power+consumption.zip"
   ]
  },
  {
   "cell_type": "code",
   "execution_count": null,
   "metadata": {
    "colab": {
     "base_uri": "https://localhost:8080/"
    },
    "executionInfo": {
     "elapsed": 134,
     "status": "ok",
     "timestamp": 1732381666007,
     "user": {
      "displayName": "a d",
      "userId": "15777331746395654612"
     },
     "user_tz": 0
    },
    "id": "nHs96wKwFQIw",
    "outputId": "be91f105-b6a3-4824-8d9c-a052e4c7d20a"
   },
   "outputs": [],
   "source": [
    "#check data\n",
    "!head /content/household_power_consumption.txt"
   ]
  },
  {
   "cell_type": "code",
   "execution_count": null,
   "metadata": {
    "executionInfo": {
     "elapsed": 650,
     "status": "ok",
     "timestamp": 1732381666657,
     "user": {
      "displayName": "a d",
      "userId": "15777331746395654612"
     },
     "user_tz": 0
    },
    "id": "VvRZa3M27kYK"
   },
   "outputs": [],
   "source": [
    "import sqlite3\n",
    "import pandas as pd\n",
    "import csv"
   ]
  },
  {
   "cell_type": "markdown",
   "metadata": {
    "id": "n41B7y7PFj2w"
   },
   "source": [
    "## **Reading in Data to SQLite from a pandas DataFrame**"
   ]
  },
  {
   "cell_type": "code",
   "execution_count": null,
   "metadata": {
    "executionInfo": {
     "elapsed": 0,
     "status": "ok",
     "timestamp": 1732381666657,
     "user": {
      "displayName": "a d",
      "userId": "15777331746395654612"
     },
     "user_tz": 0
    },
    "id": "6BJZmES-7kbB"
   },
   "outputs": [],
   "source": [
    "raw_data_path = '/content/household_power_consumption.txt'"
   ]
  },
  {
   "cell_type": "code",
   "execution_count": null,
   "metadata": {
    "colab": {
     "base_uri": "https://localhost:8080/"
    },
    "executionInfo": {
     "elapsed": 4216,
     "status": "ok",
     "timestamp": 1732381670873,
     "user": {
      "displayName": "a d",
      "userId": "15777331746395654612"
     },
     "user_tz": 0
    },
    "id": "nbEA9TeM7kea",
    "outputId": "9220fcab-86ae-45be-c54a-5b2e473b7ab8"
   },
   "outputs": [],
   "source": [
    "#read the data into a pandas DataFrame\n",
    "df = pd.read_csv(raw_data_path, sep=';', low_memory=False)\n",
    "print(f'The dataset has {df.shape[1]} columns and {df.shape[0]:,} rows')"
   ]
  },
  {
   "cell_type": "code",
   "execution_count": null,
   "metadata": {
    "colab": {
     "base_uri": "https://localhost:8080/",
     "height": 206
    },
    "executionInfo": {
     "elapsed": 16,
     "status": "ok",
     "timestamp": 1732381670873,
     "user": {
      "displayName": "a d",
      "userId": "15777331746395654612"
     },
     "user_tz": 0
    },
    "id": "1lSphESa7khz",
    "outputId": "ac51631e-3b3f-4fec-d5e1-877a3264db17"
   },
   "outputs": [],
   "source": [
    "df.head()"
   ]
  },
  {
   "cell_type": "code",
   "execution_count": null,
   "metadata": {
    "executionInfo": {
     "elapsed": 16,
     "status": "ok",
     "timestamp": 1732381670873,
     "user": {
      "displayName": "a d",
      "userId": "15777331746395654612"
     },
     "user_tz": 0
    },
    "id": "HRJlPZHz8jJb"
   },
   "outputs": [],
   "source": [
    "#create SQLite database\n",
    "conn1 = sqlite3.connect('household_power.db')"
   ]
  },
  {
   "cell_type": "code",
   "execution_count": null,
   "metadata": {
    "colab": {
     "base_uri": "https://localhost:8080/"
    },
    "executionInfo": {
     "elapsed": 15200,
     "status": "ok",
     "timestamp": 1732381686057,
     "user": {
      "displayName": "a d",
      "userId": "15777331746395654612"
     },
     "user_tz": 0
    },
    "id": "LXfZ0SV38jMT",
    "outputId": "74c7d59f-2d07-4916-e2d9-65c4a1bc66cb"
   },
   "outputs": [],
   "source": [
    "#write DataFrame to SQLite table\n",
    "df.to_sql('household_power', conn1, if_exists='replace', index=False, dtype={\n",
    "    'Date': 'TEXT',\n",
    "    'Time': 'TEXT',\n",
    "    'Global_active_power': 'REAL',\n",
    "    'Global_reactive_power': 'REAL',\n",
    "    'Voltage': 'REAL',\n",
    "    'Global_intensity': 'REAL',\n",
    "    'Sub_metering_1': 'REAL',\n",
    "    'Sub_metering_2': 'REAL',\n",
    "    'Sub_metering_3': 'REAL'\n",
    "})"
   ]
  },
  {
   "cell_type": "markdown",
   "metadata": {
    "id": "3EcihFv-LGQN"
   },
   "source": [
    "## **Running Queries on the SQLite Database using `pandas`**"
   ]
  },
  {
   "cell_type": "code",
   "execution_count": null,
   "metadata": {
    "colab": {
     "base_uri": "https://localhost:8080/"
    },
    "executionInfo": {
     "elapsed": 0,
     "status": "ok",
     "timestamp": 1732381686057,
     "user": {
      "displayName": "a d",
      "userId": "15777331746395654612"
     },
     "user_tz": 0
    },
    "id": "owpEehqH8jO5",
    "outputId": "4eb2d3f9-be22-4215-f1a1-28c4d99689a3"
   },
   "outputs": [],
   "source": [
    "#query database to retrieve column names\n",
    "query = \"PRAGMA table_info(household_power)\"\n",
    "result = pd.read_sql(query, conn1)\n",
    "print(result)"
   ]
  },
  {
   "cell_type": "code",
   "execution_count": null,
   "metadata": {
    "colab": {
     "base_uri": "https://localhost:8080/"
    },
    "executionInfo": {
     "elapsed": 150,
     "status": "ok",
     "timestamp": 1732381686207,
     "user": {
      "displayName": "a d",
      "userId": "15777331746395654612"
     },
     "user_tz": 0
    },
    "id": "ewVFx7JYMAaK",
    "outputId": "b786d151-2e58-4a0f-8f99-7eb34aa8380d"
   },
   "outputs": [],
   "source": [
    "#retrieve shape of data\n",
    "query = \"\"\"\n",
    "SELECT 'rows' AS dimension, COUNT(*) AS count FROM household_power\n",
    "UNION ALL\n",
    "SELECT 'columns' AS dimension, COUNT(*) AS count FROM pragma_table_info('household_power');\n",
    "\"\"\"\n",
    "result = pd.read_sql(query, conn1)\n",
    "print(result)"
   ]
  },
  {
   "cell_type": "code",
   "execution_count": null,
   "metadata": {
    "colab": {
     "base_uri": "https://localhost:8080/"
    },
    "executionInfo": {
     "elapsed": 117,
     "status": "ok",
     "timestamp": 1732381686324,
     "user": {
      "displayName": "a d",
      "userId": "15777331746395654612"
     },
     "user_tz": 0
    },
    "id": "1e0c2Igy8jRx",
    "outputId": "c75ff655-2a0f-4ac0-c041-6d700c5e15ee"
   },
   "outputs": [],
   "source": [
    "query = \"SELECT AVG(global_active_power) AS average_power FROM household_power;\"\n",
    "result = pd.read_sql(query, conn1)\n",
    "print(result)"
   ]
  },
  {
   "cell_type": "code",
   "execution_count": null,
   "metadata": {
    "colab": {
     "base_uri": "https://localhost:8080/"
    },
    "executionInfo": {
     "elapsed": 1250,
     "status": "ok",
     "timestamp": 1732381687574,
     "user": {
      "displayName": "a d",
      "userId": "15777331746395654612"
     },
     "user_tz": 0
    },
    "id": "l466T3xOJ4N1",
    "outputId": "957a1eca-03cb-4442-ba22-cf3757edc08c"
   },
   "outputs": [],
   "source": [
    "#check for null values across all the columns\n",
    "query = \"\"\"\n",
    "SELECT\n",
    "    SUM(CASE WHEN Date IS NULL THEN 1 ELSE 0 END) AS null_date,\n",
    "    SUM(CASE WHEN Time IS NULL THEN 1 ELSE 0 END) AS null_time,\n",
    "    SUM(CASE WHEN global_active_power IS NULL THEN 1 ELSE 0 END) AS null_global_active_power,\n",
    "    SUM(CASE WHEN global_reactive_power IS NULL THEN 1 ELSE 0 END) AS null_global_reactive_power,\n",
    "    SUM(CASE WHEN Voltage IS NULL THEN 1 ELSE 0 END) AS null_voltage,\n",
    "    SUM(CASE WHEN global_intensity IS NULL THEN 1 ELSE 0 END) AS null_global_intensity,\n",
    "    SUM(CASE WHEN sub_metering_1 IS NULL THEN 1 ELSE 0 END) AS null_sub_metering_1,\n",
    "    SUM(CASE WHEN sub_metering_2 IS NULL THEN 1 ELSE 0 END) AS null_sub_metering_2,\n",
    "    SUM(CASE WHEN sub_metering_3 IS NULL THEN 1 ELSE 0 END) AS null_sub_metering_3\n",
    "FROM household_power;\n",
    "\"\"\"\n",
    "result = pd.read_sql(query, conn1)\n",
    "print(result)"
   ]
  },
  {
   "cell_type": "code",
   "execution_count": null,
   "metadata": {},
   "outputs": [],
   "source": [
    "#close connection after finishing queries\n",
    "conn1.close()"
   ]
  },
  {
   "cell_type": "markdown",
   "metadata": {
    "id": "slP-wxdFUq_D"
   },
   "source": [
    "## **Reading in Data to SQLite using the `cursor` Object**"
   ]
  },
  {
   "cell_type": "code",
   "execution_count": null,
   "metadata": {
    "executionInfo": {
     "elapsed": 0,
     "status": "ok",
     "timestamp": 1732381687574,
     "user": {
      "displayName": "a d",
      "userId": "15777331746395654612"
     },
     "user_tz": 0
    },
    "id": "nNKae7RKLdIT"
   },
   "outputs": [],
   "source": [
    "conn2 = sqlite3.connect('example2.db')"
   ]
  },
  {
   "cell_type": "code",
   "execution_count": null,
   "metadata": {
    "executionInfo": {
     "elapsed": 0,
     "status": "ok",
     "timestamp": 1732381687574,
     "user": {
      "displayName": "a d",
      "userId": "15777331746395654612"
     },
     "user_tz": 0
    },
    "id": "n7VEuMbzLOP8"
   },
   "outputs": [],
   "source": [
    "cursor = conn2.cursor()"
   ]
  },
  {
   "cell_type": "code",
   "execution_count": null,
   "metadata": {
    "executionInfo": {
     "elapsed": 0,
     "status": "ok",
     "timestamp": 1732381687574,
     "user": {
      "displayName": "a d",
      "userId": "15777331746395654612"
     },
     "user_tz": 0
    },
    "id": "5VNGG_ZlLOWt"
   },
   "outputs": [],
   "source": [
    "#create new SQLite table with cursor\n",
    "cursor.execute(\"\"\"\n",
    "CREATE TABLE IF NOT EXISTS household_power (\n",
    "    Date TEXT,\n",
    "    Time TEXT,\n",
    "    global_active_power REAL,\n",
    "    global_reactive_power REAL,\n",
    "    Voltage REAL,\n",
    "    global_intensity REAL,\n",
    "    sub_metering_1 REAL,\n",
    "    sub_metering_2 REAL,\n",
    "    sub_metering_3 REAL\n",
    ");\n",
    "\"\"\")\n",
    "\n",
    "#commit changes\n",
    "conn2.commit()"
   ]
  },
  {
   "cell_type": "code",
   "execution_count": null,
   "metadata": {
    "executionInfo": {
     "elapsed": 17867,
     "status": "ok",
     "timestamp": 1732381705441,
     "user": {
      "displayName": "a d",
      "userId": "15777331746395654612"
     },
     "user_tz": 0
    },
    "id": "VEkLd0mMkZNk"
   },
   "outputs": [],
   "source": [
    "#open text file and read all rows\n",
    "with open(raw_data_path, 'r') as file:\n",
    "    reader = csv.reader(file, delimiter=';')\n",
    "\n",
    "    #skip header row\n",
    "    header = next(reader)\n",
    "\n",
    "    #replace missing values with \"None\" and prepare the data\n",
    "    data = [\n",
    "        [None if value == '?' else value for value in row]\n",
    "        for row in reader\n",
    "    ]\n",
    "\n",
    "#use \"executemany\" to insert all rows at once\n",
    "insert_query = \"\"\"\n",
    "INSERT INTO household_power (\n",
    "    Date, Time, global_active_power, global_reactive_power,\n",
    "    Voltage, global_intensity, sub_metering_1, sub_metering_2, sub_metering_3\n",
    ") VALUES (?, ?, ?, ?, ?, ?, ?, ?, ?);\n",
    "\"\"\"\n",
    "cursor.executemany(insert_query, data)\n",
    "\n",
    "#commit changes\n",
    "conn2.commit()"
   ]
  },
  {
   "cell_type": "markdown",
   "metadata": {
    "id": "Rkb4Xw5Cff8_"
   },
   "source": [
    "## **Running Queries on the SQLite Database with the `cursor` Object**"
   ]
  },
  {
   "cell_type": "code",
   "execution_count": null,
   "metadata": {
    "colab": {
     "base_uri": "https://localhost:8080/"
    },
    "executionInfo": {
     "elapsed": 0,
     "status": "ok",
     "timestamp": 1732381705441,
     "user": {
      "displayName": "a d",
      "userId": "15777331746395654612"
     },
     "user_tz": 0
    },
    "id": "sy0MDYmGjjFs",
    "outputId": "66cb2c88-ace3-4e95-9b62-ec7957f56d11"
   },
   "outputs": [],
   "source": [
    "#query database to retrieve column names\n",
    "query = \"PRAGMA table_info(household_power);\"\n",
    "cursor = conn2.cursor()\n",
    "cursor.execute(query)\n",
    "result = cursor.fetchall()\n",
    "\n",
    "#print metadata for all columns\n",
    "for column in result:\n",
    "    print(column)"
   ]
  },
  {
   "cell_type": "code",
   "execution_count": null,
   "metadata": {
    "colab": {
     "base_uri": "https://localhost:8080/"
    },
    "executionInfo": {
     "elapsed": 116,
     "status": "ok",
     "timestamp": 1732381705557,
     "user": {
      "displayName": "a d",
      "userId": "15777331746395654612"
     },
     "user_tz": 0
    },
    "id": "yd3nBX-qLOde",
    "outputId": "dc57b651-bf5d-439e-b7b3-e206806b4346"
   },
   "outputs": [],
   "source": [
    "#find number of household where global_active_power exceeds 5\n",
    "query = \"\"\"\n",
    "SELECT COUNT(*) AS count_above_threshold\n",
    "FROM household_power\n",
    "WHERE global_active_power > 5.0;\n",
    "\"\"\"\n",
    "\n",
    "cursor = conn2.cursor()\n",
    "cursor.execute(query)\n",
    "result = cursor.fetchone()\n",
    "\n",
    "print(result)"
   ]
  },
  {
   "cell_type": "code",
   "execution_count": null,
   "metadata": {
    "colab": {
     "base_uri": "https://localhost:8080/"
    },
    "executionInfo": {
     "elapsed": 1617,
     "status": "ok",
     "timestamp": 1732381707174,
     "user": {
      "displayName": "a d",
      "userId": "15777331746395654612"
     },
     "user_tz": 0
    },
    "id": "tRvGcmFKuo4Y",
    "outputId": "9132e037-26e1-495d-d91a-1c121c20ce7d"
   },
   "outputs": [],
   "source": [
    "#finds the 5 times of day with the highest total power usage across all days in the dataset\n",
    "query = \"\"\"\n",
    "SELECT Time, SUM(global_active_power) AS total_power\n",
    "FROM household_power\n",
    "GROUP BY Time\n",
    "ORDER BY total_power DESC\n",
    "LIMIT 5;\n",
    "\"\"\"\n",
    "\n",
    "cursor = conn2.cursor()\n",
    "cursor.execute(query)\n",
    "results = cursor.fetchall()\n",
    "\n",
    "for row in results:\n",
    "    print(row)"
   ]
  },
  {
   "cell_type": "code",
   "execution_count": null,
   "metadata": {
    "executionInfo": {
     "elapsed": 0,
     "status": "ok",
     "timestamp": 1732381707174,
     "user": {
      "displayName": "a d",
      "userId": "15777331746395654612"
     },
     "user_tz": 0
    },
    "id": "Sm9ZRxEOJ4am"
   },
   "outputs": [],
   "source": [
    "#close connection after finishing queries\n",
    "conn2.close()"
   ]
  },
  {
   "cell_type": "markdown",
   "metadata": {
    "id": "xpYVLhpl8jpN"
   },
   "source": [
    "# **References and Additional Learning**"
   ]
  },
  {
   "cell_type": "markdown",
   "metadata": {
    "id": "dCSXZsFsMRS6"
   },
   "source": [
    "## **Data**\n",
    "\n",
    "- **[Individual Household Electric Power Consumption](https://archive.ics.uci.edu/dataset/235/individual+household+electric+power+consumption) from UC Irvine's Machine Learning Repository**"
   ]
  },
  {
   "cell_type": "markdown",
   "metadata": {
    "id": "jl2rcJiM9nNg"
   },
   "source": [
    "## **Documentation**\n",
    "\n",
    "- **[SQLite Documentation](https://www.sqlite.org/) from sqlite.org**"
   ]
  },
  {
   "cell_type": "markdown",
   "metadata": {
    "id": "E0Q77v058ktL"
   },
   "source": [
    "# **Connect**\n",
    "- **Feel free to connect with Adrian on [YouTube](https://www.youtube.com/channel/UCPuDxI3xb_ryUUMfkm0jsRA), [LinkedIn](https://www.linkedin.com/in/adrian-dolinay-frm-96a289106/), [X](https://twitter.com/DolinayG), [GitHub](https://github.com/ad17171717), [Medium](https://adriandolinay.medium.com/) and [Odysee](https://odysee.com/@adriandolinay:0). Happy coding!**"
   ]
  },
  {
   "cell_type": "markdown",
   "metadata": {
    "id": "z6QEkxTC8kx3"
   },
   "source": [
    "# **Podcast**\n",
    "\n",
    "- **Check out Adrian's Podcast, The Aspiring STEM Geek on [YouTube](https://www.youtube.com/@AdrianDolinay/podcasts), [Spotify](https://open.spotify.com/show/60dPNJbDPaPw7ru8g5btxV), [Apple Podcasts](https://podcasts.apple.com/us/podcast/the-aspiring-stem-geek/id1765996824), [Audible](https://www.audible.com/podcast/The-Aspiring-STEM-Geek/B0DC73S9SN?eac_link=MCFKvkxuqKYU&ref=web_search_eac_asin_1&eac_selected_type=asin&eac_selected=B0DC73S9SN&qid=IrZ84nGqvz&eac_id=141-8769271-5781515_IrZ84nGqvz&sr=1-1) and [iHeart Radio](https://www.iheart.com/podcast/269-the-aspiring-stem-geek-202676097/)!**"
   ]
  }
 ],
 "metadata": {
  "colab": {
   "authorship_tag": "ABX9TyNIQztpyRsMZSrdKIS0b/5o",
   "provenance": []
  },
  "kernelspec": {
   "display_name": "Python 3",
   "name": "python3"
  },
  "language_info": {
   "name": "python"
  }
 },
 "nbformat": 4,
 "nbformat_minor": 0
}
