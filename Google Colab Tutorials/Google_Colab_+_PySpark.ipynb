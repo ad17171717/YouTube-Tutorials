{
  "cells": [
    {
      "cell_type": "markdown",
      "metadata": {
        "id": "view-in-github",
        "colab_type": "text"
      },
      "source": [
        "<a href=\"https://colab.research.google.com/github/ad17171717/YouTube-Tutorials/blob/main/Google%20Colab%20Tutorials/Google_Colab_%2B_PySpark.ipynb\" target=\"_parent\"><img src=\"https://colab.research.google.com/assets/colab-badge.svg\" alt=\"Open In Colab\"/></a>"
      ]
    },
    {
      "cell_type": "markdown",
      "metadata": {
        "id": "191HB-DSMdSM"
      },
      "source": [
        "# **PySpark**\n",
        "\n",
        "**PySpark is the Python API for Apache Spark. It enables users to perform real-time, large-scale data processing in a distributed environment using Python. PySpark combines Python’s learnability and ease of use with the power of Apache Spark to enable processing and analysis of data at any size for everyone familiar with Python. PySpark supports all of Spark’s features such as Spark SQL, DataFrames, Structured Streaming, Machine Learning (MLlib) and Spark Core.**"
      ]
    },
    {
      "cell_type": "markdown",
      "source": [
        "<sup>Source: [PySpark Documentation](https://spark.apache.org/docs/latest/api/python/index.html) from Apache.org</sup>"
      ],
      "metadata": {
        "id": "v3_B_y3uAt-V"
      }
    },
    {
      "cell_type": "markdown",
      "metadata": {
        "id": "ith8T3JPYJGo"
      },
      "source": [
        "## **Installing PySpark**"
      ]
    },
    {
      "cell_type": "code",
      "source": [
        "#check that java is installed\n",
        "!java -version"
      ],
      "metadata": {
        "id": "Lb9P1hpLCaC3"
      },
      "execution_count": null,
      "outputs": []
    },
    {
      "cell_type": "code",
      "execution_count": null,
      "metadata": {
        "id": "rqIekXhmYM_X"
      },
      "outputs": [],
      "source": [
        "#install pyspark\n",
        "!pip install pyspark"
      ]
    },
    {
      "cell_type": "code",
      "execution_count": null,
      "metadata": {
        "id": "UBf_r69QXSWo"
      },
      "outputs": [],
      "source": [
        "import os\n",
        "import pandas as pd\n",
        "from pyspark.sql import SparkSession\n",
        "from pyspark.sql.types import StructType, StructField, StringType, IntegerType, DoubleType, LongType, TimestampType"
      ]
    },
    {
      "cell_type": "markdown",
      "metadata": {
        "id": "yF_a0auLYRI_"
      },
      "source": [
        "## **Working with PySpark**"
      ]
    },
    {
      "cell_type": "markdown",
      "metadata": {
        "id": "i0g4htAdZr-X"
      },
      "source": [
        "### **Download Dataset**"
      ]
    },
    {
      "cell_type": "code",
      "execution_count": null,
      "metadata": {
        "id": "ZluUVYeOX2TX"
      },
      "outputs": [],
      "source": [
        "#use curl to download the data then unzip it into the content directory\n",
        "!curl -O https://datarepo.eng.ucsd.edu/mcauley_group/data/amazon_2023/raw/review_categories/Automotive.jsonl.gz\n",
        "!gunzip -f Automotive.jsonl.gz"
      ]
    },
    {
      "cell_type": "markdown",
      "metadata": {
        "id": "MBWacreZ8BNR"
      },
      "source": [
        "<sup>Data Source: [Amazon Reviews](https://amazon-reviews-2023.github.io/#) from UCSD by Hou, Yupeng and Li, Jiacheng and He, Zhankui and Yan, An and Chen, Xiusi and McAuley, Julian</sup>"
      ]
    },
    {
      "cell_type": "code",
      "execution_count": null,
      "metadata": {
        "id": "AENSsTTOg--C"
      },
      "outputs": [],
      "source": [
        "print(f'The size of the Amazon Automotive Revie file is: {os.path.getsize(\"/content/Automotive.jsonl\") / (1024 ** 3):.2f} GB')"
      ]
    },
    {
      "cell_type": "markdown",
      "metadata": {
        "id": "-z6xk1MsjHIC"
      },
      "source": [
        "### **Creating a Spark Session**"
      ]
    },
    {
      "cell_type": "code",
      "execution_count": null,
      "metadata": {
        "id": "oHmxoDNFjHZi"
      },
      "outputs": [],
      "source": [
        "spark = SparkSession.builder.appName('AutomotiveData').getOrCreate()\n",
        "\n",
        "print(f'The Spark version is {spark.version}')"
      ]
    },
    {
      "cell_type": "markdown",
      "metadata": {
        "id": "Fx2XwRyseVs4"
      },
      "source": [
        "### **Reading in the Data**"
      ]
    },
    {
      "cell_type": "markdown",
      "metadata": {
        "id": "V6iwjxsigwnB"
      },
      "source": [
        "#### **pandas**"
      ]
    },
    {
      "cell_type": "code",
      "execution_count": null,
      "metadata": {
        "id": "NQJUBKKSeF4p"
      },
      "outputs": [],
      "source": [
        "#attempting to read a 8 GB file into a pandas DataFrame will cause the session to crash\n",
        "pandas_df = pd.read_json('/content/Automotive.jsonl', lines=True)\n",
        "print(pandas_df.head())"
      ]
    },
    {
      "cell_type": "markdown",
      "metadata": {
        "id": "L3I3a2rOh6wC"
      },
      "source": [
        "#### **PySpark**"
      ]
    },
    {
      "cell_type": "code",
      "execution_count": null,
      "metadata": {
        "id": "1a0NFeD5O5f-"
      },
      "outputs": [],
      "source": [
        "schema = StructType([\n",
        "    StructField(\"asin\", StringType(), True),\n",
        "    StructField(\"helpful_vote\", IntegerType(), True),\n",
        "    StructField(\"images\", StringType(), True),\n",
        "    StructField(\"parent_asin\", StringType(), True),\n",
        "    StructField(\"rating\", DoubleType(), True),\n",
        "    StructField(\"text\", StringType(), True),\n",
        "    StructField(\"timestamp\", TimestampType(), True),\n",
        "    StructField(\"title\", StringType(), True),\n",
        "    StructField(\"user_id\", StringType(), True),\n",
        "    StructField(\"verified_purchase\", StringType(), True)\n",
        "])"
      ]
    },
    {
      "cell_type": "code",
      "execution_count": null,
      "metadata": {
        "id": "s_CKp_kSci8T"
      },
      "outputs": [],
      "source": [
        "spark_df = spark.read.schema(schema).json('/content/Automotive.jsonl')"
      ]
    },
    {
      "cell_type": "markdown",
      "metadata": {
        "id": "B2e7L4timf06"
      },
      "source": [
        "### **PySpark Operations**"
      ]
    },
    {
      "cell_type": "code",
      "execution_count": null,
      "metadata": {
        "id": "em3LyWUImyqL"
      },
      "outputs": [],
      "source": [
        "#display first 5 rows of the pyspark DataFrame\n",
        "print(spark_df.show(5))"
      ]
    },
    {
      "cell_type": "code",
      "execution_count": null,
      "metadata": {
        "id": "S3lnhfBWm0Lr"
      },
      "outputs": [],
      "source": [
        "#print the columns and datatypes of the DataFrame\n",
        "spark_df.printSchema()"
      ]
    },
    {
      "cell_type": "code",
      "execution_count": null,
      "metadata": {
        "id": "wc-z7HpWu3B2"
      },
      "outputs": [],
      "source": [
        "#retrieve summary statistics for the DataFrame\n",
        "spark_df.describe().show()"
      ]
    },
    {
      "cell_type": "code",
      "execution_count": null,
      "metadata": {
        "id": "-3JSiaHuvEGN"
      },
      "outputs": [],
      "source": [
        "#retrieve value counts for the rating column\n",
        "spark_df.groupBy('rating').count().show()"
      ]
    },
    {
      "cell_type": "markdown",
      "metadata": {
        "id": "s6s10rjofSpZ"
      },
      "source": [
        "## **Limitations of PySpark within Google Colab**\n",
        "\n",
        "**Google Colab provides a platform to Google Account holders for no additional monetary fee; because of this resources within Google Colab are limited. Additionally the computation will be slower because of cloud latency. Within the tutorial we saw how long it can take to read a 8 GB file into a PySpark DataFrame or running calculations within a Google Colab session. For the free edition of Google Colab using PySpark can be great for learning PySpark or working with early stage prototype scripts. However, the free version of Google Colab should not be used for development or productions purposes.**\n",
        "\n",
        "**Consider working with datasets 2GB or smaller in Google Colab when using PySpark.**"
      ]
    },
    {
      "cell_type": "markdown",
      "metadata": {
        "id": "8bryll2djqgi"
      },
      "source": [
        "<sup>Source: [Google Colab Frequently Asked Questions](https://research.google.com/colaboratory/faq.html)</sup>"
      ]
    },
    {
      "cell_type": "markdown",
      "metadata": {
        "id": "yKNxQRszk3mr"
      },
      "source": [
        "# **References and Additional Learning**"
      ]
    },
    {
      "cell_type": "markdown",
      "metadata": {
        "id": "I09itkOt8koZ"
      },
      "source": [
        "## **Data**\n",
        "\n",
        "- **[Amazon Reviews](https://amazon-reviews-2023.github.io/#) from UCSD by Hou, Yupeng and Li, Jiacheng and He, Zhankui and Yan, An and Chen, Xiusi and McAuley, Julian**"
      ]
    },
    {
      "cell_type": "markdown",
      "metadata": {
        "id": "ZY0UK87Evct9"
      },
      "source": [
        "## **Documentation**\n",
        "\n",
        "- **[Google Colab Frequently Asked Questions](https://research.google.com/colaboratory/faq.html) from research.google.com**\n",
        "\n",
        "- **[PySpark Documentation](https://spark.apache.org/docs/latest/api/python/index.html) from Apache.org**"
      ]
    },
    {
      "cell_type": "markdown",
      "metadata": {
        "id": "Mf_fVqj5k4PT"
      },
      "source": [
        "# **Connect**\n",
        "- **Feel free to connect with Adrian on [YouTube](https://www.youtube.com/channel/UCPuDxI3xb_ryUUMfkm0jsRA), [LinkedIn](https://www.linkedin.com/in/adrian-dolinay-frm-96a289106/), [X](https://twitter.com/DolinayG), [GitHub](https://github.com/ad17171717), [Medium](https://adriandolinay.medium.com/) and [Odysee](https://odysee.com/@adriandolinay:0). Happy coding!**"
      ]
    }
  ],
  "metadata": {
    "colab": {
      "provenance": [],
      "authorship_tag": "ABX9TyMmDUDaV8Byo68zg3APH3oi",
      "include_colab_link": true
    },
    "kernelspec": {
      "display_name": "Python 3",
      "name": "python3"
    },
    "language_info": {
      "name": "python"
    }
  },
  "nbformat": 4,
  "nbformat_minor": 0
}