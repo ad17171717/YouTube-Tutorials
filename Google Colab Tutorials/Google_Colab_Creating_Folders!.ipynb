{
  "nbformat": 4,
  "nbformat_minor": 0,
  "metadata": {
    "colab": {
      "provenance": [],
      "include_colab_link": true
    },
    "kernelspec": {
      "name": "python3",
      "display_name": "Python 3"
    },
    "language_info": {
      "name": "python"
    }
  },
  "cells": [
    {
      "cell_type": "markdown",
      "metadata": {
        "id": "view-in-github",
        "colab_type": "text"
      },
      "source": [
        "<a href=\"https://colab.research.google.com/github/ad17171717/YouTube-Tutorials/blob/main/Google%20Colab%20Tutorials/Google_Colab_Creating_Folders!.ipynb\" target=\"_parent\"><img src=\"https://colab.research.google.com/assets/colab-badge.svg\" alt=\"Open In Colab\"/></a>"
      ]
    },
    {
      "cell_type": "code",
      "source": [
        "import os"
      ],
      "metadata": {
        "id": "u51vzbiF8wwt"
      },
      "execution_count": null,
      "outputs": []
    },
    {
      "cell_type": "markdown",
      "source": [
        "# **Creating a Directory**\n",
        "\n",
        "**Within Google Colab a directory (folder) can be created with the graphical user interface (GUI), with bash through the command line interface (CLI) or with scripting using a language such as Python.**\n",
        "\n",
        "**The directories you create can either be non-persistent (meaning they will be deleted once the Colab runtime resets or is deleted) or persistent (saving the directory in Google Colab).**"
      ],
      "metadata": {
        "id": "66KKoVKB8wAV"
      }
    },
    {
      "cell_type": "markdown",
      "source": [
        "## **Creating Non-Persistent Directories**"
      ],
      "metadata": {
        "id": "AtF-zUpg8Tl-"
      }
    },
    {
      "cell_type": "code",
      "source": [
        "#by default the session's working directory is in the \"content directory\" which is non-persistent\n",
        "!pwd"
      ],
      "metadata": {
        "colab": {
          "base_uri": "https://localhost:8080/"
        },
        "id": "qwkZ2NMc7l4V",
        "outputId": "d1f53593-7593-48c3-d1d0-ecff1010c903"
      },
      "execution_count": null,
      "outputs": [
        {
          "output_type": "stream",
          "name": "stdout",
          "text": [
            "/content\n"
          ]
        }
      ]
    },
    {
      "cell_type": "code",
      "source": [
        "!mkdir folder_2"
      ],
      "metadata": {
        "id": "y9BorakJ7meV"
      },
      "execution_count": null,
      "outputs": []
    },
    {
      "cell_type": "code",
      "source": [
        "os.mkdir('folder_3')"
      ],
      "metadata": {
        "id": "E3YzFliN8meV"
      },
      "execution_count": null,
      "outputs": []
    },
    {
      "cell_type": "markdown",
      "source": [
        "## **Creating Persistent Directories**"
      ],
      "metadata": {
        "id": "BcOKVKJ68knt"
      }
    },
    {
      "cell_type": "code",
      "source": [
        "!mkdir '/content/drive/MyDrive/folder_2'"
      ],
      "metadata": {
        "id": "g1slbcvC8lz-"
      },
      "execution_count": null,
      "outputs": []
    },
    {
      "cell_type": "code",
      "source": [
        "os.mkdir('/content/drive/MyDrive/folder_3')"
      ],
      "metadata": {
        "id": "FgqsoFqi8l91"
      },
      "execution_count": null,
      "outputs": []
    },
    {
      "cell_type": "markdown",
      "source": [
        "# **Connect**\n",
        "- **Feel free to connect with Adrian on [YouTube](https://www.youtube.com/channel/UCPuDxI3xb_ryUUMfkm0jsRA), [LinkedIn](https://www.linkedin.com/in/adrian-dolinay-frm-96a289106/), [Twitter](https://twitter.com/DolinayG), [GitHub](https://github.com/ad17171717), [Medium](https://adriandolinay.medium.com/) and [Odysee](https://odysee.com/@adriandolinay:0). Happy coding!**"
      ],
      "metadata": {
        "id": "_mbu-mrJ9oPt"
      }
    }
  ]
}