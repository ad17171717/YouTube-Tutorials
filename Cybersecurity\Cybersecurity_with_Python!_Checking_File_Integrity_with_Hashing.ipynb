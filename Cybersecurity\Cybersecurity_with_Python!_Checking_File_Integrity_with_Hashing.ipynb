{
  "nbformat": 4,
  "nbformat_minor": 0,
  "metadata": {
    "colab": {
      "provenance": [],
      "authorship_tag": "ABX9TyPlkdGK/kbYa6Y9DbTpRqjL",
      "include_colab_link": true
    },
    "kernelspec": {
      "name": "python3",
      "display_name": "Python 3"
    },
    "language_info": {
      "name": "python"
    }
  },
  "cells": [
    {
      "cell_type": "markdown",
      "metadata": {
        "id": "view-in-github",
        "colab_type": "text"
      },
      "source": [
        "<a href=\"https://colab.research.google.com/github/ad17171717/YouTube-Tutorials/blob/main/Cybersecurity%5CCybersecurity_with_Python!_Checking_File_Integrity_with_Hashing.ipynb\" target=\"_parent\"><img src=\"https://colab.research.google.com/assets/colab-badge.svg\" alt=\"Open In Colab\"/></a>"
      ]
    },
    {
      "cell_type": "code",
      "execution_count": 1,
      "metadata": {
        "id": "PQtMnds642H0"
      },
      "outputs": [],
      "source": [
        "import hashlib"
      ]
    },
    {
      "cell_type": "markdown",
      "source": [
        "# **Hashing**\n",
        "\n",
        "**A hashing algorithm converts a plaintext object such as a number or string into a hash value. A hashing algorithm uses a hash function to convert a variable sized input to a fixed sized output.**\n",
        "\n",
        "**For example we can take the string \"Hello\" and apply the SHA256 hashing algorithm which outputs a 256 bit hexadecimal string:\"2cf24dba5fb0a30e26e83b2ac5b9e29e1b161e5c1fa7425e73043362938b9824\n",
        "\".**\n",
        "\n",
        "**There are numerous hashing algorithms. The table below lists well known hashing algorithms that are available in the `hashlib` module which is part of Python's standard library.**\n",
        "\n",
        "**The digest size refers to the output size of a hashing algorithm, usually represented in bits. For example the SHA-256 hash output is always 256 bits (32 bytes), regardless of the input size. Internally, SHA-256 processes data in 512-bit blocks, applying a series of transformations. The block size refers to the size of chunks the hashing function processes at a time, before applying compression functions in its internal rounds. If the data is larger than the block size, it is split into multiple parts before being hashed. If it is smaller than the algorithm will pad the data with binary numbers (0 and 1s) until it is the same size as the block size. The SHA256 Algorithm has a block size of 512 bits. The final column indicates if there is a known collision for an algorithm. A collision is when two different inputs generate the same output for a hashing algorithm. Algorithms with known collisions are insecure because digital signatures can be faked with an insecure algorithm.**"
      ],
      "metadata": {
        "id": "elXo6WVfK4C3"
      }
    },
    {
      "cell_type": "markdown",
      "source": [
        "<sup>Source: [Computer Science 161: Integrity, Hashes & \"Random\" Numbers](https://inst.eecs.berkeley.edu/~cs161/fa17/lectures/lec6_crypto_integrity.pdf) by Nicholas Weaver from inst.eecs.berkeley.edu</sup>\n",
        "\n",
        "<sup>Source: [Secure Hash Standard](https://cis.temple.edu/~giorgio/cis307/readings/sha1.html) by Giorgio Ingargiola from cis.temple.edu</sup>"
      ],
      "metadata": {
        "id": "iRim621lZ4_n"
      }
    },
    {
      "cell_type": "markdown",
      "source": [
        "| Algorithm Name | Digest Size (in bits) | Block Size (in bits) | Known Collision |\n",
        "|---------------|----------------------|---------------------|----------------|\n",
        "| SHA-1        | 160                  | 512                 | True           |\n",
        "| SHA-256      | 256                  | 512                 | False          |\n",
        "| SHA-512      | 512                  | 1024                | False          |\n",
        "| MD5          | 128                  | 512                 | True           |"
      ],
      "metadata": {
        "id": "tbKUxcY-Ra7_"
      }
    },
    {
      "cell_type": "markdown",
      "source": [
        "## **File Integrity with Hashing**\n",
        "\n",
        "**Hashing is used to verify the digital integrity of a file. A hashing algorithm has a property called the Avalanche Effect where a small change to the input will create a significantly different output. When a file is first created it can be hashed and the output saved. If there is a suspected change to the file it can be hashed again to check if there is a difference between the initial hash output and current hash output.**"
      ],
      "metadata": {
        "id": "Q6bJ0D7PVMRq"
      }
    },
    {
      "cell_type": "markdown",
      "source": [
        "<sup>Source: [Cryptographic Hash Functions](https://ics.uci.edu/~alfchen/teaching/cs134-2019-Fall/slides/LEC5-134.pdf) by Alfred Chen from ics.uci.edu</sup>"
      ],
      "metadata": {
        "id": "rnAVVaJLZVj0"
      }
    },
    {
      "cell_type": "markdown",
      "source": [
        "### **Example: Checking the File Integrity of a PDF Contract**\n",
        "\n",
        "**A contract has been signed between two parties. After the contract has been signed a hash value is generated of the file using Python. After the file has been signed a malicious actor makes a change to the contract. If we are suspicious that the file has been tampered with then we can take the current hash of the file and compare it to the initial hash of the file.**"
      ],
      "metadata": {
        "id": "e-5eHo-OYKL0"
      }
    },
    {
      "cell_type": "markdown",
      "source": [
        "### **Python Function to Hash a File**"
      ],
      "metadata": {
        "id": "4dpMee8G6vNU"
      }
    },
    {
      "cell_type": "code",
      "source": [
        "def hash_file(file_path: str, algorithm: str ='sha256', chunk_size: int =8192) -> str:\n",
        "    '''\n",
        "    Function that computes the hash of a file using the specified algorithm.\n",
        "\n",
        "    Parameters\n",
        "    ----------\n",
        "    file_path = The path to the file that will be hashed.\n",
        "    algorithm = The algorithm used to hash the file. By default the\n",
        "    algorithm is sha256. From the hashlib module the below algorithms\n",
        "    are available as of March 2025:\n",
        "    - sha1\n",
        "    - sha224\n",
        "    - sha256\n",
        "    - sha384\n",
        "    - sha512\n",
        "    - sha3_224\n",
        "    - sha3_256\n",
        "    - sha3_384\n",
        "    - sha3_512\n",
        "    - shake_128\n",
        "    - shake_256\n",
        "    - blake2b\n",
        "    - blake2s\n",
        "    chunk_size = size in bytes of the chunks read from the file being hashed.\n",
        "    By default the check_size is approximately 8 kilobytes.\n",
        "\n",
        "    Returns\n",
        "    -------\n",
        "    hash_output: Returns the hash value as a string.\n",
        "\n",
        "    '''\n",
        "\n",
        "    hasher = hashlib.new(algorithm)\n",
        "    with open(file_path, 'rb') as f:\n",
        "        for chunk in iter(lambda: f.read(chunk_size), b''):\n",
        "            hasher.update(chunk)\n",
        "    hash_output = hasher.hexdigest()\n",
        "\n",
        "    return hash_output"
      ],
      "metadata": {
        "id": "PFUzBlSL9FPd"
      },
      "execution_count": 2,
      "outputs": []
    },
    {
      "cell_type": "markdown",
      "source": [
        "### **Retrieve the Hashes of the Files**"
      ],
      "metadata": {
        "id": "PUJhtneCPS0J"
      }
    },
    {
      "cell_type": "code",
      "source": [
        "fp_initial ='contract.txt'\n",
        "initial_hash = hash_file(fp_initial)\n",
        "print(f'The initial SHA256 hash of the file {fp_initial} is\\n{initial_hash}')"
      ],
      "metadata": {
        "colab": {
          "base_uri": "https://localhost:8080/"
        },
        "id": "9RZYCH3u9G22",
        "outputId": "a02602b9-3586-4668-d25d-67eeae0fdade"
      },
      "execution_count": 3,
      "outputs": [
        {
          "output_type": "stream",
          "name": "stdout",
          "text": [
            "The initial SHA256 hash of the file contract.txt is\n",
            "c879d7ecf3ddf66cbc6863bb6b6a20be5b71daa236b2f34ed463102e74b2f08a\n"
          ]
        }
      ]
    },
    {
      "cell_type": "code",
      "source": [
        "fp_second = 'contract (copy).txt'\n",
        "second_hash = hash_file(fp_second)\n",
        "print(f'The second SHA256 hash of the file {fp_initial} is\\n{second_hash}')"
      ],
      "metadata": {
        "colab": {
          "base_uri": "https://localhost:8080/"
        },
        "id": "c7w8HJy6-lLL",
        "outputId": "9679ba3b-b04e-4ba2-fdc6-6d8f8a3c5706"
      },
      "execution_count": 4,
      "outputs": [
        {
          "output_type": "stream",
          "name": "stdout",
          "text": [
            "The second SHA256 hash of the file contract.txt is\n",
            "4e8409785600cc3ae8a6cc57efa11fde3a3e9b1948ea4771d86c65a341934858\n"
          ]
        }
      ]
    },
    {
      "cell_type": "markdown",
      "source": [
        "### **Compare the Hashes of the Files**"
      ],
      "metadata": {
        "id": "ou1dbaLaPWRU"
      }
    },
    {
      "cell_type": "code",
      "source": [
        "if initial_hash == second_hash:\n",
        "  print('The hashes matches! We can confirm the digital integrity of the file.')\n",
        "else:\n",
        "  print('The hashes do not match... We cannot confirm the digital integrity of the file.')"
      ],
      "metadata": {
        "id": "NkaPP_izWpeh",
        "colab": {
          "base_uri": "https://localhost:8080/"
        },
        "outputId": "64835d95-c661-406b-ba8d-255a49bc8d9b"
      },
      "execution_count": 5,
      "outputs": [
        {
          "output_type": "stream",
          "name": "stdout",
          "text": [
            "The hashes do not match... We cannot confirm the digital integrity of the file.\n"
          ]
        }
      ]
    },
    {
      "cell_type": "markdown",
      "source": [
        "# **References and Additional Learning**"
      ],
      "metadata": {
        "id": "vt5tvtlbJtZr"
      }
    },
    {
      "cell_type": "markdown",
      "source": [
        "## **Classes**\n",
        "\n",
        "- **[Computer Science 161: Integrity, Hashes & \"Random\" Numbers](https://inst.eecs.berkeley.edu/~cs161/fa17/lectures/lec6_crypto_integrity.pdf) by Nicholas Weaver from inst.eecs.berkeley.edu**\n",
        "\n",
        "- **[Cryptographic Hash Functions](https://ics.uci.edu/~alfchen/teaching/cs134-2019-Fall/slides/LEC5-134.pdf) by Alfred Chen from ics.uci.edu**\n",
        "\n",
        "- **[Secure Hash Standard](https://cis.temple.edu/~giorgio/cis307/readings/sha1.html) by Giorgio Ingargiola from cis.temple.edu**"
      ],
      "metadata": {
        "id": "gvXchpGmaZau"
      }
    },
    {
      "cell_type": "markdown",
      "source": [
        "# **Connect**\n",
        "- **Feel free to connect with Adrian on [YouTube](https://www.youtube.com/channel/UCPuDxI3xb_ryUUMfkm0jsRA), [LinkedIn](https://www.linkedin.com/in/adrian-dolinay-frm-96a289106/), [X](https://twitter.com/DolinayG), [GitHub](https://github.com/ad17171717), [Medium](https://adriandolinay.medium.com/) and [Odysee](https://odysee.com/@adriandolinay:0). Happy coding!**"
      ],
      "metadata": {
        "id": "ylqIIk6EJwAG"
      }
    },
    {
      "cell_type": "markdown",
      "source": [
        "# **Podcast**\n",
        "\n",
        "- **Check out Adrian's Podcast, The Aspiring STEM Geek on [YouTube](https://www.youtube.com/@AdrianDolinay/podcasts), [Spotify](https://open.spotify.com/show/60dPNJbDPaPw7ru8g5btxV), [Apple Podcasts](https://podcasts.apple.com/us/podcast/the-aspiring-stem-geek/id1765996824), [Audible](https://www.audible.com/podcast/The-Aspiring-STEM-Geek/B0DC73S9SN?eac_link=MCFKvkxuqKYU&ref=web_search_eac_asin_1&eac_selected_type=asin&eac_selected=B0DC73S9SN&qid=IrZ84nGqvz&eac_id=141-8769271-5781515_IrZ84nGqvz&sr=1-1) and [iHeart Radio](https://www.iheart.com/podcast/269-the-aspiring-stem-geek-202676097/)!**"
      ],
      "metadata": {
        "id": "0buQLCJ4Jx7i"
      }
    }
  ]
}